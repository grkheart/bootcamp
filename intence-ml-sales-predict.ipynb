{
 "cells": [
  {
   "cell_type": "markdown",
   "id": "2c53651b",
   "metadata": {
    "id": "eNXoDi4-iYxz",
    "papermill": {
     "duration": 0.00755,
     "end_time": "2022-09-17T09:11:15.204571",
     "exception": false,
     "start_time": "2022-09-17T09:11:15.197021",
     "status": "completed"
    },
    "tags": []
   },
   "source": [
    "# Импорт библиотек"
   ]
  },
  {
   "cell_type": "code",
   "execution_count": 1,
   "id": "c2727644",
   "metadata": {
    "execution": {
     "iopub.execute_input": "2022-09-17T09:11:15.222089Z",
     "iopub.status.busy": "2022-09-17T09:11:15.221544Z",
     "iopub.status.idle": "2022-09-17T09:11:16.411246Z",
     "shell.execute_reply": "2022-09-17T09:11:16.409473Z"
    },
    "id": "4DJuuGiiiYx4",
    "papermill": {
     "duration": 1.201381,
     "end_time": "2022-09-17T09:11:16.414030",
     "exception": false,
     "start_time": "2022-09-17T09:11:15.212649",
     "status": "completed"
    },
    "tags": []
   },
   "outputs": [],
   "source": [
    "import pandas as pd\n",
    "import numpy as np\n",
    "from sklearn import linear_model"
   ]
  },
  {
   "cell_type": "markdown",
   "id": "57f74455",
   "metadata": {
    "id": "wVRjjT7nib0r",
    "papermill": {
     "duration": 0.007183,
     "end_time": "2022-09-17T09:11:16.428772",
     "exception": false,
     "start_time": "2022-09-17T09:11:16.421589",
     "status": "completed"
    },
    "tags": []
   },
   "source": [
    "<img src='https://drive.google.com/uc?export=view&id=1q1pSMnZVVhVeE9l2zGckBCF33BS2vKBd'>"
   ]
  },
  {
   "cell_type": "markdown",
   "id": "b3cf6cdf",
   "metadata": {
    "id": "DuVEp1J1iYx7",
    "papermill": {
     "duration": 0.006857,
     "end_time": "2022-09-17T09:11:16.442913",
     "exception": false,
     "start_time": "2022-09-17T09:11:16.436056",
     "status": "completed"
    },
    "tags": []
   },
   "source": [
    "# Загрузка данных"
   ]
  },
  {
   "cell_type": "code",
   "execution_count": 2,
   "id": "35ceec33",
   "metadata": {
    "execution": {
     "iopub.execute_input": "2022-09-17T09:11:16.459601Z",
     "iopub.status.busy": "2022-09-17T09:11:16.459204Z",
     "iopub.status.idle": "2022-09-17T09:11:18.065170Z",
     "shell.execute_reply": "2022-09-17T09:11:18.063810Z"
    },
    "id": "eQCXr9EXiYx8",
    "papermill": {
     "duration": 1.617264,
     "end_time": "2022-09-17T09:11:18.067565",
     "exception": false,
     "start_time": "2022-09-17T09:11:16.450301",
     "status": "completed"
    },
    "tags": []
   },
   "outputs": [],
   "source": [
    "df = pd.read_csv('../input/finalcsv/final.csv')"
   ]
  },
  {
   "cell_type": "code",
   "execution_count": 3,
   "id": "a2b025b7",
   "metadata": {
    "execution": {
     "iopub.execute_input": "2022-09-17T09:11:18.084534Z",
     "iopub.status.busy": "2022-09-17T09:11:18.084193Z",
     "iopub.status.idle": "2022-09-17T09:11:18.111465Z",
     "shell.execute_reply": "2022-09-17T09:11:18.110522Z"
    },
    "id": "cREpCTKBiYx8",
    "outputId": "aa60ca85-f662-4bfc-bf5d-d1e870c4f637",
    "papermill": {
     "duration": 0.037833,
     "end_time": "2022-09-17T09:11:18.113755",
     "exception": false,
     "start_time": "2022-09-17T09:11:18.075922",
     "status": "completed"
    },
    "tags": []
   },
   "outputs": [
    {
     "data": {
      "text/html": [
       "<div>\n",
       "<style scoped>\n",
       "    .dataframe tbody tr th:only-of-type {\n",
       "        vertical-align: middle;\n",
       "    }\n",
       "\n",
       "    .dataframe tbody tr th {\n",
       "        vertical-align: top;\n",
       "    }\n",
       "\n",
       "    .dataframe thead th {\n",
       "        text-align: right;\n",
       "    }\n",
       "</style>\n",
       "<table border=\"1\" class=\"dataframe\">\n",
       "  <thead>\n",
       "    <tr style=\"text-align: right;\">\n",
       "      <th></th>\n",
       "      <th>store</th>\n",
       "      <th>dayofweek</th>\n",
       "      <th>date</th>\n",
       "      <th>sales</th>\n",
       "      <th>customers</th>\n",
       "      <th>open</th>\n",
       "      <th>promo</th>\n",
       "      <th>lat</th>\n",
       "      <th>lon</th>\n",
       "    </tr>\n",
       "  </thead>\n",
       "  <tbody>\n",
       "    <tr>\n",
       "      <th>0</th>\n",
       "      <td>1</td>\n",
       "      <td>3</td>\n",
       "      <td>2018-01-01</td>\n",
       "      <td>5530</td>\n",
       "      <td>668</td>\n",
       "      <td>1</td>\n",
       "      <td>0</td>\n",
       "      <td>55.682829</td>\n",
       "      <td>37.416212</td>\n",
       "    </tr>\n",
       "    <tr>\n",
       "      <th>1</th>\n",
       "      <td>2</td>\n",
       "      <td>3</td>\n",
       "      <td>2018-01-01</td>\n",
       "      <td>4422</td>\n",
       "      <td>650</td>\n",
       "      <td>1</td>\n",
       "      <td>0</td>\n",
       "      <td>55.686410</td>\n",
       "      <td>37.415503</td>\n",
       "    </tr>\n",
       "    <tr>\n",
       "      <th>2</th>\n",
       "      <td>3</td>\n",
       "      <td>3</td>\n",
       "      <td>2018-01-01</td>\n",
       "      <td>6823</td>\n",
       "      <td>805</td>\n",
       "      <td>1</td>\n",
       "      <td>0</td>\n",
       "      <td>55.885081</td>\n",
       "      <td>37.476452</td>\n",
       "    </tr>\n",
       "    <tr>\n",
       "      <th>3</th>\n",
       "      <td>4</td>\n",
       "      <td>3</td>\n",
       "      <td>2018-01-01</td>\n",
       "      <td>9941</td>\n",
       "      <td>1429</td>\n",
       "      <td>1</td>\n",
       "      <td>0</td>\n",
       "      <td>55.711356</td>\n",
       "      <td>37.389027</td>\n",
       "    </tr>\n",
       "    <tr>\n",
       "      <th>4</th>\n",
       "      <td>5</td>\n",
       "      <td>3</td>\n",
       "      <td>2018-01-01</td>\n",
       "      <td>4253</td>\n",
       "      <td>577</td>\n",
       "      <td>1</td>\n",
       "      <td>0</td>\n",
       "      <td>55.902867</td>\n",
       "      <td>37.609132</td>\n",
       "    </tr>\n",
       "    <tr>\n",
       "      <th>...</th>\n",
       "      <td>...</td>\n",
       "      <td>...</td>\n",
       "      <td>...</td>\n",
       "      <td>...</td>\n",
       "      <td>...</td>\n",
       "      <td>...</td>\n",
       "      <td>...</td>\n",
       "      <td>...</td>\n",
       "      <td>...</td>\n",
       "    </tr>\n",
       "    <tr>\n",
       "      <th>1016090</th>\n",
       "      <td>1111</td>\n",
       "      <td>5</td>\n",
       "      <td>2020-07-29</td>\n",
       "      <td>5723</td>\n",
       "      <td>422</td>\n",
       "      <td>1</td>\n",
       "      <td>1</td>\n",
       "      <td>55.878577</td>\n",
       "      <td>37.706292</td>\n",
       "    </tr>\n",
       "    <tr>\n",
       "      <th>1016091</th>\n",
       "      <td>1112</td>\n",
       "      <td>5</td>\n",
       "      <td>2020-07-29</td>\n",
       "      <td>9626</td>\n",
       "      <td>767</td>\n",
       "      <td>1</td>\n",
       "      <td>1</td>\n",
       "      <td>55.791374</td>\n",
       "      <td>37.823187</td>\n",
       "    </tr>\n",
       "    <tr>\n",
       "      <th>1016092</th>\n",
       "      <td>1113</td>\n",
       "      <td>5</td>\n",
       "      <td>2020-07-29</td>\n",
       "      <td>7289</td>\n",
       "      <td>720</td>\n",
       "      <td>1</td>\n",
       "      <td>1</td>\n",
       "      <td>55.756921</td>\n",
       "      <td>37.824353</td>\n",
       "    </tr>\n",
       "    <tr>\n",
       "      <th>1016093</th>\n",
       "      <td>1114</td>\n",
       "      <td>5</td>\n",
       "      <td>2020-07-29</td>\n",
       "      <td>27508</td>\n",
       "      <td>3745</td>\n",
       "      <td>1</td>\n",
       "      <td>1</td>\n",
       "      <td>55.798922</td>\n",
       "      <td>37.822139</td>\n",
       "    </tr>\n",
       "    <tr>\n",
       "      <th>1016094</th>\n",
       "      <td>1115</td>\n",
       "      <td>5</td>\n",
       "      <td>2020-07-29</td>\n",
       "      <td>8680</td>\n",
       "      <td>538</td>\n",
       "      <td>1</td>\n",
       "      <td>1</td>\n",
       "      <td>55.582867</td>\n",
       "      <td>37.653329</td>\n",
       "    </tr>\n",
       "  </tbody>\n",
       "</table>\n",
       "<p>1016095 rows × 9 columns</p>\n",
       "</div>"
      ],
      "text/plain": [
       "         store  dayofweek        date  sales  customers  open  promo  \\\n",
       "0            1          3  2018-01-01   5530        668     1      0   \n",
       "1            2          3  2018-01-01   4422        650     1      0   \n",
       "2            3          3  2018-01-01   6823        805     1      0   \n",
       "3            4          3  2018-01-01   9941       1429     1      0   \n",
       "4            5          3  2018-01-01   4253        577     1      0   \n",
       "...        ...        ...         ...    ...        ...   ...    ...   \n",
       "1016090   1111          5  2020-07-29   5723        422     1      1   \n",
       "1016091   1112          5  2020-07-29   9626        767     1      1   \n",
       "1016092   1113          5  2020-07-29   7289        720     1      1   \n",
       "1016093   1114          5  2020-07-29  27508       3745     1      1   \n",
       "1016094   1115          5  2020-07-29   8680        538     1      1   \n",
       "\n",
       "               lat        lon  \n",
       "0        55.682829  37.416212  \n",
       "1        55.686410  37.415503  \n",
       "2        55.885081  37.476452  \n",
       "3        55.711356  37.389027  \n",
       "4        55.902867  37.609132  \n",
       "...            ...        ...  \n",
       "1016090  55.878577  37.706292  \n",
       "1016091  55.791374  37.823187  \n",
       "1016092  55.756921  37.824353  \n",
       "1016093  55.798922  37.822139  \n",
       "1016094  55.582867  37.653329  \n",
       "\n",
       "[1016095 rows x 9 columns]"
      ]
     },
     "execution_count": 3,
     "metadata": {},
     "output_type": "execute_result"
    }
   ],
   "source": [
    "df"
   ]
  },
  {
   "cell_type": "markdown",
   "id": "b643695f",
   "metadata": {
    "id": "9_Bi5A6xiYx9",
    "papermill": {
     "duration": 0.007205,
     "end_time": "2022-09-17T09:11:18.128511",
     "exception": false,
     "start_time": "2022-09-17T09:11:18.121306",
     "status": "completed"
    },
    "tags": []
   },
   "source": [
    "- store - магазин\n",
    "- dayofweek - день недели\n",
    "- date - дата\n",
    "- sales - продажи\n",
    "- customers - клиенты\n",
    "- open - открыт магазин или нет\n",
    "- promo - была ли промо акция\n",
    "- lat - широта\n",
    "- lon - долгота"
   ]
  },
  {
   "cell_type": "markdown",
   "id": "d5747964",
   "metadata": {
    "id": "zEGaRY4liYx-",
    "papermill": {
     "duration": 0.007126,
     "end_time": "2022-09-17T09:11:18.143055",
     "exception": false,
     "start_time": "2022-09-17T09:11:18.135929",
     "status": "completed"
    },
    "tags": []
   },
   "source": [
    "# Делаем прогноз на июль 2020 года"
   ]
  },
  {
   "cell_type": "markdown",
   "id": "f13ace28",
   "metadata": {
    "id": "Sx_ado6jjQnF",
    "papermill": {
     "duration": 0.007245,
     "end_time": "2022-09-17T09:11:18.157873",
     "exception": false,
     "start_time": "2022-09-17T09:11:18.150628",
     "status": "completed"
    },
    "tags": []
   },
   "source": [
    "<img src='https://drive.google.com/uc?export=view&id=1lkMiS2f-f-DwrBkEQIEp3HBxKm2Im9zX'>"
   ]
  },
  {
   "cell_type": "code",
   "execution_count": 4,
   "id": "e873681b",
   "metadata": {
    "execution": {
     "iopub.execute_input": "2022-09-17T09:11:18.174434Z",
     "iopub.status.busy": "2022-09-17T09:11:18.174103Z",
     "iopub.status.idle": "2022-09-17T09:11:18.332148Z",
     "shell.execute_reply": "2022-09-17T09:11:18.330958Z"
    },
    "id": "Fw3394X7iYx_",
    "papermill": {
     "duration": 0.169233,
     "end_time": "2022-09-17T09:11:18.334456",
     "exception": false,
     "start_time": "2022-09-17T09:11:18.165223",
     "status": "completed"
    },
    "tags": []
   },
   "outputs": [],
   "source": [
    "df_train = df[df['date'] < '2020-07-01']\n",
    "df_test = df[df['date'] >= '2020-07-01']"
   ]
  },
  {
   "cell_type": "code",
   "execution_count": 5,
   "id": "315bdb08",
   "metadata": {
    "execution": {
     "iopub.execute_input": "2022-09-17T09:11:18.352042Z",
     "iopub.status.busy": "2022-09-17T09:11:18.350945Z",
     "iopub.status.idle": "2022-09-17T09:11:18.366626Z",
     "shell.execute_reply": "2022-09-17T09:11:18.365532Z"
    },
    "id": "ZaL9ZNopmYI7",
    "outputId": "e75efd7f-d81d-46a1-dc10-bc7a3b7a886f",
    "papermill": {
     "duration": 0.026075,
     "end_time": "2022-09-17T09:11:18.368320",
     "exception": false,
     "start_time": "2022-09-17T09:11:18.342245",
     "status": "completed"
    },
    "tags": []
   },
   "outputs": [
    {
     "data": {
      "text/html": [
       "<div>\n",
       "<style scoped>\n",
       "    .dataframe tbody tr th:only-of-type {\n",
       "        vertical-align: middle;\n",
       "    }\n",
       "\n",
       "    .dataframe tbody tr th {\n",
       "        vertical-align: top;\n",
       "    }\n",
       "\n",
       "    .dataframe thead th {\n",
       "        text-align: right;\n",
       "    }\n",
       "</style>\n",
       "<table border=\"1\" class=\"dataframe\">\n",
       "  <thead>\n",
       "    <tr style=\"text-align: right;\">\n",
       "      <th></th>\n",
       "      <th>store</th>\n",
       "      <th>dayofweek</th>\n",
       "      <th>date</th>\n",
       "      <th>sales</th>\n",
       "      <th>customers</th>\n",
       "      <th>open</th>\n",
       "      <th>promo</th>\n",
       "      <th>lat</th>\n",
       "      <th>lon</th>\n",
       "    </tr>\n",
       "  </thead>\n",
       "  <tbody>\n",
       "    <tr>\n",
       "      <th>0</th>\n",
       "      <td>1</td>\n",
       "      <td>3</td>\n",
       "      <td>2018-01-01</td>\n",
       "      <td>5530</td>\n",
       "      <td>668</td>\n",
       "      <td>1</td>\n",
       "      <td>0</td>\n",
       "      <td>55.682829</td>\n",
       "      <td>37.416212</td>\n",
       "    </tr>\n",
       "    <tr>\n",
       "      <th>1</th>\n",
       "      <td>2</td>\n",
       "      <td>3</td>\n",
       "      <td>2018-01-01</td>\n",
       "      <td>4422</td>\n",
       "      <td>650</td>\n",
       "      <td>1</td>\n",
       "      <td>0</td>\n",
       "      <td>55.686410</td>\n",
       "      <td>37.415503</td>\n",
       "    </tr>\n",
       "    <tr>\n",
       "      <th>2</th>\n",
       "      <td>3</td>\n",
       "      <td>3</td>\n",
       "      <td>2018-01-01</td>\n",
       "      <td>6823</td>\n",
       "      <td>805</td>\n",
       "      <td>1</td>\n",
       "      <td>0</td>\n",
       "      <td>55.885081</td>\n",
       "      <td>37.476452</td>\n",
       "    </tr>\n",
       "    <tr>\n",
       "      <th>3</th>\n",
       "      <td>4</td>\n",
       "      <td>3</td>\n",
       "      <td>2018-01-01</td>\n",
       "      <td>9941</td>\n",
       "      <td>1429</td>\n",
       "      <td>1</td>\n",
       "      <td>0</td>\n",
       "      <td>55.711356</td>\n",
       "      <td>37.389027</td>\n",
       "    </tr>\n",
       "    <tr>\n",
       "      <th>4</th>\n",
       "      <td>5</td>\n",
       "      <td>3</td>\n",
       "      <td>2018-01-01</td>\n",
       "      <td>4253</td>\n",
       "      <td>577</td>\n",
       "      <td>1</td>\n",
       "      <td>0</td>\n",
       "      <td>55.902867</td>\n",
       "      <td>37.609132</td>\n",
       "    </tr>\n",
       "    <tr>\n",
       "      <th>...</th>\n",
       "      <td>...</td>\n",
       "      <td>...</td>\n",
       "      <td>...</td>\n",
       "      <td>...</td>\n",
       "      <td>...</td>\n",
       "      <td>...</td>\n",
       "      <td>...</td>\n",
       "      <td>...</td>\n",
       "      <td>...</td>\n",
       "    </tr>\n",
       "    <tr>\n",
       "      <th>983755</th>\n",
       "      <td>1111</td>\n",
       "      <td>4</td>\n",
       "      <td>2020-06-30</td>\n",
       "      <td>3945</td>\n",
       "      <td>329</td>\n",
       "      <td>1</td>\n",
       "      <td>1</td>\n",
       "      <td>55.878577</td>\n",
       "      <td>37.706292</td>\n",
       "    </tr>\n",
       "    <tr>\n",
       "      <th>983756</th>\n",
       "      <td>1112</td>\n",
       "      <td>4</td>\n",
       "      <td>2020-06-30</td>\n",
       "      <td>7447</td>\n",
       "      <td>577</td>\n",
       "      <td>1</td>\n",
       "      <td>1</td>\n",
       "      <td>55.791374</td>\n",
       "      <td>37.823187</td>\n",
       "    </tr>\n",
       "    <tr>\n",
       "      <th>983757</th>\n",
       "      <td>1113</td>\n",
       "      <td>4</td>\n",
       "      <td>2020-06-30</td>\n",
       "      <td>7932</td>\n",
       "      <td>793</td>\n",
       "      <td>1</td>\n",
       "      <td>1</td>\n",
       "      <td>55.756921</td>\n",
       "      <td>37.824353</td>\n",
       "    </tr>\n",
       "    <tr>\n",
       "      <th>983758</th>\n",
       "      <td>1114</td>\n",
       "      <td>4</td>\n",
       "      <td>2020-06-30</td>\n",
       "      <td>24898</td>\n",
       "      <td>3784</td>\n",
       "      <td>1</td>\n",
       "      <td>1</td>\n",
       "      <td>55.798922</td>\n",
       "      <td>37.822139</td>\n",
       "    </tr>\n",
       "    <tr>\n",
       "      <th>983759</th>\n",
       "      <td>1115</td>\n",
       "      <td>4</td>\n",
       "      <td>2020-06-30</td>\n",
       "      <td>6858</td>\n",
       "      <td>452</td>\n",
       "      <td>1</td>\n",
       "      <td>1</td>\n",
       "      <td>55.582867</td>\n",
       "      <td>37.653329</td>\n",
       "    </tr>\n",
       "  </tbody>\n",
       "</table>\n",
       "<p>983760 rows × 9 columns</p>\n",
       "</div>"
      ],
      "text/plain": [
       "        store  dayofweek        date  sales  customers  open  promo  \\\n",
       "0           1          3  2018-01-01   5530        668     1      0   \n",
       "1           2          3  2018-01-01   4422        650     1      0   \n",
       "2           3          3  2018-01-01   6823        805     1      0   \n",
       "3           4          3  2018-01-01   9941       1429     1      0   \n",
       "4           5          3  2018-01-01   4253        577     1      0   \n",
       "...       ...        ...         ...    ...        ...   ...    ...   \n",
       "983755   1111          4  2020-06-30   3945        329     1      1   \n",
       "983756   1112          4  2020-06-30   7447        577     1      1   \n",
       "983757   1113          4  2020-06-30   7932        793     1      1   \n",
       "983758   1114          4  2020-06-30  24898       3784     1      1   \n",
       "983759   1115          4  2020-06-30   6858        452     1      1   \n",
       "\n",
       "              lat        lon  \n",
       "0       55.682829  37.416212  \n",
       "1       55.686410  37.415503  \n",
       "2       55.885081  37.476452  \n",
       "3       55.711356  37.389027  \n",
       "4       55.902867  37.609132  \n",
       "...           ...        ...  \n",
       "983755  55.878577  37.706292  \n",
       "983756  55.791374  37.823187  \n",
       "983757  55.756921  37.824353  \n",
       "983758  55.798922  37.822139  \n",
       "983759  55.582867  37.653329  \n",
       "\n",
       "[983760 rows x 9 columns]"
      ]
     },
     "execution_count": 5,
     "metadata": {},
     "output_type": "execute_result"
    }
   ],
   "source": [
    "df_train"
   ]
  },
  {
   "cell_type": "code",
   "execution_count": 6,
   "id": "989ba15e",
   "metadata": {
    "execution": {
     "iopub.execute_input": "2022-09-17T09:11:18.385743Z",
     "iopub.status.busy": "2022-09-17T09:11:18.385412Z",
     "iopub.status.idle": "2022-09-17T09:11:18.401998Z",
     "shell.execute_reply": "2022-09-17T09:11:18.400706Z"
    },
    "id": "RWDxI-PtmY8a",
    "outputId": "7c923c25-258f-459a-ccd4-6b4d30884fbf",
    "papermill": {
     "duration": 0.028706,
     "end_time": "2022-09-17T09:11:18.404863",
     "exception": false,
     "start_time": "2022-09-17T09:11:18.376157",
     "status": "completed"
    },
    "tags": []
   },
   "outputs": [
    {
     "data": {
      "text/html": [
       "<div>\n",
       "<style scoped>\n",
       "    .dataframe tbody tr th:only-of-type {\n",
       "        vertical-align: middle;\n",
       "    }\n",
       "\n",
       "    .dataframe tbody tr th {\n",
       "        vertical-align: top;\n",
       "    }\n",
       "\n",
       "    .dataframe thead th {\n",
       "        text-align: right;\n",
       "    }\n",
       "</style>\n",
       "<table border=\"1\" class=\"dataframe\">\n",
       "  <thead>\n",
       "    <tr style=\"text-align: right;\">\n",
       "      <th></th>\n",
       "      <th>store</th>\n",
       "      <th>dayofweek</th>\n",
       "      <th>date</th>\n",
       "      <th>sales</th>\n",
       "      <th>customers</th>\n",
       "      <th>open</th>\n",
       "      <th>promo</th>\n",
       "      <th>lat</th>\n",
       "      <th>lon</th>\n",
       "    </tr>\n",
       "  </thead>\n",
       "  <tbody>\n",
       "    <tr>\n",
       "      <th>983760</th>\n",
       "      <td>1</td>\n",
       "      <td>5</td>\n",
       "      <td>2020-07-01</td>\n",
       "      <td>4665</td>\n",
       "      <td>538</td>\n",
       "      <td>1</td>\n",
       "      <td>1</td>\n",
       "      <td>55.682829</td>\n",
       "      <td>37.416212</td>\n",
       "    </tr>\n",
       "    <tr>\n",
       "      <th>983761</th>\n",
       "      <td>2</td>\n",
       "      <td>5</td>\n",
       "      <td>2020-07-01</td>\n",
       "      <td>4838</td>\n",
       "      <td>1029</td>\n",
       "      <td>1</td>\n",
       "      <td>1</td>\n",
       "      <td>55.686410</td>\n",
       "      <td>37.415503</td>\n",
       "    </tr>\n",
       "    <tr>\n",
       "      <th>983762</th>\n",
       "      <td>3</td>\n",
       "      <td>5</td>\n",
       "      <td>2020-07-01</td>\n",
       "      <td>8149</td>\n",
       "      <td>742</td>\n",
       "      <td>1</td>\n",
       "      <td>1</td>\n",
       "      <td>55.885081</td>\n",
       "      <td>37.476452</td>\n",
       "    </tr>\n",
       "    <tr>\n",
       "      <th>983763</th>\n",
       "      <td>4</td>\n",
       "      <td>5</td>\n",
       "      <td>2020-07-01</td>\n",
       "      <td>11543</td>\n",
       "      <td>1395</td>\n",
       "      <td>1</td>\n",
       "      <td>1</td>\n",
       "      <td>55.711356</td>\n",
       "      <td>37.389027</td>\n",
       "    </tr>\n",
       "    <tr>\n",
       "      <th>983764</th>\n",
       "      <td>5</td>\n",
       "      <td>5</td>\n",
       "      <td>2020-07-01</td>\n",
       "      <td>4475</td>\n",
       "      <td>527</td>\n",
       "      <td>1</td>\n",
       "      <td>1</td>\n",
       "      <td>55.902867</td>\n",
       "      <td>37.609132</td>\n",
       "    </tr>\n",
       "    <tr>\n",
       "      <th>...</th>\n",
       "      <td>...</td>\n",
       "      <td>...</td>\n",
       "      <td>...</td>\n",
       "      <td>...</td>\n",
       "      <td>...</td>\n",
       "      <td>...</td>\n",
       "      <td>...</td>\n",
       "      <td>...</td>\n",
       "      <td>...</td>\n",
       "    </tr>\n",
       "    <tr>\n",
       "      <th>1016090</th>\n",
       "      <td>1111</td>\n",
       "      <td>5</td>\n",
       "      <td>2020-07-29</td>\n",
       "      <td>5723</td>\n",
       "      <td>422</td>\n",
       "      <td>1</td>\n",
       "      <td>1</td>\n",
       "      <td>55.878577</td>\n",
       "      <td>37.706292</td>\n",
       "    </tr>\n",
       "    <tr>\n",
       "      <th>1016091</th>\n",
       "      <td>1112</td>\n",
       "      <td>5</td>\n",
       "      <td>2020-07-29</td>\n",
       "      <td>9626</td>\n",
       "      <td>767</td>\n",
       "      <td>1</td>\n",
       "      <td>1</td>\n",
       "      <td>55.791374</td>\n",
       "      <td>37.823187</td>\n",
       "    </tr>\n",
       "    <tr>\n",
       "      <th>1016092</th>\n",
       "      <td>1113</td>\n",
       "      <td>5</td>\n",
       "      <td>2020-07-29</td>\n",
       "      <td>7289</td>\n",
       "      <td>720</td>\n",
       "      <td>1</td>\n",
       "      <td>1</td>\n",
       "      <td>55.756921</td>\n",
       "      <td>37.824353</td>\n",
       "    </tr>\n",
       "    <tr>\n",
       "      <th>1016093</th>\n",
       "      <td>1114</td>\n",
       "      <td>5</td>\n",
       "      <td>2020-07-29</td>\n",
       "      <td>27508</td>\n",
       "      <td>3745</td>\n",
       "      <td>1</td>\n",
       "      <td>1</td>\n",
       "      <td>55.798922</td>\n",
       "      <td>37.822139</td>\n",
       "    </tr>\n",
       "    <tr>\n",
       "      <th>1016094</th>\n",
       "      <td>1115</td>\n",
       "      <td>5</td>\n",
       "      <td>2020-07-29</td>\n",
       "      <td>8680</td>\n",
       "      <td>538</td>\n",
       "      <td>1</td>\n",
       "      <td>1</td>\n",
       "      <td>55.582867</td>\n",
       "      <td>37.653329</td>\n",
       "    </tr>\n",
       "  </tbody>\n",
       "</table>\n",
       "<p>32335 rows × 9 columns</p>\n",
       "</div>"
      ],
      "text/plain": [
       "         store  dayofweek        date  sales  customers  open  promo  \\\n",
       "983760       1          5  2020-07-01   4665        538     1      1   \n",
       "983761       2          5  2020-07-01   4838       1029     1      1   \n",
       "983762       3          5  2020-07-01   8149        742     1      1   \n",
       "983763       4          5  2020-07-01  11543       1395     1      1   \n",
       "983764       5          5  2020-07-01   4475        527     1      1   \n",
       "...        ...        ...         ...    ...        ...   ...    ...   \n",
       "1016090   1111          5  2020-07-29   5723        422     1      1   \n",
       "1016091   1112          5  2020-07-29   9626        767     1      1   \n",
       "1016092   1113          5  2020-07-29   7289        720     1      1   \n",
       "1016093   1114          5  2020-07-29  27508       3745     1      1   \n",
       "1016094   1115          5  2020-07-29   8680        538     1      1   \n",
       "\n",
       "               lat        lon  \n",
       "983760   55.682829  37.416212  \n",
       "983761   55.686410  37.415503  \n",
       "983762   55.885081  37.476452  \n",
       "983763   55.711356  37.389027  \n",
       "983764   55.902867  37.609132  \n",
       "...            ...        ...  \n",
       "1016090  55.878577  37.706292  \n",
       "1016091  55.791374  37.823187  \n",
       "1016092  55.756921  37.824353  \n",
       "1016093  55.798922  37.822139  \n",
       "1016094  55.582867  37.653329  \n",
       "\n",
       "[32335 rows x 9 columns]"
      ]
     },
     "execution_count": 6,
     "metadata": {},
     "output_type": "execute_result"
    }
   ],
   "source": [
    "df_test"
   ]
  },
  {
   "cell_type": "markdown",
   "id": "12d61418",
   "metadata": {
    "id": "qK1Ns739iYx_",
    "papermill": {
     "duration": 0.00789,
     "end_time": "2022-09-17T09:11:18.420727",
     "exception": false,
     "start_time": "2022-09-17T09:11:18.412837",
     "status": "completed"
    },
    "tags": []
   },
   "source": [
    "# Возьмём несколько признаков"
   ]
  },
  {
   "cell_type": "code",
   "execution_count": 7,
   "id": "d866f5d4",
   "metadata": {
    "execution": {
     "iopub.execute_input": "2022-09-17T09:11:18.438334Z",
     "iopub.status.busy": "2022-09-17T09:11:18.438000Z",
     "iopub.status.idle": "2022-09-17T09:11:18.443072Z",
     "shell.execute_reply": "2022-09-17T09:11:18.442017Z"
    },
    "id": "-A-rxtcoiYyA",
    "papermill": {
     "duration": 0.016405,
     "end_time": "2022-09-17T09:11:18.445337",
     "exception": false,
     "start_time": "2022-09-17T09:11:18.428932",
     "status": "completed"
    },
    "tags": []
   },
   "outputs": [],
   "source": [
    "features = [\n",
    "    'store',\n",
    "    'dayofweek',\n",
    "    'customers',\n",
    "    'open',\n",
    "    'promo',\n",
    "]\n",
    "\n",
    "target = ['sales']"
   ]
  },
  {
   "cell_type": "code",
   "execution_count": 8,
   "id": "19cbca1d",
   "metadata": {
    "execution": {
     "iopub.execute_input": "2022-09-17T09:11:18.463506Z",
     "iopub.status.busy": "2022-09-17T09:11:18.463155Z",
     "iopub.status.idle": "2022-09-17T09:11:18.482765Z",
     "shell.execute_reply": "2022-09-17T09:11:18.481908Z"
    },
    "id": "HyhVfCzMNFEA",
    "papermill": {
     "duration": 0.031368,
     "end_time": "2022-09-17T09:11:18.484973",
     "exception": false,
     "start_time": "2022-09-17T09:11:18.453605",
     "status": "completed"
    },
    "tags": []
   },
   "outputs": [],
   "source": [
    "X_train = df_train[features]\n",
    "y_train = df_train[target]\n",
    "\n",
    "X_test = df_test[features]\n",
    "y_test = df_test[target]"
   ]
  },
  {
   "cell_type": "code",
   "execution_count": 9,
   "id": "58337317",
   "metadata": {
    "execution": {
     "iopub.execute_input": "2022-09-17T09:11:18.502173Z",
     "iopub.status.busy": "2022-09-17T09:11:18.501853Z",
     "iopub.status.idle": "2022-09-17T09:11:18.512008Z",
     "shell.execute_reply": "2022-09-17T09:11:18.511106Z"
    },
    "id": "QlZe6abxNPQP",
    "outputId": "6ffd22f6-4a7f-4ef7-e789-fd0526bacd06",
    "papermill": {
     "duration": 0.021071,
     "end_time": "2022-09-17T09:11:18.513924",
     "exception": false,
     "start_time": "2022-09-17T09:11:18.492853",
     "status": "completed"
    },
    "tags": []
   },
   "outputs": [
    {
     "data": {
      "text/html": [
       "<div>\n",
       "<style scoped>\n",
       "    .dataframe tbody tr th:only-of-type {\n",
       "        vertical-align: middle;\n",
       "    }\n",
       "\n",
       "    .dataframe tbody tr th {\n",
       "        vertical-align: top;\n",
       "    }\n",
       "\n",
       "    .dataframe thead th {\n",
       "        text-align: right;\n",
       "    }\n",
       "</style>\n",
       "<table border=\"1\" class=\"dataframe\">\n",
       "  <thead>\n",
       "    <tr style=\"text-align: right;\">\n",
       "      <th></th>\n",
       "      <th>store</th>\n",
       "      <th>dayofweek</th>\n",
       "      <th>customers</th>\n",
       "      <th>open</th>\n",
       "      <th>promo</th>\n",
       "    </tr>\n",
       "  </thead>\n",
       "  <tbody>\n",
       "    <tr>\n",
       "      <th>0</th>\n",
       "      <td>1</td>\n",
       "      <td>3</td>\n",
       "      <td>668</td>\n",
       "      <td>1</td>\n",
       "      <td>0</td>\n",
       "    </tr>\n",
       "    <tr>\n",
       "      <th>1</th>\n",
       "      <td>2</td>\n",
       "      <td>3</td>\n",
       "      <td>650</td>\n",
       "      <td>1</td>\n",
       "      <td>0</td>\n",
       "    </tr>\n",
       "    <tr>\n",
       "      <th>2</th>\n",
       "      <td>3</td>\n",
       "      <td>3</td>\n",
       "      <td>805</td>\n",
       "      <td>1</td>\n",
       "      <td>0</td>\n",
       "    </tr>\n",
       "    <tr>\n",
       "      <th>3</th>\n",
       "      <td>4</td>\n",
       "      <td>3</td>\n",
       "      <td>1429</td>\n",
       "      <td>1</td>\n",
       "      <td>0</td>\n",
       "    </tr>\n",
       "    <tr>\n",
       "      <th>4</th>\n",
       "      <td>5</td>\n",
       "      <td>3</td>\n",
       "      <td>577</td>\n",
       "      <td>1</td>\n",
       "      <td>0</td>\n",
       "    </tr>\n",
       "    <tr>\n",
       "      <th>...</th>\n",
       "      <td>...</td>\n",
       "      <td>...</td>\n",
       "      <td>...</td>\n",
       "      <td>...</td>\n",
       "      <td>...</td>\n",
       "    </tr>\n",
       "    <tr>\n",
       "      <th>983755</th>\n",
       "      <td>1111</td>\n",
       "      <td>4</td>\n",
       "      <td>329</td>\n",
       "      <td>1</td>\n",
       "      <td>1</td>\n",
       "    </tr>\n",
       "    <tr>\n",
       "      <th>983756</th>\n",
       "      <td>1112</td>\n",
       "      <td>4</td>\n",
       "      <td>577</td>\n",
       "      <td>1</td>\n",
       "      <td>1</td>\n",
       "    </tr>\n",
       "    <tr>\n",
       "      <th>983757</th>\n",
       "      <td>1113</td>\n",
       "      <td>4</td>\n",
       "      <td>793</td>\n",
       "      <td>1</td>\n",
       "      <td>1</td>\n",
       "    </tr>\n",
       "    <tr>\n",
       "      <th>983758</th>\n",
       "      <td>1114</td>\n",
       "      <td>4</td>\n",
       "      <td>3784</td>\n",
       "      <td>1</td>\n",
       "      <td>1</td>\n",
       "    </tr>\n",
       "    <tr>\n",
       "      <th>983759</th>\n",
       "      <td>1115</td>\n",
       "      <td>4</td>\n",
       "      <td>452</td>\n",
       "      <td>1</td>\n",
       "      <td>1</td>\n",
       "    </tr>\n",
       "  </tbody>\n",
       "</table>\n",
       "<p>983760 rows × 5 columns</p>\n",
       "</div>"
      ],
      "text/plain": [
       "        store  dayofweek  customers  open  promo\n",
       "0           1          3        668     1      0\n",
       "1           2          3        650     1      0\n",
       "2           3          3        805     1      0\n",
       "3           4          3       1429     1      0\n",
       "4           5          3        577     1      0\n",
       "...       ...        ...        ...   ...    ...\n",
       "983755   1111          4        329     1      1\n",
       "983756   1112          4        577     1      1\n",
       "983757   1113          4        793     1      1\n",
       "983758   1114          4       3784     1      1\n",
       "983759   1115          4        452     1      1\n",
       "\n",
       "[983760 rows x 5 columns]"
      ]
     },
     "execution_count": 9,
     "metadata": {},
     "output_type": "execute_result"
    }
   ],
   "source": [
    "X_train"
   ]
  },
  {
   "cell_type": "code",
   "execution_count": 10,
   "id": "6a8d3c6b",
   "metadata": {
    "execution": {
     "iopub.execute_input": "2022-09-17T09:11:18.532340Z",
     "iopub.status.busy": "2022-09-17T09:11:18.531976Z",
     "iopub.status.idle": "2022-09-17T09:11:18.542999Z",
     "shell.execute_reply": "2022-09-17T09:11:18.541687Z"
    },
    "id": "aImbcj-xNPrx",
    "outputId": "11a3d54b-a081-4f66-92a1-4404c804f47c",
    "papermill": {
     "duration": 0.023029,
     "end_time": "2022-09-17T09:11:18.545210",
     "exception": false,
     "start_time": "2022-09-17T09:11:18.522181",
     "status": "completed"
    },
    "tags": []
   },
   "outputs": [
    {
     "data": {
      "text/html": [
       "<div>\n",
       "<style scoped>\n",
       "    .dataframe tbody tr th:only-of-type {\n",
       "        vertical-align: middle;\n",
       "    }\n",
       "\n",
       "    .dataframe tbody tr th {\n",
       "        vertical-align: top;\n",
       "    }\n",
       "\n",
       "    .dataframe thead th {\n",
       "        text-align: right;\n",
       "    }\n",
       "</style>\n",
       "<table border=\"1\" class=\"dataframe\">\n",
       "  <thead>\n",
       "    <tr style=\"text-align: right;\">\n",
       "      <th></th>\n",
       "      <th>sales</th>\n",
       "    </tr>\n",
       "  </thead>\n",
       "  <tbody>\n",
       "    <tr>\n",
       "      <th>0</th>\n",
       "      <td>5530</td>\n",
       "    </tr>\n",
       "    <tr>\n",
       "      <th>1</th>\n",
       "      <td>4422</td>\n",
       "    </tr>\n",
       "    <tr>\n",
       "      <th>2</th>\n",
       "      <td>6823</td>\n",
       "    </tr>\n",
       "    <tr>\n",
       "      <th>3</th>\n",
       "      <td>9941</td>\n",
       "    </tr>\n",
       "    <tr>\n",
       "      <th>4</th>\n",
       "      <td>4253</td>\n",
       "    </tr>\n",
       "    <tr>\n",
       "      <th>...</th>\n",
       "      <td>...</td>\n",
       "    </tr>\n",
       "    <tr>\n",
       "      <th>983755</th>\n",
       "      <td>3945</td>\n",
       "    </tr>\n",
       "    <tr>\n",
       "      <th>983756</th>\n",
       "      <td>7447</td>\n",
       "    </tr>\n",
       "    <tr>\n",
       "      <th>983757</th>\n",
       "      <td>7932</td>\n",
       "    </tr>\n",
       "    <tr>\n",
       "      <th>983758</th>\n",
       "      <td>24898</td>\n",
       "    </tr>\n",
       "    <tr>\n",
       "      <th>983759</th>\n",
       "      <td>6858</td>\n",
       "    </tr>\n",
       "  </tbody>\n",
       "</table>\n",
       "<p>983760 rows × 1 columns</p>\n",
       "</div>"
      ],
      "text/plain": [
       "        sales\n",
       "0        5530\n",
       "1        4422\n",
       "2        6823\n",
       "3        9941\n",
       "4        4253\n",
       "...       ...\n",
       "983755   3945\n",
       "983756   7447\n",
       "983757   7932\n",
       "983758  24898\n",
       "983759   6858\n",
       "\n",
       "[983760 rows x 1 columns]"
      ]
     },
     "execution_count": 10,
     "metadata": {},
     "output_type": "execute_result"
    }
   ],
   "source": [
    "y_train"
   ]
  },
  {
   "cell_type": "markdown",
   "id": "179980ec",
   "metadata": {
    "id": "l35o6C2aiYyA",
    "papermill": {
     "duration": 0.00806,
     "end_time": "2022-09-17T09:11:18.561743",
     "exception": false,
     "start_time": "2022-09-17T09:11:18.553683",
     "status": "completed"
    },
    "tags": []
   },
   "source": [
    "# Воспользуемся простым методом прогноза"
   ]
  },
  {
   "cell_type": "markdown",
   "id": "69182490",
   "metadata": {
    "id": "BlNwnGwwjdPl",
    "papermill": {
     "duration": 0.007955,
     "end_time": "2022-09-17T09:11:18.577888",
     "exception": false,
     "start_time": "2022-09-17T09:11:18.569933",
     "status": "completed"
    },
    "tags": []
   },
   "source": [
    "<img src='https://drive.google.com/uc?export=view&id=1alUGHx-Pabz3C3xvFDHxYbgP3tsPsH1D'>"
   ]
  },
  {
   "cell_type": "code",
   "execution_count": 11,
   "id": "9533993e",
   "metadata": {
    "execution": {
     "iopub.execute_input": "2022-09-17T09:11:18.596091Z",
     "iopub.status.busy": "2022-09-17T09:11:18.595760Z",
     "iopub.status.idle": "2022-09-17T09:11:18.602477Z",
     "shell.execute_reply": "2022-09-17T09:11:18.601213Z"
    },
    "id": "5M2QPa6IiYyB",
    "papermill": {
     "duration": 0.018909,
     "end_time": "2022-09-17T09:11:18.605074",
     "exception": false,
     "start_time": "2022-09-17T09:11:18.586165",
     "status": "completed"
    },
    "tags": []
   },
   "outputs": [],
   "source": [
    "from sklearn.linear_model import LinearRegression\n",
    "\n",
    "model = LinearRegression()"
   ]
  },
  {
   "cell_type": "markdown",
   "id": "81def174",
   "metadata": {
    "id": "2LInPKq5iYyC",
    "papermill": {
     "duration": 0.007667,
     "end_time": "2022-09-17T09:11:18.621107",
     "exception": false,
     "start_time": "2022-09-17T09:11:18.613440",
     "status": "completed"
    },
    "tags": []
   },
   "source": [
    "# Научим нашу модель"
   ]
  },
  {
   "cell_type": "code",
   "execution_count": 12,
   "id": "03bdd8ce",
   "metadata": {
    "execution": {
     "iopub.execute_input": "2022-09-17T09:11:18.638794Z",
     "iopub.status.busy": "2022-09-17T09:11:18.638487Z",
     "iopub.status.idle": "2022-09-17T09:11:18.760659Z",
     "shell.execute_reply": "2022-09-17T09:11:18.759739Z"
    },
    "id": "6tGdMLyoiYyC",
    "outputId": "56c52a4e-a410-409e-aa7c-c849b37c36b9",
    "papermill": {
     "duration": 0.133533,
     "end_time": "2022-09-17T09:11:18.762810",
     "exception": false,
     "start_time": "2022-09-17T09:11:18.629277",
     "status": "completed"
    },
    "tags": []
   },
   "outputs": [
    {
     "data": {
      "text/plain": [
       "LinearRegression()"
      ]
     },
     "execution_count": 12,
     "metadata": {},
     "output_type": "execute_result"
    }
   ],
   "source": [
    "model.fit(\n",
    "    X_train,\n",
    "    y_train\n",
    ")"
   ]
  },
  {
   "cell_type": "code",
   "execution_count": 13,
   "id": "5182f11d",
   "metadata": {
    "execution": {
     "iopub.execute_input": "2022-09-17T09:11:18.781619Z",
     "iopub.status.busy": "2022-09-17T09:11:18.781114Z",
     "iopub.status.idle": "2022-09-17T09:11:18.788063Z",
     "shell.execute_reply": "2022-09-17T09:11:18.786824Z"
    },
    "id": "uIASHWgommV9",
    "outputId": "ad3ba3cb-0081-41ff-de89-f87a22e12d87",
    "papermill": {
     "duration": 0.018861,
     "end_time": "2022-09-17T09:11:18.790558",
     "exception": false,
     "start_time": "2022-09-17T09:11:18.771697",
     "status": "completed"
    },
    "tags": []
   },
   "outputs": [
    {
     "data": {
      "text/plain": [
       "array([-1.51031308e-01, -5.55572871e+01,  6.07463705e+00,  1.67556349e+03,\n",
       "        1.27110167e+03])"
      ]
     },
     "execution_count": 13,
     "metadata": {},
     "output_type": "execute_result"
    }
   ],
   "source": [
    "coefs = model.coef_[0]\n",
    "coefs"
   ]
  },
  {
   "cell_type": "code",
   "execution_count": 14,
   "id": "74385d3b",
   "metadata": {
    "execution": {
     "iopub.execute_input": "2022-09-17T09:11:18.810140Z",
     "iopub.status.busy": "2022-09-17T09:11:18.809597Z",
     "iopub.status.idle": "2022-09-17T09:11:18.814909Z",
     "shell.execute_reply": "2022-09-17T09:11:18.813987Z"
    },
    "id": "cxlsilBN5YiL",
    "outputId": "9a28fbe3-fa38-4d09-ac41-ff2a73f84354",
    "papermill": {
     "duration": 0.016949,
     "end_time": "2022-09-17T09:11:18.816594",
     "exception": false,
     "start_time": "2022-09-17T09:11:18.799645",
     "status": "completed"
    },
    "tags": []
   },
   "outputs": [
    {
     "data": {
      "text/plain": [
       "array([352.11911259])"
      ]
     },
     "execution_count": 14,
     "metadata": {},
     "output_type": "execute_result"
    }
   ],
   "source": [
    "intercept = model.intercept_\n",
    "intercept"
   ]
  },
  {
   "cell_type": "code",
   "execution_count": 15,
   "id": "7aea209a",
   "metadata": {
    "execution": {
     "iopub.execute_input": "2022-09-17T09:11:18.836017Z",
     "iopub.status.busy": "2022-09-17T09:11:18.835482Z",
     "iopub.status.idle": "2022-09-17T09:11:18.853352Z",
     "shell.execute_reply": "2022-09-17T09:11:18.852021Z"
    },
    "id": "OGuTm7jCmnti",
    "outputId": "c3db77ec-5284-4bd5-ab2e-2fe5b40f5ae1",
    "papermill": {
     "duration": 0.030486,
     "end_time": "2022-09-17T09:11:18.855920",
     "exception": false,
     "start_time": "2022-09-17T09:11:18.825434",
     "status": "completed"
    },
    "tags": []
   },
   "outputs": [
    {
     "data": {
      "text/html": [
       "<div>\n",
       "<style scoped>\n",
       "    .dataframe tbody tr th:only-of-type {\n",
       "        vertical-align: middle;\n",
       "    }\n",
       "\n",
       "    .dataframe tbody tr th {\n",
       "        vertical-align: top;\n",
       "    }\n",
       "\n",
       "    .dataframe thead th {\n",
       "        text-align: right;\n",
       "    }\n",
       "</style>\n",
       "<table border=\"1\" class=\"dataframe\">\n",
       "  <thead>\n",
       "    <tr style=\"text-align: right;\">\n",
       "      <th></th>\n",
       "      <th>store</th>\n",
       "      <th>dayofweek</th>\n",
       "      <th>customers</th>\n",
       "      <th>open</th>\n",
       "      <th>promo</th>\n",
       "    </tr>\n",
       "  </thead>\n",
       "  <tbody>\n",
       "    <tr>\n",
       "      <th>0</th>\n",
       "      <td>1</td>\n",
       "      <td>3</td>\n",
       "      <td>668</td>\n",
       "      <td>1</td>\n",
       "      <td>0</td>\n",
       "    </tr>\n",
       "  </tbody>\n",
       "</table>\n",
       "</div>"
      ],
      "text/plain": [
       "   store  dayofweek  customers  open  promo\n",
       "0      1          3        668     1      0"
      ]
     },
     "execution_count": 15,
     "metadata": {},
     "output_type": "execute_result"
    }
   ],
   "source": [
    "df_train[features].head(1)"
   ]
  },
  {
   "cell_type": "code",
   "execution_count": 16,
   "id": "797e93d5",
   "metadata": {
    "execution": {
     "iopub.execute_input": "2022-09-17T09:11:18.875621Z",
     "iopub.status.busy": "2022-09-17T09:11:18.875204Z",
     "iopub.status.idle": "2022-09-17T09:11:18.882216Z",
     "shell.execute_reply": "2022-09-17T09:11:18.881196Z"
    },
    "id": "aG6PRRt-mp2d",
    "outputId": "f1461ed2-4ef8-4cf3-8aec-939c8d50d881",
    "papermill": {
     "duration": 0.019651,
     "end_time": "2022-09-17T09:11:18.884597",
     "exception": false,
     "start_time": "2022-09-17T09:11:18.864946",
     "status": "completed"
    },
    "tags": []
   },
   "outputs": [
    {
     "data": {
      "text/plain": [
       "array([5918.71726263])"
      ]
     },
     "execution_count": 16,
     "metadata": {},
     "output_type": "execute_result"
    }
   ],
   "source": [
    "1 * coefs[0] + 3 * coefs[1] + 668 * coefs[2] + 1 * coefs[3] + 0 * coefs[4] + intercept"
   ]
  },
  {
   "cell_type": "code",
   "execution_count": 17,
   "id": "d25428c9",
   "metadata": {
    "execution": {
     "iopub.execute_input": "2022-09-17T09:11:18.904723Z",
     "iopub.status.busy": "2022-09-17T09:11:18.904270Z",
     "iopub.status.idle": "2022-09-17T09:11:18.915015Z",
     "shell.execute_reply": "2022-09-17T09:11:18.913424Z"
    },
    "id": "tuzuVwgK5Uqa",
    "outputId": "d8e83592-e1d8-412e-db0c-2652fcec9bf0",
    "papermill": {
     "duration": 0.023722,
     "end_time": "2022-09-17T09:11:18.917563",
     "exception": false,
     "start_time": "2022-09-17T09:11:18.893841",
     "status": "completed"
    },
    "tags": []
   },
   "outputs": [
    {
     "data": {
      "text/plain": [
       "array([[5918.71726263]])"
      ]
     },
     "execution_count": 17,
     "metadata": {},
     "output_type": "execute_result"
    }
   ],
   "source": [
    "model.predict(X_train.head(1))"
   ]
  },
  {
   "cell_type": "code",
   "execution_count": 18,
   "id": "b5680309",
   "metadata": {
    "execution": {
     "iopub.execute_input": "2022-09-17T09:11:18.937796Z",
     "iopub.status.busy": "2022-09-17T09:11:18.937235Z",
     "iopub.status.idle": "2022-09-17T09:11:18.947600Z",
     "shell.execute_reply": "2022-09-17T09:11:18.946007Z"
    },
    "id": "B3eX075Bm5mU",
    "outputId": "014e64e9-ed6b-4736-9e3e-093dd06efa79",
    "papermill": {
     "duration": 0.023269,
     "end_time": "2022-09-17T09:11:18.950273",
     "exception": false,
     "start_time": "2022-09-17T09:11:18.927004",
     "status": "completed"
    },
    "tags": []
   },
   "outputs": [
    {
     "data": {
      "text/html": [
       "<div>\n",
       "<style scoped>\n",
       "    .dataframe tbody tr th:only-of-type {\n",
       "        vertical-align: middle;\n",
       "    }\n",
       "\n",
       "    .dataframe tbody tr th {\n",
       "        vertical-align: top;\n",
       "    }\n",
       "\n",
       "    .dataframe thead th {\n",
       "        text-align: right;\n",
       "    }\n",
       "</style>\n",
       "<table border=\"1\" class=\"dataframe\">\n",
       "  <thead>\n",
       "    <tr style=\"text-align: right;\">\n",
       "      <th></th>\n",
       "      <th>store</th>\n",
       "      <th>dayofweek</th>\n",
       "      <th>customers</th>\n",
       "      <th>open</th>\n",
       "      <th>promo</th>\n",
       "    </tr>\n",
       "  </thead>\n",
       "  <tbody>\n",
       "    <tr>\n",
       "      <th>0</th>\n",
       "      <td>1</td>\n",
       "      <td>3</td>\n",
       "      <td>668</td>\n",
       "      <td>1</td>\n",
       "      <td>0</td>\n",
       "    </tr>\n",
       "  </tbody>\n",
       "</table>\n",
       "</div>"
      ],
      "text/plain": [
       "   store  dayofweek  customers  open  promo\n",
       "0      1          3        668     1      0"
      ]
     },
     "execution_count": 18,
     "metadata": {},
     "output_type": "execute_result"
    }
   ],
   "source": [
    "X_train.head(1)"
   ]
  },
  {
   "cell_type": "code",
   "execution_count": 19,
   "id": "87833c94",
   "metadata": {
    "execution": {
     "iopub.execute_input": "2022-09-17T09:11:18.971270Z",
     "iopub.status.busy": "2022-09-17T09:11:18.970146Z",
     "iopub.status.idle": "2022-09-17T09:11:19.005157Z",
     "shell.execute_reply": "2022-09-17T09:11:19.004127Z"
    },
    "id": "IulFn810MhXv",
    "outputId": "3ba226ac-4f17-4b94-9e36-c2122d1d4007",
    "papermill": {
     "duration": 0.04752,
     "end_time": "2022-09-17T09:11:19.007411",
     "exception": false,
     "start_time": "2022-09-17T09:11:18.959891",
     "status": "completed"
    },
    "tags": []
   },
   "outputs": [
    {
     "data": {
      "text/plain": [
       "array([[ 5918.71726263],\n",
       "       [ 5809.22276437],\n",
       "       [ 6750.64047619],\n",
       "       ...,\n",
       "       [ 7725.64445989],\n",
       "       [25894.73285244],\n",
       "       [ 5653.89116239]])"
      ]
     },
     "execution_count": 19,
     "metadata": {},
     "output_type": "execute_result"
    }
   ],
   "source": [
    "pred_train = model.predict(X_train)\n",
    "pred_train"
   ]
  },
  {
   "cell_type": "code",
   "execution_count": 20,
   "id": "8c3898c1",
   "metadata": {
    "execution": {
     "iopub.execute_input": "2022-09-17T09:11:19.033740Z",
     "iopub.status.busy": "2022-09-17T09:11:19.033395Z",
     "iopub.status.idle": "2022-09-17T09:11:19.054195Z",
     "shell.execute_reply": "2022-09-17T09:11:19.053075Z"
    },
    "id": "NsccpIToMl01",
    "outputId": "b9314218-b8cc-4bbf-f351-cf82216e3894",
    "papermill": {
     "duration": 0.036332,
     "end_time": "2022-09-17T09:11:19.056475",
     "exception": false,
     "start_time": "2022-09-17T09:11:19.020143",
     "status": "completed"
    },
    "tags": []
   },
   "outputs": [
    {
     "data": {
      "text/html": [
       "<div>\n",
       "<style scoped>\n",
       "    .dataframe tbody tr th:only-of-type {\n",
       "        vertical-align: middle;\n",
       "    }\n",
       "\n",
       "    .dataframe tbody tr th {\n",
       "        vertical-align: top;\n",
       "    }\n",
       "\n",
       "    .dataframe thead th {\n",
       "        text-align: right;\n",
       "    }\n",
       "</style>\n",
       "<table border=\"1\" class=\"dataframe\">\n",
       "  <thead>\n",
       "    <tr style=\"text-align: right;\">\n",
       "      <th></th>\n",
       "      <th>pred</th>\n",
       "      <th>sales</th>\n",
       "    </tr>\n",
       "  </thead>\n",
       "  <tbody>\n",
       "    <tr>\n",
       "      <th>0</th>\n",
       "      <td>5918.717263</td>\n",
       "      <td>5530</td>\n",
       "    </tr>\n",
       "    <tr>\n",
       "      <th>1</th>\n",
       "      <td>5809.222764</td>\n",
       "      <td>4422</td>\n",
       "    </tr>\n",
       "    <tr>\n",
       "      <th>2</th>\n",
       "      <td>6750.640476</td>\n",
       "      <td>6823</td>\n",
       "    </tr>\n",
       "    <tr>\n",
       "      <th>3</th>\n",
       "      <td>10541.062966</td>\n",
       "      <td>9941</td>\n",
       "    </tr>\n",
       "    <tr>\n",
       "      <th>4</th>\n",
       "      <td>5365.321166</td>\n",
       "      <td>4253</td>\n",
       "    </tr>\n",
       "    <tr>\n",
       "      <th>...</th>\n",
       "      <td>...</td>\n",
       "      <td>...</td>\n",
       "    </tr>\n",
       "    <tr>\n",
       "      <th>983755</th>\n",
       "      <td>4907.314930</td>\n",
       "      <td>3945</td>\n",
       "    </tr>\n",
       "    <tr>\n",
       "      <th>983756</th>\n",
       "      <td>6413.673888</td>\n",
       "      <td>7447</td>\n",
       "    </tr>\n",
       "    <tr>\n",
       "      <th>983757</th>\n",
       "      <td>7725.644460</td>\n",
       "      <td>7932</td>\n",
       "    </tr>\n",
       "    <tr>\n",
       "      <th>983758</th>\n",
       "      <td>25894.732852</td>\n",
       "      <td>24898</td>\n",
       "    </tr>\n",
       "    <tr>\n",
       "      <th>983759</th>\n",
       "      <td>5653.891162</td>\n",
       "      <td>6858</td>\n",
       "    </tr>\n",
       "  </tbody>\n",
       "</table>\n",
       "<p>983760 rows × 2 columns</p>\n",
       "</div>"
      ],
      "text/plain": [
       "                pred  sales\n",
       "0        5918.717263   5530\n",
       "1        5809.222764   4422\n",
       "2        6750.640476   6823\n",
       "3       10541.062966   9941\n",
       "4        5365.321166   4253\n",
       "...              ...    ...\n",
       "983755   4907.314930   3945\n",
       "983756   6413.673888   7447\n",
       "983757   7725.644460   7932\n",
       "983758  25894.732852  24898\n",
       "983759   5653.891162   6858\n",
       "\n",
       "[983760 rows x 2 columns]"
      ]
     },
     "execution_count": 20,
     "metadata": {},
     "output_type": "execute_result"
    }
   ],
   "source": [
    "train_preds = pd.DataFrame(pred_train, columns=['pred'])\n",
    "train_preds['sales'] = y_train\n",
    "\n",
    "train_preds"
   ]
  },
  {
   "cell_type": "markdown",
   "id": "acc17f01",
   "metadata": {
    "id": "Yd9AbqK-iYyD",
    "papermill": {
     "duration": 0.012114,
     "end_time": "2022-09-17T09:11:19.081404",
     "exception": false,
     "start_time": "2022-09-17T09:11:19.069290",
     "status": "completed"
    },
    "tags": []
   },
   "source": [
    "# Сделаем прогноз"
   ]
  },
  {
   "cell_type": "markdown",
   "id": "293f2d76",
   "metadata": {
    "id": "JXgQCmaAjm5W",
    "papermill": {
     "duration": 0.012124,
     "end_time": "2022-09-17T09:11:19.106310",
     "exception": false,
     "start_time": "2022-09-17T09:11:19.094186",
     "status": "completed"
    },
    "tags": []
   },
   "source": [
    "<img src='https://drive.google.com/uc?export=view&id=1YUyJxrl9ZLCGCJjSK1PvAm8IeHZU7brE'>"
   ]
  },
  {
   "cell_type": "code",
   "execution_count": 21,
   "id": "b244f543",
   "metadata": {
    "execution": {
     "iopub.execute_input": "2022-09-17T09:11:19.128642Z",
     "iopub.status.busy": "2022-09-17T09:11:19.128294Z",
     "iopub.status.idle": "2022-09-17T09:11:19.136547Z",
     "shell.execute_reply": "2022-09-17T09:11:19.135605Z"
    },
    "id": "HHyql5gViYyD",
    "papermill": {
     "duration": 0.020712,
     "end_time": "2022-09-17T09:11:19.138616",
     "exception": false,
     "start_time": "2022-09-17T09:11:19.117904",
     "status": "completed"
    },
    "tags": []
   },
   "outputs": [],
   "source": [
    "pred_test = model.predict(\n",
    "    X_test\n",
    ")"
   ]
  },
  {
   "cell_type": "code",
   "execution_count": 22,
   "id": "22ca75c1",
   "metadata": {
    "execution": {
     "iopub.execute_input": "2022-09-17T09:11:19.166345Z",
     "iopub.status.busy": "2022-09-17T09:11:19.165820Z",
     "iopub.status.idle": "2022-09-17T09:11:19.171941Z",
     "shell.execute_reply": "2022-09-17T09:11:19.171192Z"
    },
    "id": "XPatFGg14PnN",
    "outputId": "5f985ff4-88eb-43b3-9b2e-f73a2ca27001",
    "papermill": {
     "duration": 0.021678,
     "end_time": "2022-09-17T09:11:19.173709",
     "exception": false,
     "start_time": "2022-09-17T09:11:19.152031",
     "status": "completed"
    },
    "tags": []
   },
   "outputs": [
    {
     "data": {
      "text/plain": [
       "array([[ 6289.00153871],\n",
       "       [ 9271.49730015],\n",
       "       [ 7527.9254348 ],\n",
       "       ...,\n",
       "       [ 7226.63866794],\n",
       "       [25602.26472027],\n",
       "       [ 6120.75266178]])"
      ]
     },
     "execution_count": 22,
     "metadata": {},
     "output_type": "execute_result"
    }
   ],
   "source": [
    "pred_test"
   ]
  },
  {
   "cell_type": "code",
   "execution_count": 23,
   "id": "4525b439",
   "metadata": {
    "execution": {
     "iopub.execute_input": "2022-09-17T09:11:19.200758Z",
     "iopub.status.busy": "2022-09-17T09:11:19.200413Z",
     "iopub.status.idle": "2022-09-17T09:11:19.214748Z",
     "shell.execute_reply": "2022-09-17T09:11:19.214036Z"
    },
    "id": "vB_XODD-nTVC",
    "outputId": "4b0a34fd-272c-42c0-a465-a0ba86d719cb",
    "papermill": {
     "duration": 0.030389,
     "end_time": "2022-09-17T09:11:19.216853",
     "exception": false,
     "start_time": "2022-09-17T09:11:19.186464",
     "status": "completed"
    },
    "tags": []
   },
   "outputs": [
    {
     "data": {
      "text/html": [
       "<div>\n",
       "<style scoped>\n",
       "    .dataframe tbody tr th:only-of-type {\n",
       "        vertical-align: middle;\n",
       "    }\n",
       "\n",
       "    .dataframe tbody tr th {\n",
       "        vertical-align: top;\n",
       "    }\n",
       "\n",
       "    .dataframe thead th {\n",
       "        text-align: right;\n",
       "    }\n",
       "</style>\n",
       "<table border=\"1\" class=\"dataframe\">\n",
       "  <thead>\n",
       "    <tr style=\"text-align: right;\">\n",
       "      <th></th>\n",
       "      <th>pred</th>\n",
       "      <th>sales</th>\n",
       "    </tr>\n",
       "  </thead>\n",
       "  <tbody>\n",
       "    <tr>\n",
       "      <th>0</th>\n",
       "      <td>6289.001539</td>\n",
       "      <td>4665</td>\n",
       "    </tr>\n",
       "    <tr>\n",
       "      <th>1</th>\n",
       "      <td>9271.497300</td>\n",
       "      <td>4838</td>\n",
       "    </tr>\n",
       "    <tr>\n",
       "      <th>2</th>\n",
       "      <td>7527.925435</td>\n",
       "      <td>8149</td>\n",
       "    </tr>\n",
       "    <tr>\n",
       "      <th>3</th>\n",
       "      <td>11494.512399</td>\n",
       "      <td>11543</td>\n",
       "    </tr>\n",
       "    <tr>\n",
       "      <th>4</th>\n",
       "      <td>6221.576406</td>\n",
       "      <td>4475</td>\n",
       "    </tr>\n",
       "    <tr>\n",
       "      <th>...</th>\n",
       "      <td>...</td>\n",
       "      <td>...</td>\n",
       "    </tr>\n",
       "    <tr>\n",
       "      <th>32330</th>\n",
       "      <td>5416.698889</td>\n",
       "      <td>5723</td>\n",
       "    </tr>\n",
       "    <tr>\n",
       "      <th>32331</th>\n",
       "      <td>7512.297641</td>\n",
       "      <td>9626</td>\n",
       "    </tr>\n",
       "    <tr>\n",
       "      <th>32332</th>\n",
       "      <td>7226.638668</td>\n",
       "      <td>7289</td>\n",
       "    </tr>\n",
       "    <tr>\n",
       "      <th>32333</th>\n",
       "      <td>25602.264720</td>\n",
       "      <td>27508</td>\n",
       "    </tr>\n",
       "    <tr>\n",
       "      <th>32334</th>\n",
       "      <td>6120.752662</td>\n",
       "      <td>8680</td>\n",
       "    </tr>\n",
       "  </tbody>\n",
       "</table>\n",
       "<p>32335 rows × 2 columns</p>\n",
       "</div>"
      ],
      "text/plain": [
       "               pred  sales\n",
       "0       6289.001539   4665\n",
       "1       9271.497300   4838\n",
       "2       7527.925435   8149\n",
       "3      11494.512399  11543\n",
       "4       6221.576406   4475\n",
       "...             ...    ...\n",
       "32330   5416.698889   5723\n",
       "32331   7512.297641   9626\n",
       "32332   7226.638668   7289\n",
       "32333  25602.264720  27508\n",
       "32334   6120.752662   8680\n",
       "\n",
       "[32335 rows x 2 columns]"
      ]
     },
     "execution_count": 23,
     "metadata": {},
     "output_type": "execute_result"
    }
   ],
   "source": [
    "test_preds = pd.DataFrame(pred_test, columns=['pred'])\n",
    "test_preds['sales'] = y_test.values\n",
    "\n",
    "test_preds"
   ]
  },
  {
   "cell_type": "markdown",
   "id": "4a86a5a0",
   "metadata": {
    "id": "Tu8PVCOfiYyE",
    "papermill": {
     "duration": 0.01293,
     "end_time": "2022-09-17T09:11:19.243516",
     "exception": false,
     "start_time": "2022-09-17T09:11:19.230586",
     "status": "completed"
    },
    "tags": []
   },
   "source": [
    "# Оценим точность прогноза"
   ]
  },
  {
   "cell_type": "markdown",
   "id": "4b9dc7ac",
   "metadata": {
    "id": "C8f9h-u9juxb",
    "papermill": {
     "duration": 0.009466,
     "end_time": "2022-09-17T09:11:19.264806",
     "exception": false,
     "start_time": "2022-09-17T09:11:19.255340",
     "status": "completed"
    },
    "tags": []
   },
   "source": [
    "<img src='https://drive.google.com/uc?export=view&id=1LK0jRvKpxNar4OCCJI_XdqnYs8hxnIUU'>"
   ]
  },
  {
   "cell_type": "markdown",
   "id": "1e36c316",
   "metadata": {
    "id": "9q2k0rmq5z9U",
    "papermill": {
     "duration": 0.009092,
     "end_time": "2022-09-17T09:11:19.283518",
     "exception": false,
     "start_time": "2022-09-17T09:11:19.274426",
     "status": "completed"
    },
    "tags": []
   },
   "source": [
    "$$1 - \\frac{MSE}{var}$$"
   ]
  },
  {
   "cell_type": "code",
   "execution_count": 24,
   "id": "ebe6c263",
   "metadata": {
    "execution": {
     "iopub.execute_input": "2022-09-17T09:11:19.305241Z",
     "iopub.status.busy": "2022-09-17T09:11:19.304861Z",
     "iopub.status.idle": "2022-09-17T09:11:19.330741Z",
     "shell.execute_reply": "2022-09-17T09:11:19.329879Z"
    },
    "id": "aKURpjWsMDkr",
    "outputId": "6351ed2d-613f-4482-842f-40c79d90cba7",
    "papermill": {
     "duration": 0.040573,
     "end_time": "2022-09-17T09:11:19.334498",
     "exception": false,
     "start_time": "2022-09-17T09:11:19.293925",
     "status": "completed"
    },
    "tags": []
   },
   "outputs": [
    {
     "name": "stdout",
     "output_type": "stream",
     "text": [
      "Средняя квадратичная ошибка (MSE) модели на обучающей выборке 2188564.092935027\n",
      "Средняя квадратичная ошибка (MSE) модели на тестовой выборке 2308053.351565448\n",
      "\n",
      "Коэффициент детерминации (R^2) модели на обучающей выборке 0.8526676817253495\n",
      "Коэффициент детерминации (R^2) модели на тестовой выборке 0.8242831203993981\n"
     ]
    }
   ],
   "source": [
    "from sklearn.metrics import mean_squared_error, r2_score\n",
    "\n",
    "print(f\"Средняя квадратичная ошибка (MSE) модели на обучающей выборке {mean_squared_error(y_train, pred_train)}\")\n",
    "print(f\"Средняя квадратичная ошибка (MSE) модели на тестовой выборке {mean_squared_error(y_test, pred_test)}\")\n",
    "print()\n",
    "print(f\"Коэффициент детерминации (R^2) модели на обучающей выборке {r2_score(y_train, pred_train)}\")\n",
    "print(f\"Коэффициент детерминации (R^2) модели на тестовой выборке {r2_score(y_test, pred_test)}\")"
   ]
  }
 ],
 "metadata": {
  "kernelspec": {
   "display_name": "Python 3",
   "language": "python",
   "name": "python3"
  },
  "language_info": {
   "codemirror_mode": {
    "name": "ipython",
    "version": 3
   },
   "file_extension": ".py",
   "mimetype": "text/x-python",
   "name": "python",
   "nbconvert_exporter": "python",
   "pygments_lexer": "ipython3",
   "version": "3.7.12"
  },
  "papermill": {
   "default_parameters": {},
   "duration": 12.977274,
   "end_time": "2022-09-17T09:11:20.066953",
   "environment_variables": {},
   "exception": null,
   "input_path": "__notebook__.ipynb",
   "output_path": "__notebook__.ipynb",
   "parameters": {},
   "start_time": "2022-09-17T09:11:07.089679",
   "version": "2.3.4"
  }
 },
 "nbformat": 4,
 "nbformat_minor": 5
}
