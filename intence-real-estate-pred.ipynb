{
 "cells": [
  {
   "cell_type": "code",
   "execution_count": 1,
   "id": "c24b6def",
   "metadata": {
    "_cell_guid": "b1076dfc-b9ad-4769-8c92-a6c4dae69d19",
    "_uuid": "8f2839f25d086af736a60e9eeb907d3b93b6e0e5",
    "execution": {
     "iopub.execute_input": "2022-09-17T09:49:26.742389Z",
     "iopub.status.busy": "2022-09-17T09:49:26.741894Z",
     "iopub.status.idle": "2022-09-17T09:49:26.754245Z",
     "shell.execute_reply": "2022-09-17T09:49:26.753394Z"
    },
    "papermill": {
     "duration": 0.023258,
     "end_time": "2022-09-17T09:49:26.756503",
     "exception": false,
     "start_time": "2022-09-17T09:49:26.733245",
     "status": "completed"
    },
    "tags": []
   },
   "outputs": [],
   "source": [
    "# This Python 3 environment comes with many helpful analytics libraries installed\n",
    "# It is defined by the kaggle/python Docker image: https://github.com/kaggle/docker-python\n",
    "# For example, here's several helpful packages to load\n",
    "\n",
    "import numpy as np # linear algebra\n",
    "import pandas as pd # data processing, CSV file I/O (e.g. pd.read_csv)\n",
    "\n",
    "# Input data files are available in the read-only \"../input/\" directory\n",
    "# For example, running this (by clicking run or pressing Shift+Enter) will list all files under the input directory\n",
    "\n",
    "import os\n",
    "for dirname, _, filenames in os.walk('/kaggle/input'):\n",
    "    for filename in filenames:\n",
    "        print(os.path.join(dirname, filename))\n",
    "\n",
    "# You can write up to 20GB to the current directory (/kaggle/working/) that gets preserved as output when you create a version using \"Save & Run All\" \n",
    "# You can also write temporary files to /kaggle/temp/, but they won't be saved outside of the current session"
   ]
  },
  {
   "cell_type": "markdown",
   "id": "1f07e0fe",
   "metadata": {
    "papermill": {
     "duration": 0.005465,
     "end_time": "2022-09-17T09:49:26.767935",
     "exception": false,
     "start_time": "2022-09-17T09:49:26.762470",
     "status": "completed"
    },
    "tags": []
   },
   "source": [
    "# Практическое задание"
   ]
  },
  {
   "cell_type": "markdown",
   "id": "671bedfe",
   "metadata": {
    "papermill": {
     "duration": 0.00536,
     "end_time": "2022-09-17T09:49:26.779014",
     "exception": false,
     "start_time": "2022-09-17T09:49:26.773654",
     "status": "completed"
    },
    "tags": []
   },
   "source": [
    "### В sklearn есть встроенные («игрушечные») наборы данных. Возьмём для примера один из них — load_boston(), в нём содержится информация о ценах на недвижимость в Бостоне."
   ]
  },
  {
   "cell_type": "code",
   "execution_count": 2,
   "id": "df71b2c0",
   "metadata": {
    "execution": {
     "iopub.execute_input": "2022-09-17T09:49:26.792358Z",
     "iopub.status.busy": "2022-09-17T09:49:26.791492Z",
     "iopub.status.idle": "2022-09-17T09:49:27.901005Z",
     "shell.execute_reply": "2022-09-17T09:49:27.899970Z"
    },
    "papermill": {
     "duration": 1.118961,
     "end_time": "2022-09-17T09:49:27.903675",
     "exception": false,
     "start_time": "2022-09-17T09:49:26.784714",
     "status": "completed"
    },
    "tags": []
   },
   "outputs": [],
   "source": [
    "from matplotlib import pyplot as plt\n",
    "import seaborn as sns"
   ]
  },
  {
   "cell_type": "code",
   "execution_count": 3,
   "id": "d86e8b3e",
   "metadata": {
    "execution": {
     "iopub.execute_input": "2022-09-17T09:49:27.917509Z",
     "iopub.status.busy": "2022-09-17T09:49:27.916653Z",
     "iopub.status.idle": "2022-09-17T09:49:28.137570Z",
     "shell.execute_reply": "2022-09-17T09:49:28.136703Z"
    },
    "papermill": {
     "duration": 0.232286,
     "end_time": "2022-09-17T09:49:28.141951",
     "exception": false,
     "start_time": "2022-09-17T09:49:27.909665",
     "status": "completed"
    },
    "tags": []
   },
   "outputs": [
    {
     "name": "stdout",
     "output_type": "stream",
     "text": [
      ".. _boston_dataset:\n",
      "\n",
      "Boston house prices dataset\n",
      "---------------------------\n",
      "\n",
      "**Data Set Characteristics:**  \n",
      "\n",
      "    :Number of Instances: 506 \n",
      "\n",
      "    :Number of Attributes: 13 numeric/categorical predictive. Median Value (attribute 14) is usually the target.\n",
      "\n",
      "    :Attribute Information (in order):\n",
      "        - CRIM     per capita crime rate by town\n",
      "        - ZN       proportion of residential land zoned for lots over 25,000 sq.ft.\n",
      "        - INDUS    proportion of non-retail business acres per town\n",
      "        - CHAS     Charles River dummy variable (= 1 if tract bounds river; 0 otherwise)\n",
      "        - NOX      nitric oxides concentration (parts per 10 million)\n",
      "        - RM       average number of rooms per dwelling\n",
      "        - AGE      proportion of owner-occupied units built prior to 1940\n",
      "        - DIS      weighted distances to five Boston employment centres\n",
      "        - RAD      index of accessibility to radial highways\n",
      "        - TAX      full-value property-tax rate per $10,000\n",
      "        - PTRATIO  pupil-teacher ratio by town\n",
      "        - B        1000(Bk - 0.63)^2 where Bk is the proportion of black people by town\n",
      "        - LSTAT    % lower status of the population\n",
      "        - MEDV     Median value of owner-occupied homes in $1000's\n",
      "\n",
      "    :Missing Attribute Values: None\n",
      "\n",
      "    :Creator: Harrison, D. and Rubinfeld, D.L.\n",
      "\n",
      "This is a copy of UCI ML housing dataset.\n",
      "https://archive.ics.uci.edu/ml/machine-learning-databases/housing/\n",
      "\n",
      "\n",
      "This dataset was taken from the StatLib library which is maintained at Carnegie Mellon University.\n",
      "\n",
      "The Boston house-price data of Harrison, D. and Rubinfeld, D.L. 'Hedonic\n",
      "prices and the demand for clean air', J. Environ. Economics & Management,\n",
      "vol.5, 81-102, 1978.   Used in Belsley, Kuh & Welsch, 'Regression diagnostics\n",
      "...', Wiley, 1980.   N.B. Various transformations are used in the table on\n",
      "pages 244-261 of the latter.\n",
      "\n",
      "The Boston house-price data has been used in many machine learning papers that address regression\n",
      "problems.   \n",
      "     \n",
      ".. topic:: References\n",
      "\n",
      "   - Belsley, Kuh & Welsch, 'Regression diagnostics: Identifying Influential Data and Sources of Collinearity', Wiley, 1980. 244-261.\n",
      "   - Quinlan,R. (1993). Combining Instance-Based and Model-Based Learning. In Proceedings on the Tenth International Conference of Machine Learning, 236-243, University of Massachusetts, Amherst. Morgan Kaufmann.\n",
      "\n"
     ]
    },
    {
     "name": "stderr",
     "output_type": "stream",
     "text": [
      "/opt/conda/lib/python3.7/site-packages/sklearn/utils/deprecation.py:87: FutureWarning: Function load_boston is deprecated; `load_boston` is deprecated in 1.0 and will be removed in 1.2.\n",
      "\n",
      "    The Boston housing prices dataset has an ethical problem. You can refer to\n",
      "    the documentation of this function for further details.\n",
      "\n",
      "    The scikit-learn maintainers therefore strongly discourage the use of this\n",
      "    dataset unless the purpose of the code is to study and educate about\n",
      "    ethical issues in data science and machine learning.\n",
      "\n",
      "    In this special case, you can fetch the dataset from the original\n",
      "    source::\n",
      "\n",
      "        import pandas as pd\n",
      "        import numpy as np\n",
      "\n",
      "\n",
      "        data_url = \"http://lib.stat.cmu.edu/datasets/boston\"\n",
      "        raw_df = pd.read_csv(data_url, sep=\"\\s+\", skiprows=22, header=None)\n",
      "        data = np.hstack([raw_df.values[::2, :], raw_df.values[1::2, :2]])\n",
      "        target = raw_df.values[1::2, 2]\n",
      "\n",
      "    Alternative datasets include the California housing dataset (i.e.\n",
      "    :func:`~sklearn.datasets.fetch_california_housing`) and the Ames housing\n",
      "    dataset. You can load the datasets as follows::\n",
      "\n",
      "        from sklearn.datasets import fetch_california_housing\n",
      "        housing = fetch_california_housing()\n",
      "\n",
      "    for the California housing dataset and::\n",
      "\n",
      "        from sklearn.datasets import fetch_openml\n",
      "        housing = fetch_openml(name=\"house_prices\", as_frame=True)\n",
      "\n",
      "    for the Ames housing dataset.\n",
      "    \n",
      "  warnings.warn(msg, category=FutureWarning)\n"
     ]
    }
   ],
   "source": [
    "from sklearn.datasets import load_boston\n",
    "\n",
    "boston_data = load_boston()\n",
    "print(boston_data['DESCR'])"
   ]
  },
  {
   "cell_type": "code",
   "execution_count": 4,
   "id": "1be11a15",
   "metadata": {
    "execution": {
     "iopub.execute_input": "2022-09-17T09:49:28.156754Z",
     "iopub.status.busy": "2022-09-17T09:49:28.156346Z",
     "iopub.status.idle": "2022-09-17T09:49:28.161604Z",
     "shell.execute_reply": "2022-09-17T09:49:28.160532Z"
    },
    "papermill": {
     "duration": 0.015167,
     "end_time": "2022-09-17T09:49:28.163843",
     "exception": false,
     "start_time": "2022-09-17T09:49:28.148676",
     "status": "completed"
    },
    "tags": []
   },
   "outputs": [],
   "source": [
    "import pandas as pd"
   ]
  },
  {
   "cell_type": "markdown",
   "id": "95a20308",
   "metadata": {
    "papermill": {
     "duration": 0.00563,
     "end_time": "2022-09-17T09:49:28.175477",
     "exception": false,
     "start_time": "2022-09-17T09:49:28.169847",
     "status": "completed"
    },
    "tags": []
   },
   "source": [
    "Загрузим данные о признаках в \"x\", а целевые значения — в \"y\""
   ]
  },
  {
   "cell_type": "code",
   "execution_count": 5,
   "id": "55a80d84",
   "metadata": {
    "execution": {
     "iopub.execute_input": "2022-09-17T09:49:28.189478Z",
     "iopub.status.busy": "2022-09-17T09:49:28.188853Z",
     "iopub.status.idle": "2022-09-17T09:49:28.198772Z",
     "shell.execute_reply": "2022-09-17T09:49:28.197330Z"
    },
    "papermill": {
     "duration": 0.020448,
     "end_time": "2022-09-17T09:49:28.201765",
     "exception": false,
     "start_time": "2022-09-17T09:49:28.181317",
     "status": "completed"
    },
    "tags": []
   },
   "outputs": [],
   "source": [
    "X = pd.DataFrame(boston_data.data, columns=boston_data.feature_names)\n",
    "y = boston_data.target"
   ]
  },
  {
   "cell_type": "markdown",
   "id": "45e48479",
   "metadata": {
    "papermill": {
     "duration": 0.005938,
     "end_time": "2022-09-17T09:49:28.214043",
     "exception": false,
     "start_time": "2022-09-17T09:49:28.208105",
     "status": "completed"
    },
    "tags": []
   },
   "source": [
    "Посмотрим основную информацию о датасете"
   ]
  },
  {
   "cell_type": "code",
   "execution_count": 6,
   "id": "76b242e4",
   "metadata": {
    "execution": {
     "iopub.execute_input": "2022-09-17T09:49:28.228003Z",
     "iopub.status.busy": "2022-09-17T09:49:28.227570Z",
     "iopub.status.idle": "2022-09-17T09:49:28.261197Z",
     "shell.execute_reply": "2022-09-17T09:49:28.259964Z"
    },
    "papermill": {
     "duration": 0.043421,
     "end_time": "2022-09-17T09:49:28.263639",
     "exception": false,
     "start_time": "2022-09-17T09:49:28.220218",
     "status": "completed"
    },
    "tags": []
   },
   "outputs": [
    {
     "data": {
      "text/html": [
       "<div>\n",
       "<style scoped>\n",
       "    .dataframe tbody tr th:only-of-type {\n",
       "        vertical-align: middle;\n",
       "    }\n",
       "\n",
       "    .dataframe tbody tr th {\n",
       "        vertical-align: top;\n",
       "    }\n",
       "\n",
       "    .dataframe thead th {\n",
       "        text-align: right;\n",
       "    }\n",
       "</style>\n",
       "<table border=\"1\" class=\"dataframe\">\n",
       "  <thead>\n",
       "    <tr style=\"text-align: right;\">\n",
       "      <th></th>\n",
       "      <th>CRIM</th>\n",
       "      <th>ZN</th>\n",
       "      <th>INDUS</th>\n",
       "      <th>CHAS</th>\n",
       "      <th>NOX</th>\n",
       "      <th>RM</th>\n",
       "      <th>AGE</th>\n",
       "      <th>DIS</th>\n",
       "      <th>RAD</th>\n",
       "      <th>TAX</th>\n",
       "      <th>PTRATIO</th>\n",
       "      <th>B</th>\n",
       "      <th>LSTAT</th>\n",
       "    </tr>\n",
       "  </thead>\n",
       "  <tbody>\n",
       "    <tr>\n",
       "      <th>0</th>\n",
       "      <td>0.00632</td>\n",
       "      <td>18.0</td>\n",
       "      <td>2.31</td>\n",
       "      <td>0.0</td>\n",
       "      <td>0.538</td>\n",
       "      <td>6.575</td>\n",
       "      <td>65.2</td>\n",
       "      <td>4.0900</td>\n",
       "      <td>1.0</td>\n",
       "      <td>296.0</td>\n",
       "      <td>15.3</td>\n",
       "      <td>396.90</td>\n",
       "      <td>4.98</td>\n",
       "    </tr>\n",
       "    <tr>\n",
       "      <th>1</th>\n",
       "      <td>0.02731</td>\n",
       "      <td>0.0</td>\n",
       "      <td>7.07</td>\n",
       "      <td>0.0</td>\n",
       "      <td>0.469</td>\n",
       "      <td>6.421</td>\n",
       "      <td>78.9</td>\n",
       "      <td>4.9671</td>\n",
       "      <td>2.0</td>\n",
       "      <td>242.0</td>\n",
       "      <td>17.8</td>\n",
       "      <td>396.90</td>\n",
       "      <td>9.14</td>\n",
       "    </tr>\n",
       "    <tr>\n",
       "      <th>2</th>\n",
       "      <td>0.02729</td>\n",
       "      <td>0.0</td>\n",
       "      <td>7.07</td>\n",
       "      <td>0.0</td>\n",
       "      <td>0.469</td>\n",
       "      <td>7.185</td>\n",
       "      <td>61.1</td>\n",
       "      <td>4.9671</td>\n",
       "      <td>2.0</td>\n",
       "      <td>242.0</td>\n",
       "      <td>17.8</td>\n",
       "      <td>392.83</td>\n",
       "      <td>4.03</td>\n",
       "    </tr>\n",
       "    <tr>\n",
       "      <th>3</th>\n",
       "      <td>0.03237</td>\n",
       "      <td>0.0</td>\n",
       "      <td>2.18</td>\n",
       "      <td>0.0</td>\n",
       "      <td>0.458</td>\n",
       "      <td>6.998</td>\n",
       "      <td>45.8</td>\n",
       "      <td>6.0622</td>\n",
       "      <td>3.0</td>\n",
       "      <td>222.0</td>\n",
       "      <td>18.7</td>\n",
       "      <td>394.63</td>\n",
       "      <td>2.94</td>\n",
       "    </tr>\n",
       "    <tr>\n",
       "      <th>4</th>\n",
       "      <td>0.06905</td>\n",
       "      <td>0.0</td>\n",
       "      <td>2.18</td>\n",
       "      <td>0.0</td>\n",
       "      <td>0.458</td>\n",
       "      <td>7.147</td>\n",
       "      <td>54.2</td>\n",
       "      <td>6.0622</td>\n",
       "      <td>3.0</td>\n",
       "      <td>222.0</td>\n",
       "      <td>18.7</td>\n",
       "      <td>396.90</td>\n",
       "      <td>5.33</td>\n",
       "    </tr>\n",
       "  </tbody>\n",
       "</table>\n",
       "</div>"
      ],
      "text/plain": [
       "      CRIM    ZN  INDUS  CHAS    NOX     RM   AGE     DIS  RAD    TAX  \\\n",
       "0  0.00632  18.0   2.31   0.0  0.538  6.575  65.2  4.0900  1.0  296.0   \n",
       "1  0.02731   0.0   7.07   0.0  0.469  6.421  78.9  4.9671  2.0  242.0   \n",
       "2  0.02729   0.0   7.07   0.0  0.469  7.185  61.1  4.9671  2.0  242.0   \n",
       "3  0.03237   0.0   2.18   0.0  0.458  6.998  45.8  6.0622  3.0  222.0   \n",
       "4  0.06905   0.0   2.18   0.0  0.458  7.147  54.2  6.0622  3.0  222.0   \n",
       "\n",
       "   PTRATIO       B  LSTAT  \n",
       "0     15.3  396.90   4.98  \n",
       "1     17.8  396.90   9.14  \n",
       "2     17.8  392.83   4.03  \n",
       "3     18.7  394.63   2.94  \n",
       "4     18.7  396.90   5.33  "
      ]
     },
     "execution_count": 6,
     "metadata": {},
     "output_type": "execute_result"
    }
   ],
   "source": [
    "# Первые 5 строк\n",
    "X.head()"
   ]
  },
  {
   "cell_type": "code",
   "execution_count": 7,
   "id": "3380d515",
   "metadata": {
    "execution": {
     "iopub.execute_input": "2022-09-17T09:49:28.279761Z",
     "iopub.status.busy": "2022-09-17T09:49:28.278591Z",
     "iopub.status.idle": "2022-09-17T09:49:28.286580Z",
     "shell.execute_reply": "2022-09-17T09:49:28.285306Z"
    },
    "papermill": {
     "duration": 0.019004,
     "end_time": "2022-09-17T09:49:28.289007",
     "exception": false,
     "start_time": "2022-09-17T09:49:28.270003",
     "status": "completed"
    },
    "tags": []
   },
   "outputs": [
    {
     "data": {
      "text/plain": [
       "Index(['CRIM', 'ZN', 'INDUS', 'CHAS', 'NOX', 'RM', 'AGE', 'DIS', 'RAD', 'TAX',\n",
       "       'PTRATIO', 'B', 'LSTAT'],\n",
       "      dtype='object')"
      ]
     },
     "execution_count": 7,
     "metadata": {},
     "output_type": "execute_result"
    }
   ],
   "source": [
    "X.columns"
   ]
  },
  {
   "cell_type": "code",
   "execution_count": 8,
   "id": "ed44f294",
   "metadata": {
    "execution": {
     "iopub.execute_input": "2022-09-17T09:49:28.303410Z",
     "iopub.status.busy": "2022-09-17T09:49:28.303027Z",
     "iopub.status.idle": "2022-09-17T09:49:28.328732Z",
     "shell.execute_reply": "2022-09-17T09:49:28.327190Z"
    },
    "papermill": {
     "duration": 0.035978,
     "end_time": "2022-09-17T09:49:28.331314",
     "exception": false,
     "start_time": "2022-09-17T09:49:28.295336",
     "status": "completed"
    },
    "tags": []
   },
   "outputs": [
    {
     "name": "stdout",
     "output_type": "stream",
     "text": [
      "<class 'pandas.core.frame.DataFrame'>\n",
      "RangeIndex: 506 entries, 0 to 505\n",
      "Data columns (total 13 columns):\n",
      " #   Column   Non-Null Count  Dtype  \n",
      "---  ------   --------------  -----  \n",
      " 0   CRIM     506 non-null    float64\n",
      " 1   ZN       506 non-null    float64\n",
      " 2   INDUS    506 non-null    float64\n",
      " 3   CHAS     506 non-null    float64\n",
      " 4   NOX      506 non-null    float64\n",
      " 5   RM       506 non-null    float64\n",
      " 6   AGE      506 non-null    float64\n",
      " 7   DIS      506 non-null    float64\n",
      " 8   RAD      506 non-null    float64\n",
      " 9   TAX      506 non-null    float64\n",
      " 10  PTRATIO  506 non-null    float64\n",
      " 11  B        506 non-null    float64\n",
      " 12  LSTAT    506 non-null    float64\n",
      "dtypes: float64(13)\n",
      "memory usage: 51.5 KB\n"
     ]
    }
   ],
   "source": [
    "X.info()"
   ]
  },
  {
   "cell_type": "code",
   "execution_count": 9,
   "id": "840a9988",
   "metadata": {
    "execution": {
     "iopub.execute_input": "2022-09-17T09:49:28.346178Z",
     "iopub.status.busy": "2022-09-17T09:49:28.345748Z",
     "iopub.status.idle": "2022-09-17T09:49:28.370175Z",
     "shell.execute_reply": "2022-09-17T09:49:28.368952Z"
    },
    "papermill": {
     "duration": 0.034724,
     "end_time": "2022-09-17T09:49:28.372717",
     "exception": false,
     "start_time": "2022-09-17T09:49:28.337993",
     "status": "completed"
    },
    "tags": []
   },
   "outputs": [
    {
     "data": {
      "text/html": [
       "<div>\n",
       "<style scoped>\n",
       "    .dataframe tbody tr th:only-of-type {\n",
       "        vertical-align: middle;\n",
       "    }\n",
       "\n",
       "    .dataframe tbody tr th {\n",
       "        vertical-align: top;\n",
       "    }\n",
       "\n",
       "    .dataframe thead th {\n",
       "        text-align: right;\n",
       "    }\n",
       "</style>\n",
       "<table border=\"1\" class=\"dataframe\">\n",
       "  <thead>\n",
       "    <tr style=\"text-align: right;\">\n",
       "      <th></th>\n",
       "      <th>CRIM</th>\n",
       "      <th>ZN</th>\n",
       "      <th>INDUS</th>\n",
       "      <th>CHAS</th>\n",
       "      <th>NOX</th>\n",
       "      <th>RM</th>\n",
       "      <th>AGE</th>\n",
       "      <th>DIS</th>\n",
       "      <th>RAD</th>\n",
       "      <th>TAX</th>\n",
       "      <th>PTRATIO</th>\n",
       "      <th>B</th>\n",
       "      <th>LSTAT</th>\n",
       "    </tr>\n",
       "  </thead>\n",
       "  <tbody>\n",
       "    <tr>\n",
       "      <th>CRIM</th>\n",
       "      <td>1.000000</td>\n",
       "      <td>-0.200469</td>\n",
       "      <td>0.406583</td>\n",
       "      <td>-0.055892</td>\n",
       "      <td>0.420972</td>\n",
       "      <td>-0.219247</td>\n",
       "      <td>0.352734</td>\n",
       "      <td>-0.379670</td>\n",
       "      <td>0.625505</td>\n",
       "      <td>0.582764</td>\n",
       "      <td>0.289946</td>\n",
       "      <td>-0.385064</td>\n",
       "      <td>0.455621</td>\n",
       "    </tr>\n",
       "    <tr>\n",
       "      <th>ZN</th>\n",
       "      <td>-0.200469</td>\n",
       "      <td>1.000000</td>\n",
       "      <td>-0.533828</td>\n",
       "      <td>-0.042697</td>\n",
       "      <td>-0.516604</td>\n",
       "      <td>0.311991</td>\n",
       "      <td>-0.569537</td>\n",
       "      <td>0.664408</td>\n",
       "      <td>-0.311948</td>\n",
       "      <td>-0.314563</td>\n",
       "      <td>-0.391679</td>\n",
       "      <td>0.175520</td>\n",
       "      <td>-0.412995</td>\n",
       "    </tr>\n",
       "    <tr>\n",
       "      <th>INDUS</th>\n",
       "      <td>0.406583</td>\n",
       "      <td>-0.533828</td>\n",
       "      <td>1.000000</td>\n",
       "      <td>0.062938</td>\n",
       "      <td>0.763651</td>\n",
       "      <td>-0.391676</td>\n",
       "      <td>0.644779</td>\n",
       "      <td>-0.708027</td>\n",
       "      <td>0.595129</td>\n",
       "      <td>0.720760</td>\n",
       "      <td>0.383248</td>\n",
       "      <td>-0.356977</td>\n",
       "      <td>0.603800</td>\n",
       "    </tr>\n",
       "    <tr>\n",
       "      <th>CHAS</th>\n",
       "      <td>-0.055892</td>\n",
       "      <td>-0.042697</td>\n",
       "      <td>0.062938</td>\n",
       "      <td>1.000000</td>\n",
       "      <td>0.091203</td>\n",
       "      <td>0.091251</td>\n",
       "      <td>0.086518</td>\n",
       "      <td>-0.099176</td>\n",
       "      <td>-0.007368</td>\n",
       "      <td>-0.035587</td>\n",
       "      <td>-0.121515</td>\n",
       "      <td>0.048788</td>\n",
       "      <td>-0.053929</td>\n",
       "    </tr>\n",
       "    <tr>\n",
       "      <th>NOX</th>\n",
       "      <td>0.420972</td>\n",
       "      <td>-0.516604</td>\n",
       "      <td>0.763651</td>\n",
       "      <td>0.091203</td>\n",
       "      <td>1.000000</td>\n",
       "      <td>-0.302188</td>\n",
       "      <td>0.731470</td>\n",
       "      <td>-0.769230</td>\n",
       "      <td>0.611441</td>\n",
       "      <td>0.668023</td>\n",
       "      <td>0.188933</td>\n",
       "      <td>-0.380051</td>\n",
       "      <td>0.590879</td>\n",
       "    </tr>\n",
       "    <tr>\n",
       "      <th>RM</th>\n",
       "      <td>-0.219247</td>\n",
       "      <td>0.311991</td>\n",
       "      <td>-0.391676</td>\n",
       "      <td>0.091251</td>\n",
       "      <td>-0.302188</td>\n",
       "      <td>1.000000</td>\n",
       "      <td>-0.240265</td>\n",
       "      <td>0.205246</td>\n",
       "      <td>-0.209847</td>\n",
       "      <td>-0.292048</td>\n",
       "      <td>-0.355501</td>\n",
       "      <td>0.128069</td>\n",
       "      <td>-0.613808</td>\n",
       "    </tr>\n",
       "    <tr>\n",
       "      <th>AGE</th>\n",
       "      <td>0.352734</td>\n",
       "      <td>-0.569537</td>\n",
       "      <td>0.644779</td>\n",
       "      <td>0.086518</td>\n",
       "      <td>0.731470</td>\n",
       "      <td>-0.240265</td>\n",
       "      <td>1.000000</td>\n",
       "      <td>-0.747881</td>\n",
       "      <td>0.456022</td>\n",
       "      <td>0.506456</td>\n",
       "      <td>0.261515</td>\n",
       "      <td>-0.273534</td>\n",
       "      <td>0.602339</td>\n",
       "    </tr>\n",
       "    <tr>\n",
       "      <th>DIS</th>\n",
       "      <td>-0.379670</td>\n",
       "      <td>0.664408</td>\n",
       "      <td>-0.708027</td>\n",
       "      <td>-0.099176</td>\n",
       "      <td>-0.769230</td>\n",
       "      <td>0.205246</td>\n",
       "      <td>-0.747881</td>\n",
       "      <td>1.000000</td>\n",
       "      <td>-0.494588</td>\n",
       "      <td>-0.534432</td>\n",
       "      <td>-0.232471</td>\n",
       "      <td>0.291512</td>\n",
       "      <td>-0.496996</td>\n",
       "    </tr>\n",
       "    <tr>\n",
       "      <th>RAD</th>\n",
       "      <td>0.625505</td>\n",
       "      <td>-0.311948</td>\n",
       "      <td>0.595129</td>\n",
       "      <td>-0.007368</td>\n",
       "      <td>0.611441</td>\n",
       "      <td>-0.209847</td>\n",
       "      <td>0.456022</td>\n",
       "      <td>-0.494588</td>\n",
       "      <td>1.000000</td>\n",
       "      <td>0.910228</td>\n",
       "      <td>0.464741</td>\n",
       "      <td>-0.444413</td>\n",
       "      <td>0.488676</td>\n",
       "    </tr>\n",
       "    <tr>\n",
       "      <th>TAX</th>\n",
       "      <td>0.582764</td>\n",
       "      <td>-0.314563</td>\n",
       "      <td>0.720760</td>\n",
       "      <td>-0.035587</td>\n",
       "      <td>0.668023</td>\n",
       "      <td>-0.292048</td>\n",
       "      <td>0.506456</td>\n",
       "      <td>-0.534432</td>\n",
       "      <td>0.910228</td>\n",
       "      <td>1.000000</td>\n",
       "      <td>0.460853</td>\n",
       "      <td>-0.441808</td>\n",
       "      <td>0.543993</td>\n",
       "    </tr>\n",
       "    <tr>\n",
       "      <th>PTRATIO</th>\n",
       "      <td>0.289946</td>\n",
       "      <td>-0.391679</td>\n",
       "      <td>0.383248</td>\n",
       "      <td>-0.121515</td>\n",
       "      <td>0.188933</td>\n",
       "      <td>-0.355501</td>\n",
       "      <td>0.261515</td>\n",
       "      <td>-0.232471</td>\n",
       "      <td>0.464741</td>\n",
       "      <td>0.460853</td>\n",
       "      <td>1.000000</td>\n",
       "      <td>-0.177383</td>\n",
       "      <td>0.374044</td>\n",
       "    </tr>\n",
       "    <tr>\n",
       "      <th>B</th>\n",
       "      <td>-0.385064</td>\n",
       "      <td>0.175520</td>\n",
       "      <td>-0.356977</td>\n",
       "      <td>0.048788</td>\n",
       "      <td>-0.380051</td>\n",
       "      <td>0.128069</td>\n",
       "      <td>-0.273534</td>\n",
       "      <td>0.291512</td>\n",
       "      <td>-0.444413</td>\n",
       "      <td>-0.441808</td>\n",
       "      <td>-0.177383</td>\n",
       "      <td>1.000000</td>\n",
       "      <td>-0.366087</td>\n",
       "    </tr>\n",
       "    <tr>\n",
       "      <th>LSTAT</th>\n",
       "      <td>0.455621</td>\n",
       "      <td>-0.412995</td>\n",
       "      <td>0.603800</td>\n",
       "      <td>-0.053929</td>\n",
       "      <td>0.590879</td>\n",
       "      <td>-0.613808</td>\n",
       "      <td>0.602339</td>\n",
       "      <td>-0.496996</td>\n",
       "      <td>0.488676</td>\n",
       "      <td>0.543993</td>\n",
       "      <td>0.374044</td>\n",
       "      <td>-0.366087</td>\n",
       "      <td>1.000000</td>\n",
       "    </tr>\n",
       "  </tbody>\n",
       "</table>\n",
       "</div>"
      ],
      "text/plain": [
       "             CRIM        ZN     INDUS      CHAS       NOX        RM       AGE  \\\n",
       "CRIM     1.000000 -0.200469  0.406583 -0.055892  0.420972 -0.219247  0.352734   \n",
       "ZN      -0.200469  1.000000 -0.533828 -0.042697 -0.516604  0.311991 -0.569537   \n",
       "INDUS    0.406583 -0.533828  1.000000  0.062938  0.763651 -0.391676  0.644779   \n",
       "CHAS    -0.055892 -0.042697  0.062938  1.000000  0.091203  0.091251  0.086518   \n",
       "NOX      0.420972 -0.516604  0.763651  0.091203  1.000000 -0.302188  0.731470   \n",
       "RM      -0.219247  0.311991 -0.391676  0.091251 -0.302188  1.000000 -0.240265   \n",
       "AGE      0.352734 -0.569537  0.644779  0.086518  0.731470 -0.240265  1.000000   \n",
       "DIS     -0.379670  0.664408 -0.708027 -0.099176 -0.769230  0.205246 -0.747881   \n",
       "RAD      0.625505 -0.311948  0.595129 -0.007368  0.611441 -0.209847  0.456022   \n",
       "TAX      0.582764 -0.314563  0.720760 -0.035587  0.668023 -0.292048  0.506456   \n",
       "PTRATIO  0.289946 -0.391679  0.383248 -0.121515  0.188933 -0.355501  0.261515   \n",
       "B       -0.385064  0.175520 -0.356977  0.048788 -0.380051  0.128069 -0.273534   \n",
       "LSTAT    0.455621 -0.412995  0.603800 -0.053929  0.590879 -0.613808  0.602339   \n",
       "\n",
       "              DIS       RAD       TAX   PTRATIO         B     LSTAT  \n",
       "CRIM    -0.379670  0.625505  0.582764  0.289946 -0.385064  0.455621  \n",
       "ZN       0.664408 -0.311948 -0.314563 -0.391679  0.175520 -0.412995  \n",
       "INDUS   -0.708027  0.595129  0.720760  0.383248 -0.356977  0.603800  \n",
       "CHAS    -0.099176 -0.007368 -0.035587 -0.121515  0.048788 -0.053929  \n",
       "NOX     -0.769230  0.611441  0.668023  0.188933 -0.380051  0.590879  \n",
       "RM       0.205246 -0.209847 -0.292048 -0.355501  0.128069 -0.613808  \n",
       "AGE     -0.747881  0.456022  0.506456  0.261515 -0.273534  0.602339  \n",
       "DIS      1.000000 -0.494588 -0.534432 -0.232471  0.291512 -0.496996  \n",
       "RAD     -0.494588  1.000000  0.910228  0.464741 -0.444413  0.488676  \n",
       "TAX     -0.534432  0.910228  1.000000  0.460853 -0.441808  0.543993  \n",
       "PTRATIO -0.232471  0.464741  0.460853  1.000000 -0.177383  0.374044  \n",
       "B        0.291512 -0.444413 -0.441808 -0.177383  1.000000 -0.366087  \n",
       "LSTAT   -0.496996  0.488676  0.543993  0.374044 -0.366087  1.000000  "
      ]
     },
     "execution_count": 9,
     "metadata": {},
     "output_type": "execute_result"
    }
   ],
   "source": [
    "X.corr()"
   ]
  },
  {
   "cell_type": "code",
   "execution_count": 10,
   "id": "0a9bd740",
   "metadata": {
    "execution": {
     "iopub.execute_input": "2022-09-17T09:49:28.388275Z",
     "iopub.status.busy": "2022-09-17T09:49:28.387617Z",
     "iopub.status.idle": "2022-09-17T09:49:29.568971Z",
     "shell.execute_reply": "2022-09-17T09:49:29.567719Z"
    },
    "papermill": {
     "duration": 1.192712,
     "end_time": "2022-09-17T09:49:29.572348",
     "exception": false,
     "start_time": "2022-09-17T09:49:28.379636",
     "status": "completed"
    },
    "tags": []
   },
   "outputs": [
    {
     "data": {
      "image/png": "[encoded data removed]",
      "text/plain": [
       "<Figure size 720x720 with 2 Axes>"
      ]
     },
     "metadata": {
      "needs_background": "light"
     },
     "output_type": "display_data"
    }
   ],
   "source": [
    "# строим тепловую карту матрицы корреляций\n",
    "plt.figure(figsize=(10,10))\n",
    "heatmap=sns.heatmap(X[:].corr(), vmin=-1, vmax=1, annot=True)\n",
    "heatmap.set_title('Correlation Matrix', fontdict={'fontsize':14}, pad=12);"
   ]
  },
  {
   "cell_type": "code",
   "execution_count": 11,
   "id": "d407e52c",
   "metadata": {
    "execution": {
     "iopub.execute_input": "2022-09-17T09:49:29.591936Z",
     "iopub.status.busy": "2022-09-17T09:49:29.590788Z",
     "iopub.status.idle": "2022-09-17T09:49:29.654836Z",
     "shell.execute_reply": "2022-09-17T09:49:29.653696Z"
    },
    "papermill": {
     "duration": 0.076044,
     "end_time": "2022-09-17T09:49:29.657169",
     "exception": false,
     "start_time": "2022-09-17T09:49:29.581125",
     "status": "completed"
    },
    "tags": []
   },
   "outputs": [
    {
     "data": {
      "text/plain": [
       "Int64Index([ 33, 283, 418, 502, 402, 368, 201, 310, 343, 230,\n",
       "            ...\n",
       "            228,   8,  73, 400, 118, 486, 189, 495, 206, 355],\n",
       "           dtype='int64', length=404)"
      ]
     },
     "execution_count": 11,
     "metadata": {},
     "output_type": "execute_result"
    }
   ],
   "source": [
    "from sklearn.model_selection import train_test_split\n",
    "\n",
    "X_train, X_test, y_train, y_test = train_test_split(X, y, test_size=0.2, random_state=5)\n",
    "X_train.index"
   ]
  },
  {
   "cell_type": "code",
   "execution_count": 12,
   "id": "bb9cb904",
   "metadata": {
    "execution": {
     "iopub.execute_input": "2022-09-17T09:49:29.676628Z",
     "iopub.status.busy": "2022-09-17T09:49:29.676201Z",
     "iopub.status.idle": "2022-09-17T09:49:29.704694Z",
     "shell.execute_reply": "2022-09-17T09:49:29.703560Z"
    },
    "papermill": {
     "duration": 0.040955,
     "end_time": "2022-09-17T09:49:29.707012",
     "exception": false,
     "start_time": "2022-09-17T09:49:29.666057",
     "status": "completed"
    },
    "tags": []
   },
   "outputs": [
    {
     "data": {
      "text/html": [
       "<div>\n",
       "<style scoped>\n",
       "    .dataframe tbody tr th:only-of-type {\n",
       "        vertical-align: middle;\n",
       "    }\n",
       "\n",
       "    .dataframe tbody tr th {\n",
       "        vertical-align: top;\n",
       "    }\n",
       "\n",
       "    .dataframe thead th {\n",
       "        text-align: right;\n",
       "    }\n",
       "</style>\n",
       "<table border=\"1\" class=\"dataframe\">\n",
       "  <thead>\n",
       "    <tr style=\"text-align: right;\">\n",
       "      <th></th>\n",
       "      <th>CRIM</th>\n",
       "      <th>ZN</th>\n",
       "      <th>INDUS</th>\n",
       "      <th>CHAS</th>\n",
       "      <th>NOX</th>\n",
       "      <th>RM</th>\n",
       "      <th>AGE</th>\n",
       "      <th>DIS</th>\n",
       "      <th>RAD</th>\n",
       "      <th>TAX</th>\n",
       "      <th>PTRATIO</th>\n",
       "      <th>B</th>\n",
       "      <th>LSTAT</th>\n",
       "    </tr>\n",
       "  </thead>\n",
       "  <tbody>\n",
       "    <tr>\n",
       "      <th>33</th>\n",
       "      <td>1.15172</td>\n",
       "      <td>0.0</td>\n",
       "      <td>8.14</td>\n",
       "      <td>0.0</td>\n",
       "      <td>0.538</td>\n",
       "      <td>5.701</td>\n",
       "      <td>95.0</td>\n",
       "      <td>3.7872</td>\n",
       "      <td>4.0</td>\n",
       "      <td>307.0</td>\n",
       "      <td>21.0</td>\n",
       "      <td>358.77</td>\n",
       "      <td>18.35</td>\n",
       "    </tr>\n",
       "    <tr>\n",
       "      <th>283</th>\n",
       "      <td>0.01501</td>\n",
       "      <td>90.0</td>\n",
       "      <td>1.21</td>\n",
       "      <td>1.0</td>\n",
       "      <td>0.401</td>\n",
       "      <td>7.923</td>\n",
       "      <td>24.8</td>\n",
       "      <td>5.8850</td>\n",
       "      <td>1.0</td>\n",
       "      <td>198.0</td>\n",
       "      <td>13.6</td>\n",
       "      <td>395.52</td>\n",
       "      <td>3.16</td>\n",
       "    </tr>\n",
       "    <tr>\n",
       "      <th>418</th>\n",
       "      <td>73.53410</td>\n",
       "      <td>0.0</td>\n",
       "      <td>18.10</td>\n",
       "      <td>0.0</td>\n",
       "      <td>0.679</td>\n",
       "      <td>5.957</td>\n",
       "      <td>100.0</td>\n",
       "      <td>1.8026</td>\n",
       "      <td>24.0</td>\n",
       "      <td>666.0</td>\n",
       "      <td>20.2</td>\n",
       "      <td>16.45</td>\n",
       "      <td>20.62</td>\n",
       "    </tr>\n",
       "    <tr>\n",
       "      <th>502</th>\n",
       "      <td>0.04527</td>\n",
       "      <td>0.0</td>\n",
       "      <td>11.93</td>\n",
       "      <td>0.0</td>\n",
       "      <td>0.573</td>\n",
       "      <td>6.120</td>\n",
       "      <td>76.7</td>\n",
       "      <td>2.2875</td>\n",
       "      <td>1.0</td>\n",
       "      <td>273.0</td>\n",
       "      <td>21.0</td>\n",
       "      <td>396.90</td>\n",
       "      <td>9.08</td>\n",
       "    </tr>\n",
       "    <tr>\n",
       "      <th>402</th>\n",
       "      <td>9.59571</td>\n",
       "      <td>0.0</td>\n",
       "      <td>18.10</td>\n",
       "      <td>0.0</td>\n",
       "      <td>0.693</td>\n",
       "      <td>6.404</td>\n",
       "      <td>100.0</td>\n",
       "      <td>1.6390</td>\n",
       "      <td>24.0</td>\n",
       "      <td>666.0</td>\n",
       "      <td>20.2</td>\n",
       "      <td>376.11</td>\n",
       "      <td>20.31</td>\n",
       "    </tr>\n",
       "    <tr>\n",
       "      <th>...</th>\n",
       "      <td>...</td>\n",
       "      <td>...</td>\n",
       "      <td>...</td>\n",
       "      <td>...</td>\n",
       "      <td>...</td>\n",
       "      <td>...</td>\n",
       "      <td>...</td>\n",
       "      <td>...</td>\n",
       "      <td>...</td>\n",
       "      <td>...</td>\n",
       "      <td>...</td>\n",
       "      <td>...</td>\n",
       "      <td>...</td>\n",
       "    </tr>\n",
       "    <tr>\n",
       "      <th>486</th>\n",
       "      <td>5.69175</td>\n",
       "      <td>0.0</td>\n",
       "      <td>18.10</td>\n",
       "      <td>0.0</td>\n",
       "      <td>0.583</td>\n",
       "      <td>6.114</td>\n",
       "      <td>79.8</td>\n",
       "      <td>3.5459</td>\n",
       "      <td>24.0</td>\n",
       "      <td>666.0</td>\n",
       "      <td>20.2</td>\n",
       "      <td>392.68</td>\n",
       "      <td>14.98</td>\n",
       "    </tr>\n",
       "    <tr>\n",
       "      <th>189</th>\n",
       "      <td>0.08370</td>\n",
       "      <td>45.0</td>\n",
       "      <td>3.44</td>\n",
       "      <td>0.0</td>\n",
       "      <td>0.437</td>\n",
       "      <td>7.185</td>\n",
       "      <td>38.9</td>\n",
       "      <td>4.5667</td>\n",
       "      <td>5.0</td>\n",
       "      <td>398.0</td>\n",
       "      <td>15.2</td>\n",
       "      <td>396.90</td>\n",
       "      <td>5.39</td>\n",
       "    </tr>\n",
       "    <tr>\n",
       "      <th>495</th>\n",
       "      <td>0.17899</td>\n",
       "      <td>0.0</td>\n",
       "      <td>9.69</td>\n",
       "      <td>0.0</td>\n",
       "      <td>0.585</td>\n",
       "      <td>5.670</td>\n",
       "      <td>28.8</td>\n",
       "      <td>2.7986</td>\n",
       "      <td>6.0</td>\n",
       "      <td>391.0</td>\n",
       "      <td>19.2</td>\n",
       "      <td>393.29</td>\n",
       "      <td>17.60</td>\n",
       "    </tr>\n",
       "    <tr>\n",
       "      <th>206</th>\n",
       "      <td>0.22969</td>\n",
       "      <td>0.0</td>\n",
       "      <td>10.59</td>\n",
       "      <td>0.0</td>\n",
       "      <td>0.489</td>\n",
       "      <td>6.326</td>\n",
       "      <td>52.5</td>\n",
       "      <td>4.3549</td>\n",
       "      <td>4.0</td>\n",
       "      <td>277.0</td>\n",
       "      <td>18.6</td>\n",
       "      <td>394.87</td>\n",
       "      <td>10.97</td>\n",
       "    </tr>\n",
       "    <tr>\n",
       "      <th>355</th>\n",
       "      <td>0.10659</td>\n",
       "      <td>80.0</td>\n",
       "      <td>1.91</td>\n",
       "      <td>0.0</td>\n",
       "      <td>0.413</td>\n",
       "      <td>5.936</td>\n",
       "      <td>19.5</td>\n",
       "      <td>10.5857</td>\n",
       "      <td>4.0</td>\n",
       "      <td>334.0</td>\n",
       "      <td>22.0</td>\n",
       "      <td>376.04</td>\n",
       "      <td>5.57</td>\n",
       "    </tr>\n",
       "  </tbody>\n",
       "</table>\n",
       "<p>404 rows × 13 columns</p>\n",
       "</div>"
      ],
      "text/plain": [
       "         CRIM    ZN  INDUS  CHAS    NOX     RM    AGE      DIS   RAD    TAX  \\\n",
       "33    1.15172   0.0   8.14   0.0  0.538  5.701   95.0   3.7872   4.0  307.0   \n",
       "283   0.01501  90.0   1.21   1.0  0.401  7.923   24.8   5.8850   1.0  198.0   \n",
       "418  73.53410   0.0  18.10   0.0  0.679  5.957  100.0   1.8026  24.0  666.0   \n",
       "502   0.04527   0.0  11.93   0.0  0.573  6.120   76.7   2.2875   1.0  273.0   \n",
       "402   9.59571   0.0  18.10   0.0  0.693  6.404  100.0   1.6390  24.0  666.0   \n",
       "..        ...   ...    ...   ...    ...    ...    ...      ...   ...    ...   \n",
       "486   5.69175   0.0  18.10   0.0  0.583  6.114   79.8   3.5459  24.0  666.0   \n",
       "189   0.08370  45.0   3.44   0.0  0.437  7.185   38.9   4.5667   5.0  398.0   \n",
       "495   0.17899   0.0   9.69   0.0  0.585  5.670   28.8   2.7986   6.0  391.0   \n",
       "206   0.22969   0.0  10.59   0.0  0.489  6.326   52.5   4.3549   4.0  277.0   \n",
       "355   0.10659  80.0   1.91   0.0  0.413  5.936   19.5  10.5857   4.0  334.0   \n",
       "\n",
       "     PTRATIO       B  LSTAT  \n",
       "33      21.0  358.77  18.35  \n",
       "283     13.6  395.52   3.16  \n",
       "418     20.2   16.45  20.62  \n",
       "502     21.0  396.90   9.08  \n",
       "402     20.2  376.11  20.31  \n",
       "..       ...     ...    ...  \n",
       "486     20.2  392.68  14.98  \n",
       "189     15.2  396.90   5.39  \n",
       "495     19.2  393.29  17.60  \n",
       "206     18.6  394.87  10.97  \n",
       "355     22.0  376.04   5.57  \n",
       "\n",
       "[404 rows x 13 columns]"
      ]
     },
     "execution_count": 12,
     "metadata": {},
     "output_type": "execute_result"
    }
   ],
   "source": [
    "X_train"
   ]
  },
  {
   "cell_type": "code",
   "execution_count": 13,
   "id": "b4e1c7c2",
   "metadata": {
    "execution": {
     "iopub.execute_input": "2022-09-17T09:49:29.727483Z",
     "iopub.status.busy": "2022-09-17T09:49:29.726498Z",
     "iopub.status.idle": "2022-09-17T09:49:29.736482Z",
     "shell.execute_reply": "2022-09-17T09:49:29.735539Z"
    },
    "papermill": {
     "duration": 0.022443,
     "end_time": "2022-09-17T09:49:29.738600",
     "exception": false,
     "start_time": "2022-09-17T09:49:29.716157",
     "status": "completed"
    },
    "tags": []
   },
   "outputs": [
    {
     "data": {
      "text/plain": [
       "array([13.1, 50. ,  8.8, 20.6, 12.1, 50. , 24.1, 16.1, 23.9, 24.3, 13.1,\n",
       "       30.3, 15.2, 13.8, 26.4, 16.6, 18.9, 17.6, 18.7, 33.4, 20.7, 17.1,\n",
       "       23.4, 26.5, 21.4, 21.5, 19.2, 50. , 50. , 23. , 10.5, 17.8, 10.9,\n",
       "       21. , 13.8, 10.5, 22.2, 30.5, 19.4, 15.6, 20.2, 19.3, 34.6, 50. ,\n",
       "       24. , 18.7, 19.8, 22.5, 13.3, 50. , 11.8, 11. , 23.7, 35.4, 15.2,\n",
       "       24.4, 33.4, 31.6, 13.4, 34.9, 14.4, 35.4, 25.3, 18.3, 16.6, 13.4,\n",
       "       23.6, 27.5, 22.2, 17.7, 14.3, 21.7,  8.4, 15.3, 20.3, 32. , 20. ,\n",
       "       19.1, 28.7, 46. , 22.6, 23.9, 21.9, 15.6, 50. , 25. , 37.9, 21.6,\n",
       "       19.3, 17.5, 22.9, 15. , 27.5, 10.2, 23.8, 23.9, 20.1, 16.5, 33.1,\n",
       "       14.6, 28.4, 23.7, 12.3, 31.5, 22. , 12.5, 35.1, 14.9, 22.9, 22.9,\n",
       "       19.3, 19.8, 20. , 29.6, 20.5, 29. , 20.7, 19.9, 11.9,  5. , 23.3,\n",
       "       20.6, 22.9, 19.6, 14.1, 30.8, 43.1, 19.9, 13.9, 22.3, 14.3, 23.9,\n",
       "       16. , 20.5, 10.2, 20.1, 12.8, 18.9, 22. , 20.4, 17.5, 13.1, 22. ,\n",
       "       45.4, 18.8, 20. , 20.1, 21.4, 17.4, 21.1, 28.1, 19.5, 36.2, 20.8,\n",
       "       18.6, 21.2, 42.8, 24.8, 25. , 23.3, 28.2, 21.6, 21. , 11.9, 50. ,\n",
       "       17.8, 34.7, 28.4, 14.5, 30.1, 19.8, 19.3, 18.4,  9.6, 29.1, 13.4,\n",
       "       17.1, 22. , 31.5, 31.2, 24.3, 10.9, 26.6, 26.2, 17. , 36.2, 24.1,\n",
       "       22. , 22.4, 18. , 14.9, 13.6, 22.6, 23.8, 11.3, 37.3, 38.7, 20.1,\n",
       "       12. , 28.5, 29.6, 20.9, 22.2, 18.5, 21.7, 16.1, 15. , 33.3, 23.8,\n",
       "       20.1, 16.7, 21.2, 20.8, 36.4, 18.9, 18.2, 13.3, 29.9, 50. , 20.9,\n",
       "       25. ,  7.2, 31.1, 19.2, 20. , 27.5, 19.1,  8.4, 13.9, 13.5, 15.6,\n",
       "       18.2, 19.5, 42.3, 32.9, 16.2, 17.8, 43.5, 20.3, 17.4, 18.3, 12.6,\n",
       "       31.6, 29.1, 21.1, 15.1, 25. , 24.2, 16.8, 25.2,  9.5, 30.7, 50. ,\n",
       "       14.5, 22.3, 20. , 23.7, 24.8, 33.8, 24.5, 16.4, 15.2, 18.5, 22.8,\n",
       "       29.8, 23.3, 26.7, 20.4, 19. , 27. , 22.8, 24.6, 33.2, 23.1, 18.9,\n",
       "       23. , 22.5, 50. , 22. , 23.3, 21. , 23.1, 29.8, 19.9, 24.6, 39.8,\n",
       "       48.3,  8.5,  7.2, 25. , 15.7, 25. , 36.5, 33. , 11.7, 23.7, 15.4,\n",
       "        8.8, 20.6, 13.4, 29.4,  5. ,  7.5, 23.1, 19.4, 13.2, 14.5, 41.7,\n",
       "       24. , 13.8,  8.5, 17.2, 32. , 23.6, 11.5, 20.2, 33.1, 24.7, 22.8,\n",
       "       16.1, 18.2, 20.6, 23.1, 23.2, 32.7, 28.7, 24.8, 16.3, 21.8, 21.2,\n",
       "       22. ,  7.4, 32.5, 10.4, 18.5, 50. , 37. , 13.6, 19.4, 21.9, 17.8,\n",
       "       18.1, 18.5, 50. , 32.4, 14.6, 19.5, 21.7, 25. , 36. , 23.2, 21.8,\n",
       "       37.2, 19.9, 22.7, 21.7, 10.2, 44. , 23.8, 28.7, 19.5, 11.8, 19.3,\n",
       "       21.7,  7.2, 24.5, 26.6, 20.8, 17.1, 13.3, 21.9, 15.6, 21.4, 22.5,\n",
       "       19.1, 12.7, 14.1, 23.5, 48.5, 22.6, 21.2, 14.8, 28. ,  8.7, 18.7,\n",
       "        6.3, 50. , 27.1, 24.4, 24.3, 18.8, 17.2, 14.9, 31.7, 46.7, 16.5,\n",
       "       23.4,  5.6, 20.4, 19.1, 34.9, 23.1, 24.4, 20.6])"
      ]
     },
     "execution_count": 13,
     "metadata": {},
     "output_type": "execute_result"
    }
   ],
   "source": [
    "y_train"
   ]
  },
  {
   "cell_type": "markdown",
   "id": "bcf4fe08",
   "metadata": {
    "papermill": {
     "duration": 0.00894,
     "end_time": "2022-09-17T09:49:29.756982",
     "exception": false,
     "start_time": "2022-09-17T09:49:29.748042",
     "status": "completed"
    },
    "tags": []
   },
   "source": [
    "## Обучить модель"
   ]
  },
  {
   "cell_type": "code",
   "execution_count": 14,
   "id": "0427e0c0",
   "metadata": {
    "execution": {
     "iopub.execute_input": "2022-09-17T09:49:29.777929Z",
     "iopub.status.busy": "2022-09-17T09:49:29.777485Z",
     "iopub.status.idle": "2022-09-17T09:49:29.850074Z",
     "shell.execute_reply": "2022-09-17T09:49:29.849052Z"
    },
    "papermill": {
     "duration": 0.086364,
     "end_time": "2022-09-17T09:49:29.852568",
     "exception": false,
     "start_time": "2022-09-17T09:49:29.766204",
     "status": "completed"
    },
    "tags": []
   },
   "outputs": [],
   "source": [
    "from sklearn.linear_model import LinearRegression\n",
    "\n",
    "model = LinearRegression()"
   ]
  },
  {
   "cell_type": "code",
   "execution_count": 15,
   "id": "a42e65b3",
   "metadata": {
    "execution": {
     "iopub.execute_input": "2022-09-17T09:49:29.873426Z",
     "iopub.status.busy": "2022-09-17T09:49:29.872756Z",
     "iopub.status.idle": "2022-09-17T09:49:29.898672Z",
     "shell.execute_reply": "2022-09-17T09:49:29.897429Z"
    },
    "papermill": {
     "duration": 0.039195,
     "end_time": "2022-09-17T09:49:29.901149",
     "exception": false,
     "start_time": "2022-09-17T09:49:29.861954",
     "status": "completed"
    },
    "tags": []
   },
   "outputs": [
    {
     "data": {
      "text/plain": [
       "LinearRegression()"
      ]
     },
     "execution_count": 15,
     "metadata": {},
     "output_type": "execute_result"
    }
   ],
   "source": [
    "model.fit(\n",
    "    X_train,\n",
    "    y_train\n",
    ")"
   ]
  },
  {
   "cell_type": "markdown",
   "id": "8a892f41",
   "metadata": {
    "papermill": {
     "duration": 0.00895,
     "end_time": "2022-09-17T09:49:29.919672",
     "exception": false,
     "start_time": "2022-09-17T09:49:29.910722",
     "status": "completed"
    },
    "tags": []
   },
   "source": [
    "## Оценить точность модели на обучающей выборке и тестовой"
   ]
  },
  {
   "cell_type": "code",
   "execution_count": 16,
   "id": "d0840236",
   "metadata": {
    "execution": {
     "iopub.execute_input": "2022-09-17T09:49:29.940271Z",
     "iopub.status.busy": "2022-09-17T09:49:29.939376Z",
     "iopub.status.idle": "2022-09-17T09:49:29.947402Z",
     "shell.execute_reply": "2022-09-17T09:49:29.946295Z"
    },
    "papermill": {
     "duration": 0.020711,
     "end_time": "2022-09-17T09:49:29.949553",
     "exception": false,
     "start_time": "2022-09-17T09:49:29.928842",
     "status": "completed"
    },
    "tags": []
   },
   "outputs": [],
   "source": [
    "pred_train = model.predict(\n",
    "    X_train\n",
    ")"
   ]
  },
  {
   "cell_type": "code",
   "execution_count": 17,
   "id": "a9df3b50",
   "metadata": {
    "execution": {
     "iopub.execute_input": "2022-09-17T09:49:29.970915Z",
     "iopub.status.busy": "2022-09-17T09:49:29.970045Z",
     "iopub.status.idle": "2022-09-17T09:49:29.976784Z",
     "shell.execute_reply": "2022-09-17T09:49:29.975756Z"
    },
    "papermill": {
     "duration": 0.020178,
     "end_time": "2022-09-17T09:49:29.979086",
     "exception": false,
     "start_time": "2022-09-17T09:49:29.958908",
     "status": "completed"
    },
    "tags": []
   },
   "outputs": [],
   "source": [
    "pred_test = model.predict(\n",
    "    X_test\n",
    ")"
   ]
  },
  {
   "cell_type": "code",
   "execution_count": 18,
   "id": "ba09070b",
   "metadata": {
    "execution": {
     "iopub.execute_input": "2022-09-17T09:49:29.999358Z",
     "iopub.status.busy": "2022-09-17T09:49:29.998978Z",
     "iopub.status.idle": "2022-09-17T09:49:30.007992Z",
     "shell.execute_reply": "2022-09-17T09:49:30.006620Z"
    },
    "papermill": {
     "duration": 0.022118,
     "end_time": "2022-09-17T09:49:30.010442",
     "exception": false,
     "start_time": "2022-09-17T09:49:29.988324",
     "status": "completed"
    },
    "tags": []
   },
   "outputs": [
    {
     "name": "stdout",
     "output_type": "stream",
     "text": [
      "Средняя квадратичная ошибка (MSE) модели на обучающей выборке 22.477090408387625\n",
      "Средняя квадратичная ошибка (MSE) модели на тестовой выборке 20.86929218377085\n",
      "\n",
      "Коэффициент детерминации (R^2) модели на обучающей выборке 0.738339392059052\n",
      "Коэффициент детерминации (R^2) модели на тестовой выборке 0.7334492147453071\n"
     ]
    }
   ],
   "source": [
    "from sklearn.metrics import mean_squared_error, r2_score\n",
    "\n",
    "print(f\"Средняя квадратичная ошибка (MSE) модели на обучающей выборке {mean_squared_error(y_train, pred_train)}\")\n",
    "print(f\"Средняя квадратичная ошибка (MSE) модели на тестовой выборке {mean_squared_error(y_test, pred_test)}\")\n",
    "print()\n",
    "print(f\"Коэффициент детерминации (R^2) модели на обучающей выборке {r2_score(y_train, pred_train)}\")\n",
    "print(f\"Коэффициент детерминации (R^2) модели на тестовой выборке {r2_score(y_test, pred_test)}\")"
   ]
  }
 ],
 "metadata": {
  "kernelspec": {
   "display_name": "Python 3",
   "language": "python",
   "name": "python3"
  },
  "language_info": {
   "codemirror_mode": {
    "name": "ipython",
    "version": 3
   },
   "file_extension": ".py",
   "mimetype": "text/x-python",
   "name": "python",
   "nbconvert_exporter": "python",
   "pygments_lexer": "ipython3",
   "version": "3.7.12"
  },
  "papermill": {
   "default_parameters": {},
   "duration": 14.223935,
   "end_time": "2022-09-17T09:49:30.842271",
   "environment_variables": {},
   "exception": null,
   "input_path": "__notebook__.ipynb",
   "output_path": "__notebook__.ipynb",
   "parameters": {},
   "start_time": "2022-09-17T09:49:16.618336",
   "version": "2.3.4"
  }
 },
 "nbformat": 4,
 "nbformat_minor": 5
}
