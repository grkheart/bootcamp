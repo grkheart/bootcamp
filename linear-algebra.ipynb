{
 "cells": [
  {
   "cell_type": "code",
   "execution_count": 1,
   "id": "eb92f9c0",
   "metadata": {
    "_cell_guid": "b1076dfc-b9ad-4769-8c92-a6c4dae69d19",
    "_uuid": "8f2839f25d086af736a60e9eeb907d3b93b6e0e5",
    "execution": {
     "iopub.execute_input": "2022-09-11T07:32:58.158270Z",
     "iopub.status.busy": "2022-09-11T07:32:58.157429Z",
     "iopub.status.idle": "2022-09-11T07:32:58.171044Z",
     "shell.execute_reply": "2022-09-11T07:32:58.169837Z"
    },
    "papermill": {
     "duration": 0.022349,
     "end_time": "2022-09-11T07:32:58.174065",
     "exception": false,
     "start_time": "2022-09-11T07:32:58.151716",
     "status": "completed"
    },
    "tags": []
   },
   "outputs": [],
   "source": [
    "# This Python 3 environment comes with many helpful analytics libraries installed\n",
    "# It is defined by the kaggle/python Docker image: https://github.com/kaggle/docker-python\n",
    "# For example, here's several helpful packages to load\n",
    "\n",
    "import numpy as np # linear algebra\n",
    "import pandas as pd # data processing, CSV file I/O (e.g. pd.read_csv)\n",
    "\n",
    "# Input data files are available in the read-only \"../input/\" directory\n",
    "# For example, running this (by clicking run or pressing Shift+Enter) will list all files under the input directory\n",
    "\n",
    "import os\n",
    "for dirname, _, filenames in os.walk('/kaggle/input'):\n",
    "    for filename in filenames:\n",
    "        print(os.path.join(dirname, filename))\n",
    "\n",
    "# You can write up to 20GB to the current directory (/kaggle/working/) that gets preserved as output when you create a version using \"Save & Run All\" \n",
    "# You can also write temporary files to /kaggle/temp/, but they won't be saved outside of the current session"
   ]
  },
  {
   "cell_type": "markdown",
   "id": "b3ecaa15",
   "metadata": {
    "papermill": {
     "duration": 0.002651,
     "end_time": "2022-09-11T07:32:58.180054",
     "exception": false,
     "start_time": "2022-09-11T07:32:58.177403",
     "status": "completed"
    },
    "tags": []
   },
   "source": [
    "## ДЗ: Линейная алгебра"
   ]
  },
  {
   "cell_type": "code",
   "execution_count": 2,
   "id": "41ae538f",
   "metadata": {
    "execution": {
     "iopub.execute_input": "2022-09-11T07:32:58.188043Z",
     "iopub.status.busy": "2022-09-11T07:32:58.187349Z",
     "iopub.status.idle": "2022-09-11T07:32:59.257832Z",
     "shell.execute_reply": "2022-09-11T07:32:59.256815Z"
    },
    "papermill": {
     "duration": 1.077658,
     "end_time": "2022-09-11T07:32:59.260539",
     "exception": false,
     "start_time": "2022-09-11T07:32:58.182881",
     "status": "completed"
    },
    "tags": []
   },
   "outputs": [],
   "source": [
    "import sympy\n",
    "sympy.init_printing(use_unicode=True)"
   ]
  },
  {
   "cell_type": "markdown",
   "id": "fbbb74f2",
   "metadata": {
    "papermill": {
     "duration": 0.002653,
     "end_time": "2022-09-11T07:32:59.266462",
     "exception": false,
     "start_time": "2022-09-11T07:32:59.263809",
     "status": "completed"
    },
    "tags": []
   },
   "source": [
    "### 1. Найти \n",
    "\n",
    "$A+B$:\n",
    "A = $\\begin{pmatrix}\n",
    "1 & 3 & 0\\\\\n",
    "2 & -4 & 3\\\\\n",
    "5 & 6 & 9\\\\\n",
    "\\end{pmatrix}$\n",
    "\n",
    "B = $\\begin{pmatrix}\n",
    "10 & 6 & -2\\\\\n",
    "0 & 7 & 4\\\\\n",
    "-1 & 2 & 0\\\\\n",
    "\\end{pmatrix}$"
   ]
  },
  {
   "cell_type": "code",
   "execution_count": 3,
   "id": "67d12587",
   "metadata": {
    "execution": {
     "iopub.execute_input": "2022-09-11T07:32:59.274253Z",
     "iopub.status.busy": "2022-09-11T07:32:59.273356Z",
     "iopub.status.idle": "2022-09-11T07:32:59.622121Z",
     "shell.execute_reply": "2022-09-11T07:32:59.620681Z"
    },
    "papermill": {
     "duration": 0.356011,
     "end_time": "2022-09-11T07:32:59.625254",
     "exception": false,
     "start_time": "2022-09-11T07:32:59.269243",
     "status": "completed"
    },
    "tags": []
   },
   "outputs": [
    {
     "data": {
      "text/latex": [
       "$\\displaystyle \\left( \\left[\\begin{matrix}11 & 9 & -2\\\\2 & 3 & 7\\\\4 & 8 & 9\\end{matrix}\\right], \\  \\left[\\begin{matrix}11 & 9 & -2\\\\2 & 3 & 7\\\\4 & 8 & 9\\end{matrix}\\right]\\right)$"
      ],
      "text/plain": [
       "⎛⎡11  9  -2⎤  ⎡11  9  -2⎤⎞\n",
       "⎜⎢         ⎥  ⎢         ⎥⎟\n",
       "⎜⎢2   3  7 ⎥, ⎢2   3  7 ⎥⎟\n",
       "⎜⎢         ⎥  ⎢         ⎥⎟\n",
       "⎝⎣4   8  9 ⎦  ⎣4   8  9 ⎦⎠"
      ]
     },
     "execution_count": 3,
     "metadata": {},
     "output_type": "execute_result"
    }
   ],
   "source": [
    "A=sympy.Matrix([[1, 3, 0], [2, -4, 3], [5, 6, 9]])\n",
    "B=sympy.Matrix([[10, 6, -2], [0, 7, 4], [-1, 2, 0]])\n",
    "A+B, B+A"
   ]
  },
  {
   "cell_type": "markdown",
   "id": "ae45cf89",
   "metadata": {
    "papermill": {
     "duration": 0.002717,
     "end_time": "2022-09-11T07:32:59.631262",
     "exception": false,
     "start_time": "2022-09-11T07:32:59.628545",
     "status": "completed"
    },
    "tags": []
   },
   "source": [
    "### 2. Найти \n",
    "\n",
    "$A*B$:\n",
    "A = $\\begin{pmatrix}\n",
    "2 & 8\\\\\n",
    "3 & 4\\\\\n",
    "\\end{pmatrix}$,\n",
    "B = $\\begin{pmatrix}\n",
    "1 & 0\\\\\n",
    "4 & 9\\\\\n",
    "\\end{pmatrix}$"
   ]
  },
  {
   "cell_type": "code",
   "execution_count": 4,
   "id": "458e1e83",
   "metadata": {
    "execution": {
     "iopub.execute_input": "2022-09-11T07:32:59.639125Z",
     "iopub.status.busy": "2022-09-11T07:32:59.638699Z",
     "iopub.status.idle": "2022-09-11T07:32:59.700738Z",
     "shell.execute_reply": "2022-09-11T07:32:59.699374Z"
    },
    "papermill": {
     "duration": 0.069008,
     "end_time": "2022-09-11T07:32:59.703234",
     "exception": false,
     "start_time": "2022-09-11T07:32:59.634226",
     "status": "completed"
    },
    "tags": []
   },
   "outputs": [
    {
     "data": {
      "text/latex": [
       "$\\displaystyle \\left( \\left[\\begin{matrix}34 & 72\\\\19 & 36\\end{matrix}\\right], \\  \\left[\\begin{matrix}2 & 8\\\\35 & 68\\end{matrix}\\right]\\right)$"
      ],
      "text/plain": [
       "⎛⎡34  72⎤  ⎡2   8 ⎤⎞\n",
       "⎜⎢      ⎥, ⎢      ⎥⎟\n",
       "⎝⎣19  36⎦  ⎣35  68⎦⎠"
      ]
     },
     "execution_count": 4,
     "metadata": {},
     "output_type": "execute_result"
    }
   ],
   "source": [
    "A=sympy.Matrix([[2, 8], [3, 4]])\n",
    "B=sympy.Matrix([[1, 0], [4, 9]])\n",
    "A*B, B*A"
   ]
  },
  {
   "cell_type": "markdown",
   "id": "d3a11b11",
   "metadata": {
    "papermill": {
     "duration": 0.002965,
     "end_time": "2022-09-11T07:32:59.709540",
     "exception": false,
     "start_time": "2022-09-11T07:32:59.706575",
     "status": "completed"
    },
    "tags": []
   },
   "source": [
    "### 3. Вычислить определители:\n",
    "\n",
    "\\begin{vmatrix}\n",
    "3 & 7\\\\\n",
    "6 & 9\\\\\n",
    "\\end{vmatrix}$\n",
    "$\\begin{vmatrix}\n",
    "4 & 1 & 9\\\\\n",
    "3 & 2 & 0\\\\\n",
    "8 & 7 & 5\\\\\n",
    "\\end{vmatrix}"
   ]
  },
  {
   "cell_type": "code",
   "execution_count": 5,
   "id": "8891bde4",
   "metadata": {
    "execution": {
     "iopub.execute_input": "2022-09-11T07:32:59.717661Z",
     "iopub.status.busy": "2022-09-11T07:32:59.717197Z",
     "iopub.status.idle": "2022-09-11T07:32:59.846822Z",
     "shell.execute_reply": "2022-09-11T07:32:59.845426Z"
    },
    "papermill": {
     "duration": 0.13699,
     "end_time": "2022-09-11T07:32:59.849530",
     "exception": false,
     "start_time": "2022-09-11T07:32:59.712540",
     "status": "completed"
    },
    "tags": []
   },
   "outputs": [
    {
     "data": {
      "image/png": "[encoded data removed]",
      "text/latex": [
       "$\\displaystyle \\left( -15, \\  70\\right)$"
      ],
      "text/plain": [
       "(-15, 70)"
      ]
     },
     "execution_count": 5,
     "metadata": {},
     "output_type": "execute_result"
    }
   ],
   "source": [
    "A = sympy.Matrix([[3, 7], [6, 9]])\n",
    "B = sympy.Matrix([[4, 1, 9], [3, 2, 0], [8, 7, 5]])\n",
    "A.det(), B.det()"
   ]
  }
 ],
 "metadata": {
  "kernelspec": {
   "display_name": "Python 3",
   "language": "python",
   "name": "python3"
  },
  "language_info": {
   "codemirror_mode": {
    "name": "ipython",
    "version": 3
   },
   "file_extension": ".py",
   "mimetype": "text/x-python",
   "name": "python",
   "nbconvert_exporter": "python",
   "pygments_lexer": "ipython3",
   "version": "3.7.12"
  },
  "papermill": {
   "default_parameters": {},
   "duration": 11.993542,
   "end_time": "2022-09-11T07:33:00.676049",
   "environment_variables": {},
   "exception": null,
   "input_path": "__notebook__.ipynb",
   "output_path": "__notebook__.ipynb",
   "parameters": {},
   "start_time": "2022-09-11T07:32:48.682507",
   "version": "2.3.4"
  }
 },
 "nbformat": 4,
 "nbformat_minor": 5
}
