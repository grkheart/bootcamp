{
 "cells": [
  {
   "cell_type": "code",
   "execution_count": 1,
   "id": "2a4b178e",
   "metadata": {
    "_cell_guid": "b1076dfc-b9ad-4769-8c92-a6c4dae69d19",
    "_uuid": "8f2839f25d086af736a60e9eeb907d3b93b6e0e5",
    "execution": {
     "iopub.execute_input": "2022-09-07T07:25:06.341896Z",
     "iopub.status.busy": "2022-09-07T07:25:06.341426Z",
     "iopub.status.idle": "2022-09-07T07:25:06.357092Z",
     "shell.execute_reply": "2022-09-07T07:25:06.355887Z"
    },
    "papermill": {
     "duration": 0.027857,
     "end_time": "2022-09-07T07:25:06.360197",
     "exception": false,
     "start_time": "2022-09-07T07:25:06.332340",
     "status": "completed"
    },
    "tags": []
   },
   "outputs": [],
   "source": [
    "# This Python 3 environment comes with many helpful analytics libraries installed\n",
    "# It is defined by the kaggle/python Docker image: https://github.com/kaggle/docker-python\n",
    "# For example, here's several helpful packages to load\n",
    "\n",
    "import numpy as np # linear algebra\n",
    "import pandas as pd # data processing, CSV file I/O (e.g. pd.read_csv)\n",
    "\n",
    "# Input data files are available in the read-only \"../input/\" directory\n",
    "# For example, running this (by clicking run or pressing Shift+Enter) will list all files under the input directory\n",
    "\n",
    "import os\n",
    "for dirname, _, filenames in os.walk('/kaggle/input'):\n",
    "    for filename in filenames:\n",
    "        print(os.path.join(dirname, filename))\n",
    "\n",
    "# You can write up to 20GB to the current directory (/kaggle/working/) that gets preserved as output when you create a version using \"Save & Run All\" \n",
    "# You can also write temporary files to /kaggle/temp/, but they won't be saved outside of the current session"
   ]
  },
  {
   "cell_type": "markdown",
   "id": "4cfa61d0",
   "metadata": {
    "papermill": {
     "duration": 0.005946,
     "end_time": "2022-09-07T07:25:06.374973",
     "exception": false,
     "start_time": "2022-09-07T07:25:06.369027",
     "status": "completed"
    },
    "tags": []
   },
   "source": [
    "## 1. Реализуйте бинарный поиск"
   ]
  },
  {
   "cell_type": "code",
   "execution_count": 2,
   "id": "bd882eb4",
   "metadata": {
    "execution": {
     "iopub.execute_input": "2022-09-07T07:25:06.392828Z",
     "iopub.status.busy": "2022-09-07T07:25:06.392392Z",
     "iopub.status.idle": "2022-09-07T07:25:06.397912Z",
     "shell.execute_reply": "2022-09-07T07:25:06.396670Z"
    },
    "papermill": {
     "duration": 0.017902,
     "end_time": "2022-09-07T07:25:06.400321",
     "exception": false,
     "start_time": "2022-09-07T07:25:06.382419",
     "status": "completed"
    },
    "tags": []
   },
   "outputs": [],
   "source": [
    "import random"
   ]
  },
  {
   "cell_type": "code",
   "execution_count": 3,
   "id": "a5747edb",
   "metadata": {
    "execution": {
     "iopub.execute_input": "2022-09-07T07:25:06.415122Z",
     "iopub.status.busy": "2022-09-07T07:25:06.414384Z",
     "iopub.status.idle": "2022-09-07T07:25:06.421744Z",
     "shell.execute_reply": "2022-09-07T07:25:06.420508Z"
    },
    "papermill": {
     "duration": 0.018539,
     "end_time": "2022-09-07T07:25:06.425008",
     "exception": false,
     "start_time": "2022-09-07T07:25:06.406469",
     "status": "completed"
    },
    "tags": []
   },
   "outputs": [],
   "source": [
    "def binary_search_recursive(array, element, start, end):\n",
    "    if start > end:\n",
    "        return -1\n",
    "\n",
    "    mid = (start + end) // 2\n",
    "    if element == array[mid]:\n",
    "        return mid\n",
    "\n",
    "    if element < array[mid]:\n",
    "        return binary_search_recursive(array, element, start, mid-1)\n",
    "    else:\n",
    "        return binary_search_recursive(array, element, mid+1, end)\n",
    "\n"
   ]
  },
  {
   "cell_type": "code",
   "execution_count": 4,
   "id": "a57bddfa",
   "metadata": {
    "execution": {
     "iopub.execute_input": "2022-09-07T07:25:06.439261Z",
     "iopub.status.busy": "2022-09-07T07:25:06.438843Z",
     "iopub.status.idle": "2022-09-07T07:25:06.447732Z",
     "shell.execute_reply": "2022-09-07T07:25:06.445637Z"
    },
    "papermill": {
     "duration": 0.022199,
     "end_time": "2022-09-07T07:25:06.453330",
     "exception": false,
     "start_time": "2022-09-07T07:25:06.431131",
     "status": "completed"
    },
    "tags": []
   },
   "outputs": [
    {
     "name": "stdout",
     "output_type": "stream",
     "text": [
      "Входные данные [0, 2, 10, 11, 18, 25, 41, 49, 50, 50, 54, 62, 66, 72, 74, 74, 76, 78, 82, 83, 88, 93, 95, 98, 100], искомый элемент 62\n",
      "Найден элемент 11\n"
     ]
    }
   ],
   "source": [
    "array_1 = sorted([random.randint(0, 100) for i in range(25)])\n",
    "el = random.sample(array_1, 1)[0]\n",
    "print(f'Входные данные {array_1}, искомый элемент {el}')\n",
    "print(f'Найден элемент {binary_search_recursive(array_1, el, 0, (len(array_1)-1))}')"
   ]
  },
  {
   "cell_type": "markdown",
   "id": "d0910e38",
   "metadata": {
    "papermill": {
     "duration": 0.008989,
     "end_time": "2022-09-07T07:25:06.469655",
     "exception": false,
     "start_time": "2022-09-07T07:25:06.460666",
     "status": "completed"
    },
    "tags": []
   },
   "source": [
    "## 2. Реализуйте несколько алгоритмов сортировки и сравните их время работы на одних и тех же входных данных\n",
    " "
   ]
  },
  {
   "cell_type": "markdown",
   "id": "a03c7aa0",
   "metadata": {
    "papermill": {
     "duration": 0.00768,
     "end_time": "2022-09-07T07:25:06.483742",
     "exception": false,
     "start_time": "2022-09-07T07:25:06.476062",
     "status": "completed"
    },
    "tags": []
   },
   "source": [
    "### Пузырьковая сортировка (Bubble Sort)"
   ]
  },
  {
   "cell_type": "code",
   "execution_count": 5,
   "id": "20b11244",
   "metadata": {
    "execution": {
     "iopub.execute_input": "2022-09-07T07:25:06.499035Z",
     "iopub.status.busy": "2022-09-07T07:25:06.498594Z",
     "iopub.status.idle": "2022-09-07T07:25:06.506401Z",
     "shell.execute_reply": "2022-09-07T07:25:06.504374Z"
    },
    "papermill": {
     "duration": 0.019248,
     "end_time": "2022-09-07T07:25:06.509744",
     "exception": false,
     "start_time": "2022-09-07T07:25:06.490496",
     "status": "completed"
    },
    "tags": []
   },
   "outputs": [],
   "source": [
    "def bsort(array):\n",
    "    length = len(array)\n",
    "    for i in range(length):\n",
    "        for j in range(length-i-1):\n",
    "            if array[j] > array[j+1]:\n",
    "                array[j], array[j+1] = array[j+1], array[j]\n",
    "    return array"
   ]
  },
  {
   "cell_type": "code",
   "execution_count": 6,
   "id": "0450ba66",
   "metadata": {
    "execution": {
     "iopub.execute_input": "2022-09-07T07:25:06.525302Z",
     "iopub.status.busy": "2022-09-07T07:25:06.524872Z",
     "iopub.status.idle": "2022-09-07T07:25:06.532449Z",
     "shell.execute_reply": "2022-09-07T07:25:06.530860Z"
    },
    "papermill": {
     "duration": 0.018769,
     "end_time": "2022-09-07T07:25:06.534730",
     "exception": false,
     "start_time": "2022-09-07T07:25:06.515961",
     "status": "completed"
    },
    "tags": []
   },
   "outputs": [
    {
     "name": "stdout",
     "output_type": "stream",
     "text": [
      "Входные данные [13, 68, 38, 95, 58, 90, 61, 40, 57, 24, 46, 34, 2, 20, 51, 52, 5, 17, 1, 71, 15, 87, 31, 57, 100]\n",
      "Отсортированные данные [1, 2, 5, 13, 15, 17, 20, 24, 31, 34, 38, 40, 46, 51, 52, 57, 57, 58, 61, 68, 71, 87, 90, 95, 100]\n",
      "CPU times: user 293 µs, sys: 0 ns, total: 293 µs\n",
      "Wall time: 265 µs\n"
     ]
    }
   ],
   "source": [
    "%%time\n",
    "array_1 =  [random.randint(0, 100) for i in range(25)]\n",
    "print(f'Входные данные {array_1}')\n",
    "print(f'Отсортированные данные {bsort(array_1)}')"
   ]
  },
  {
   "cell_type": "markdown",
   "id": "b3ce3ffe",
   "metadata": {
    "papermill": {
     "duration": 0.008051,
     "end_time": "2022-09-07T07:25:06.549808",
     "exception": false,
     "start_time": "2022-09-07T07:25:06.541757",
     "status": "completed"
    },
    "tags": []
   },
   "source": [
    "### Сортировка вставками (Insertion Sort)"
   ]
  },
  {
   "cell_type": "code",
   "execution_count": 7,
   "id": "c5e66f86",
   "metadata": {
    "execution": {
     "iopub.execute_input": "2022-09-07T07:25:06.565621Z",
     "iopub.status.busy": "2022-09-07T07:25:06.565172Z",
     "iopub.status.idle": "2022-09-07T07:25:06.572879Z",
     "shell.execute_reply": "2022-09-07T07:25:06.571604Z"
    },
    "papermill": {
     "duration": 0.018188,
     "end_time": "2022-09-07T07:25:06.575259",
     "exception": false,
     "start_time": "2022-09-07T07:25:06.557071",
     "status": "completed"
    },
    "tags": []
   },
   "outputs": [],
   "source": [
    "def insertion_sort(nums):\n",
    "    # Сортировку начинаем со второго элемента, т.к. считается, что первый элемент уже отсортирован\n",
    "    for i in range(1, len(nums)):\n",
    "        item_to_insert = nums[i]\n",
    "        # Сохраняем ссылку на индекс предыдущего элемента\n",
    "        j = i - 1\n",
    "        # Элементы отсортированного сегмента перемещаем вперёд, если они больше\n",
    "        # элемента для вставки\n",
    "        while j >= 0 and nums[j] > item_to_insert:\n",
    "            nums[j + 1] = nums[j]\n",
    "            j -= 1\n",
    "        # Вставляем элемент\n",
    "        nums[j + 1] = item_to_insert\n",
    "    return nums"
   ]
  },
  {
   "cell_type": "code",
   "execution_count": 8,
   "id": "1bb3e4f1",
   "metadata": {
    "execution": {
     "iopub.execute_input": "2022-09-07T07:25:06.593500Z",
     "iopub.status.busy": "2022-09-07T07:25:06.593125Z",
     "iopub.status.idle": "2022-09-07T07:25:06.600187Z",
     "shell.execute_reply": "2022-09-07T07:25:06.598796Z"
    },
    "papermill": {
     "duration": 0.022188,
     "end_time": "2022-09-07T07:25:06.604841",
     "exception": false,
     "start_time": "2022-09-07T07:25:06.582653",
     "status": "completed"
    },
    "tags": []
   },
   "outputs": [
    {
     "name": "stdout",
     "output_type": "stream",
     "text": [
      "Входные данные [19, 8, 77, 38, 55, 97, 51, 70, 38, 53, 46, 34, 10, 46, 42, 61, 25, 40, 5, 51, 87, 52, 58, 52, 90]\n",
      "Отсортированные данные [5, 8, 10, 19, 25, 34, 38, 38, 40, 42, 46, 46, 51, 51, 52, 52, 53, 55, 58, 61, 70, 77, 87, 90, 97]\n",
      "CPU times: user 336 µs, sys: 0 ns, total: 336 µs\n",
      "Wall time: 293 µs\n"
     ]
    }
   ],
   "source": [
    "%%time\n",
    "array_1 =  [random.randint(0, 100) for i in range(25)]\n",
    "print(f'Входные данные {array_1}')\n",
    "print(f'Отсортированные данные {bsort(array_1)}')"
   ]
  },
  {
   "cell_type": "markdown",
   "id": "fab2a913",
   "metadata": {
    "papermill": {
     "duration": 0.007057,
     "end_time": "2022-09-07T07:25:06.618912",
     "exception": false,
     "start_time": "2022-09-07T07:25:06.611855",
     "status": "completed"
    },
    "tags": []
   },
   "source": [
    "### Быстрая сортировка (Quick Sort)"
   ]
  },
  {
   "cell_type": "code",
   "execution_count": 9,
   "id": "5d0f279d",
   "metadata": {
    "execution": {
     "iopub.execute_input": "2022-09-07T07:25:06.637796Z",
     "iopub.status.busy": "2022-09-07T07:25:06.637355Z",
     "iopub.status.idle": "2022-09-07T07:25:06.645809Z",
     "shell.execute_reply": "2022-09-07T07:25:06.643927Z"
    },
    "papermill": {
     "duration": 0.022199,
     "end_time": "2022-09-07T07:25:06.650954",
     "exception": false,
     "start_time": "2022-09-07T07:25:06.628755",
     "status": "completed"
    },
    "tags": []
   },
   "outputs": [],
   "source": [
    "def quicksort(nums):\n",
    "    if len(nums) <= 1:\n",
    "        return nums\n",
    "    else:\n",
    "        q = random.choice(nums)\n",
    "        s_nums = []\n",
    "        m_nums = []\n",
    "        e_nums = []\n",
    "        for n in nums:\n",
    "            if n < q:\n",
    "                s_nums.append(n)\n",
    "            elif n > q:\n",
    "                m_nums.append(n)\n",
    "            else:\n",
    "                e_nums.append(n)\n",
    "    return quicksort(s_nums) + e_nums + quicksort(m_nums)"
   ]
  },
  {
   "cell_type": "code",
   "execution_count": 10,
   "id": "37c57a92",
   "metadata": {
    "execution": {
     "iopub.execute_input": "2022-09-07T07:25:06.667205Z",
     "iopub.status.busy": "2022-09-07T07:25:06.666469Z",
     "iopub.status.idle": "2022-09-07T07:25:06.673370Z",
     "shell.execute_reply": "2022-09-07T07:25:06.672395Z"
    },
    "papermill": {
     "duration": 0.018095,
     "end_time": "2022-09-07T07:25:06.675762",
     "exception": false,
     "start_time": "2022-09-07T07:25:06.657667",
     "status": "completed"
    },
    "tags": []
   },
   "outputs": [
    {
     "name": "stdout",
     "output_type": "stream",
     "text": [
      "Входные данные [15, 79, 36, 46, 44, 82, 46, 68, 59, 37, 1, 50, 77, 62, 36, 80, 21, 10, 72, 57, 70, 69, 62, 14, 22]\n",
      "Отсортированные данные [1, 10, 14, 15, 21, 22, 36, 36, 37, 44, 46, 46, 50, 57, 59, 62, 62, 68, 69, 70, 72, 77, 79, 80, 82]\n",
      "CPU times: user 333 µs, sys: 0 ns, total: 333 µs\n",
      "Wall time: 282 µs\n"
     ]
    }
   ],
   "source": [
    "%%time\n",
    "array_1 =  [random.randint(0, 100) for i in range(25)]\n",
    "print(f'Входные данные {array_1}')\n",
    "print(f'Отсортированные данные {bsort(array_1)}')"
   ]
  },
  {
   "cell_type": "markdown",
   "id": "48a85155",
   "metadata": {
    "papermill": {
     "duration": 0.007125,
     "end_time": "2022-09-07T07:25:06.690477",
     "exception": false,
     "start_time": "2022-09-07T07:25:06.683352",
     "status": "completed"
    },
    "tags": []
   },
   "source": [
    "### Сортировка вставками (Insertion Sort)"
   ]
  },
  {
   "cell_type": "code",
   "execution_count": 11,
   "id": "c44f7971",
   "metadata": {
    "execution": {
     "iopub.execute_input": "2022-09-07T07:25:06.710421Z",
     "iopub.status.busy": "2022-09-07T07:25:06.709994Z",
     "iopub.status.idle": "2022-09-07T07:25:06.716931Z",
     "shell.execute_reply": "2022-09-07T07:25:06.715949Z"
    },
    "papermill": {
     "duration": 0.022104,
     "end_time": "2022-09-07T07:25:06.719147",
     "exception": false,
     "start_time": "2022-09-07T07:25:06.697043",
     "status": "completed"
    },
    "tags": []
   },
   "outputs": [],
   "source": [
    "def insertion_sort(nums):\n",
    "    # Сортировку начинаем со второго элемента, т.к. считается, что первый элемент уже отсортирован\n",
    "    for i in range(1, len(nums)):\n",
    "        item_to_insert = nums[i]\n",
    "        # Сохраняем ссылку на индекс предыдущего элемента\n",
    "        j = i - 1\n",
    "        # Элементы отсортированного сегмента перемещаем вперёд, если они больше\n",
    "        # элемента для вставки\n",
    "        while j >= 0 and nums[j] > item_to_insert:\n",
    "            nums[j + 1] = nums[j]\n",
    "            j -= 1\n",
    "        # Вставляем элемент\n",
    "        nums[j + 1] = item_to_insert\n",
    "    return nums"
   ]
  },
  {
   "cell_type": "code",
   "execution_count": 12,
   "id": "7d422247",
   "metadata": {
    "execution": {
     "iopub.execute_input": "2022-09-07T07:25:06.737217Z",
     "iopub.status.busy": "2022-09-07T07:25:06.736741Z",
     "iopub.status.idle": "2022-09-07T07:25:06.745071Z",
     "shell.execute_reply": "2022-09-07T07:25:06.743784Z"
    },
    "papermill": {
     "duration": 0.022638,
     "end_time": "2022-09-07T07:25:06.750635",
     "exception": false,
     "start_time": "2022-09-07T07:25:06.727997",
     "status": "completed"
    },
    "tags": []
   },
   "outputs": [
    {
     "name": "stdout",
     "output_type": "stream",
     "text": [
      "Входные данные [14, 41, 37, 73, 45, 77, 21, 33, 59, 3, 78, 36, 19, 98, 84, 73, 60, 4, 11, 83, 61, 4, 19, 62, 5]\n",
      "Отсортированные данные [3, 4, 4, 5, 11, 14, 19, 19, 21, 33, 36, 37, 41, 45, 59, 60, 61, 62, 73, 73, 77, 78, 83, 84, 98]\n",
      "CPU times: user 291 µs, sys: 0 ns, total: 291 µs\n",
      "Wall time: 299 µs\n"
     ]
    }
   ],
   "source": [
    "%%time\n",
    "array_1 =  [random.randint(0, 100) for i in range(25)]\n",
    "print(f'Входные данные {array_1}')\n",
    "print(f'Отсортированные данные {bsort(array_1)}')"
   ]
  },
  {
   "cell_type": "markdown",
   "id": "5c18c135",
   "metadata": {
    "papermill": {
     "duration": 0.009273,
     "end_time": "2022-09-07T07:25:06.766841",
     "exception": false,
     "start_time": "2022-09-07T07:25:06.757568",
     "status": "completed"
    },
    "tags": []
   },
   "source": [
    "### Пирамидальная сортировка (Heap Sort) "
   ]
  },
  {
   "cell_type": "code",
   "execution_count": 13,
   "id": "81fd3447",
   "metadata": {
    "execution": {
     "iopub.execute_input": "2022-09-07T07:25:06.783435Z",
     "iopub.status.busy": "2022-09-07T07:25:06.782564Z",
     "iopub.status.idle": "2022-09-07T07:25:06.790970Z",
     "shell.execute_reply": "2022-09-07T07:25:06.789275Z"
    },
    "papermill": {
     "duration": 0.020623,
     "end_time": "2022-09-07T07:25:06.794763",
     "exception": false,
     "start_time": "2022-09-07T07:25:06.774140",
     "status": "completed"
    },
    "tags": []
   },
   "outputs": [],
   "source": [
    "def heap_sort(nums):  \n",
    "    n = len(nums)\n",
    "    # Создаем Max Heap из списка\n",
    "    # Второй аргумент означает, что мы останавливаемся на элементе перед -1, то есть на первом элементе списка.\n",
    "    # Третий аргумент означает, что мы повторяем в обратном направлении, уменьшая количество i на 1\n",
    "    for i in range(n, -1, -1):\n",
    "        heapify(nums, n, i)\n",
    "    # Перемещаем корень max hea в конец\n",
    "    for i in range(n - 1, 0, -1):\n",
    "        nums[i], nums[0] = nums[0], nums[i]\n",
    "        heapify(nums, i, 0)"
   ]
  },
  {
   "cell_type": "code",
   "execution_count": 14,
   "id": "d2f8e38a",
   "metadata": {
    "execution": {
     "iopub.execute_input": "2022-09-07T07:25:06.819619Z",
     "iopub.status.busy": "2022-09-07T07:25:06.818514Z",
     "iopub.status.idle": "2022-09-07T07:25:06.828263Z",
     "shell.execute_reply": "2022-09-07T07:25:06.827044Z"
    },
    "papermill": {
     "duration": 0.028149,
     "end_time": "2022-09-07T07:25:06.834318",
     "exception": false,
     "start_time": "2022-09-07T07:25:06.806169",
     "status": "completed"
    },
    "tags": []
   },
   "outputs": [
    {
     "name": "stdout",
     "output_type": "stream",
     "text": [
      "Входные данные [100, 31, 14, 36, 92, 87, 39, 20, 95, 22, 76, 12, 52, 56, 91, 5, 89, 64, 65, 39, 18, 41, 46, 0, 51]\n",
      "Отсортированные данные [0, 5, 12, 14, 18, 20, 22, 31, 36, 39, 39, 41, 46, 51, 52, 56, 64, 65, 76, 87, 89, 91, 92, 95, 100]\n",
      "CPU times: user 1.26 ms, sys: 36 µs, total: 1.3 ms\n",
      "Wall time: 1.39 ms\n"
     ]
    }
   ],
   "source": [
    "%%time\n",
    "array_1 =  [random.randint(0, 100) for i in range(25)]\n",
    "print(f'Входные данные {array_1}')\n",
    "print(f'Отсортированные данные {bsort(array_1)}')"
   ]
  },
  {
   "cell_type": "markdown",
   "id": "5ac3963a",
   "metadata": {
    "papermill": {
     "duration": 0.00845,
     "end_time": "2022-09-07T07:25:06.852798",
     "exception": false,
     "start_time": "2022-09-07T07:25:06.844348",
     "status": "completed"
    },
    "tags": []
   },
   "source": [
    "### Сортировка слиянием (Merge Sort)"
   ]
  },
  {
   "cell_type": "code",
   "execution_count": 15,
   "id": "a8dd7c90",
   "metadata": {
    "execution": {
     "iopub.execute_input": "2022-09-07T07:25:06.878352Z",
     "iopub.status.busy": "2022-09-07T07:25:06.877087Z",
     "iopub.status.idle": "2022-09-07T07:25:06.886213Z",
     "shell.execute_reply": "2022-09-07T07:25:06.884760Z"
    },
    "papermill": {
     "duration": 0.027348,
     "end_time": "2022-09-07T07:25:06.889209",
     "exception": false,
     "start_time": "2022-09-07T07:25:06.861861",
     "status": "completed"
    },
    "tags": []
   },
   "outputs": [],
   "source": [
    "def merge_sort(nums):  \n",
    "    # Если список представляет собой один элемент, возвращаем его\n",
    "    if len(nums) <= 1:\n",
    "        return nums\n",
    "    # Используем деление с округленим по наименьшему целому для получения средней точки, индексы должны быть целыми числами \n",
    "    mid = len(nums) // 2\n",
    "    # Сортируем и объединяем каждую половину\n",
    "    left_list = merge_sort(nums[:mid])\n",
    "    right_list = merge_sort(nums[mid:])\n",
    "    # Объединить отсортированные списки в новый\n",
    "    return merge(left_list, right_list)\n"
   ]
  },
  {
   "cell_type": "code",
   "execution_count": 16,
   "id": "4a798fc3",
   "metadata": {
    "execution": {
     "iopub.execute_input": "2022-09-07T07:25:06.906695Z",
     "iopub.status.busy": "2022-09-07T07:25:06.905467Z",
     "iopub.status.idle": "2022-09-07T07:25:06.914047Z",
     "shell.execute_reply": "2022-09-07T07:25:06.912556Z"
    },
    "papermill": {
     "duration": 0.02074,
     "end_time": "2022-09-07T07:25:06.917038",
     "exception": false,
     "start_time": "2022-09-07T07:25:06.896298",
     "status": "completed"
    },
    "tags": []
   },
   "outputs": [
    {
     "name": "stdout",
     "output_type": "stream",
     "text": [
      "Входные данные [9, 23, 40, 59, 38, 95, 54, 56, 95, 61, 81, 56, 3, 98, 86, 4, 75, 29, 97, 58, 93, 27, 77, 45, 90]\n",
      "Отсортированные данные [3, 4, 9, 23, 27, 29, 38, 40, 45, 54, 56, 56, 58, 59, 61, 75, 77, 81, 86, 90, 93, 95, 95, 97, 98]\n",
      "CPU times: user 515 µs, sys: 0 ns, total: 515 µs\n",
      "Wall time: 513 µs\n"
     ]
    }
   ],
   "source": [
    "%%time\n",
    "array_1 =  [random.randint(0, 100) for i in range(25)]\n",
    "print(f'Входные данные {array_1}')\n",
    "print(f'Отсортированные данные {bsort(array_1)}')"
   ]
  }
 ],
 "metadata": {
  "kernelspec": {
   "display_name": "Python 3",
   "language": "python",
   "name": "python3"
  },
  "language_info": {
   "codemirror_mode": {
    "name": "ipython",
    "version": 3
   },
   "file_extension": ".py",
   "mimetype": "text/x-python",
   "name": "python",
   "nbconvert_exporter": "python",
   "pygments_lexer": "ipython3",
   "version": "3.7.12"
  },
  "papermill": {
   "default_parameters": {},
   "duration": 11.3664,
   "end_time": "2022-09-07T07:25:07.650316",
   "environment_variables": {},
   "exception": null,
   "input_path": "__notebook__.ipynb",
   "output_path": "__notebook__.ipynb",
   "parameters": {},
   "start_time": "2022-09-07T07:24:56.283916",
   "version": "2.3.4"
  }
 },
 "nbformat": 4,
 "nbformat_minor": 5
}
