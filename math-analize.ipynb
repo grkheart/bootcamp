{
 "cells": [
  {
   "cell_type": "code",
   "execution_count": 1,
   "id": "d5c5b350",
   "metadata": {
    "_cell_guid": "b1076dfc-b9ad-4769-8c92-a6c4dae69d19",
    "_uuid": "8f2839f25d086af736a60e9eeb907d3b93b6e0e5",
    "execution": {
     "iopub.execute_input": "2022-09-11T07:42:23.055580Z",
     "iopub.status.busy": "2022-09-11T07:42:23.054946Z",
     "iopub.status.idle": "2022-09-11T07:42:23.071436Z",
     "shell.execute_reply": "2022-09-11T07:42:23.070518Z"
    },
    "papermill": {
     "duration": 0.026458,
     "end_time": "2022-09-11T07:42:23.074065",
     "exception": false,
     "start_time": "2022-09-11T07:42:23.047607",
     "status": "completed"
    },
    "tags": []
   },
   "outputs": [],
   "source": [
    "# This Python 3 environment comes with many helpful analytics libraries installed\n",
    "# It is defined by the kaggle/python Docker image: https://github.com/kaggle/docker-python\n",
    "# For example, here's several helpful packages to load\n",
    "\n",
    "import numpy as np # linear algebra\n",
    "import pandas as pd # data processing, CSV file I/O (e.g. pd.read_csv)\n",
    "\n",
    "# Input data files are available in the read-only \"../input/\" directory\n",
    "# For example, running this (by clicking run or pressing Shift+Enter) will list all files under the input directory\n",
    "\n",
    "import os\n",
    "for dirname, _, filenames in os.walk('/kaggle/input'):\n",
    "    for filename in filenames:\n",
    "        print(os.path.join(dirname, filename))\n",
    "\n",
    "# You can write up to 20GB to the current directory (/kaggle/working/) that gets preserved as output when you create a version using \"Save & Run All\" \n",
    "# You can also write temporary files to /kaggle/temp/, but they won't be saved outside of the current session"
   ]
  },
  {
   "cell_type": "markdown",
   "id": "a10c0caa",
   "metadata": {
    "papermill": {
     "duration": 0.004413,
     "end_time": "2022-09-11T07:42:23.083475",
     "exception": false,
     "start_time": "2022-09-11T07:42:23.079062",
     "status": "completed"
    },
    "tags": []
   },
   "source": [
    "## ДЗ: Математический анализ"
   ]
  },
  {
   "cell_type": "code",
   "execution_count": 2,
   "id": "51c851d3",
   "metadata": {
    "execution": {
     "iopub.execute_input": "2022-09-11T07:42:23.097063Z",
     "iopub.status.busy": "2022-09-11T07:42:23.095105Z",
     "iopub.status.idle": "2022-09-11T07:42:24.130287Z",
     "shell.execute_reply": "2022-09-11T07:42:24.129119Z"
    },
    "papermill": {
     "duration": 1.044708,
     "end_time": "2022-09-11T07:42:24.132954",
     "exception": false,
     "start_time": "2022-09-11T07:42:23.088246",
     "status": "completed"
    },
    "tags": []
   },
   "outputs": [],
   "source": [
    "import sympy\n",
    "x = sympy.symbols('x')\n",
    "sympy.init_printing(use_unicode=True)"
   ]
  },
  {
   "cell_type": "markdown",
   "id": "e621748f",
   "metadata": {
    "papermill": {
     "duration": 0.003311,
     "end_time": "2022-09-11T07:42:24.139840",
     "exception": false,
     "start_time": "2022-09-11T07:42:24.136529",
     "status": "completed"
    },
    "tags": []
   },
   "source": [
    "### 1. Вынесите пределы:\n",
    "\n",
    "$\\lim_{x \\to \\infty}\\frac{3+x+x^2}{2x+4x^2}$\n",
    "$\\lim_{x \\to 0}\\frac{3x-6}{x^2+4}$"
   ]
  },
  {
   "cell_type": "code",
   "execution_count": 3,
   "id": "daffd385",
   "metadata": {
    "execution": {
     "iopub.execute_input": "2022-09-11T07:42:24.148764Z",
     "iopub.status.busy": "2022-09-11T07:42:24.147726Z",
     "iopub.status.idle": "2022-09-11T07:42:24.581326Z",
     "shell.execute_reply": "2022-09-11T07:42:24.580027Z"
    },
    "papermill": {
     "duration": 0.441272,
     "end_time": "2022-09-11T07:42:24.584472",
     "exception": false,
     "start_time": "2022-09-11T07:42:24.143200",
     "status": "completed"
    },
    "tags": []
   },
   "outputs": [
    {
     "data": {
      "image/png": "[encoded data removed]",
      "text/latex": [
       "$\\displaystyle \\frac{1}{4}$"
      ],
      "text/plain": [
       "1/4"
      ]
     },
     "execution_count": 3,
     "metadata": {},
     "output_type": "execute_result"
    }
   ],
   "source": [
    "sympy.limit((3+x+x**2)/(2*x+4*(x**2)), x, sympy.oo)"
   ]
  },
  {
   "cell_type": "markdown",
   "id": "4a8d79f7",
   "metadata": {
    "papermill": {
     "duration": 0.003299,
     "end_time": "2022-09-11T07:42:24.591442",
     "exception": false,
     "start_time": "2022-09-11T07:42:24.588143",
     "status": "completed"
    },
    "tags": []
   },
   "source": [
    "### 2. Вычислите производные:\n",
    "$y=sin(x)$"
   ]
  },
  {
   "cell_type": "code",
   "execution_count": 4,
   "id": "5c030aea",
   "metadata": {
    "execution": {
     "iopub.execute_input": "2022-09-11T07:42:24.600706Z",
     "iopub.status.busy": "2022-09-11T07:42:24.600016Z",
     "iopub.status.idle": "2022-09-11T07:42:24.716676Z",
     "shell.execute_reply": "2022-09-11T07:42:24.715340Z"
    },
    "papermill": {
     "duration": 0.124274,
     "end_time": "2022-09-11T07:42:24.719192",
     "exception": false,
     "start_time": "2022-09-11T07:42:24.594918",
     "status": "completed"
    },
    "tags": []
   },
   "outputs": [
    {
     "data": {
      "image/png": "[encoded data removed]",
      "text/latex": [
       "$\\displaystyle \\cos{\\left(x \\right)}$"
      ],
      "text/plain": [
       "cos(x)"
      ]
     },
     "execution_count": 4,
     "metadata": {},
     "output_type": "execute_result"
    }
   ],
   "source": [
    "sympy.diff(sympy.sin(x), x)"
   ]
  },
  {
   "cell_type": "markdown",
   "id": "8ccbfbda",
   "metadata": {
    "papermill": {
     "duration": 0.003496,
     "end_time": "2022-09-11T07:42:24.726534",
     "exception": false,
     "start_time": "2022-09-11T07:42:24.723038",
     "status": "completed"
    },
    "tags": []
   },
   "source": [
    "$10x+3x^2$"
   ]
  },
  {
   "cell_type": "code",
   "execution_count": 5,
   "id": "c9a80e53",
   "metadata": {
    "execution": {
     "iopub.execute_input": "2022-09-11T07:42:24.736939Z",
     "iopub.status.busy": "2022-09-11T07:42:24.736177Z",
     "iopub.status.idle": "2022-09-11T07:42:25.089038Z",
     "shell.execute_reply": "2022-09-11T07:42:25.087684Z"
    },
    "papermill": {
     "duration": 0.361053,
     "end_time": "2022-09-11T07:42:25.091420",
     "exception": false,
     "start_time": "2022-09-11T07:42:24.730367",
     "status": "completed"
    },
    "tags": []
   },
   "outputs": [
    {
     "data": {
      "image/png": "[encoded data removed]",
      "text/latex": [
       "$\\displaystyle 6 x + 10$"
      ],
      "text/plain": [
       "6⋅x + 10"
      ]
     },
     "execution_count": 5,
     "metadata": {},
     "output_type": "execute_result"
    }
   ],
   "source": [
    "sympy.diff(10*x+3*(x**2), x)"
   ]
  },
  {
   "cell_type": "markdown",
   "id": "15e07c10",
   "metadata": {
    "papermill": {
     "duration": 0.003562,
     "end_time": "2022-09-11T07:42:25.098944",
     "exception": false,
     "start_time": "2022-09-11T07:42:25.095382",
     "status": "completed"
    },
    "tags": []
   },
   "source": [
    "### 3. Найдите интеграл:\n",
    "\n",
    "$y=cos(x)$\n",
    "    "
   ]
  },
  {
   "cell_type": "code",
   "execution_count": 6,
   "id": "7fe4faba",
   "metadata": {
    "execution": {
     "iopub.execute_input": "2022-09-11T07:42:25.108256Z",
     "iopub.status.busy": "2022-09-11T07:42:25.107862Z",
     "iopub.status.idle": "2022-09-11T07:42:25.193389Z",
     "shell.execute_reply": "2022-09-11T07:42:25.191855Z"
    },
    "papermill": {
     "duration": 0.093498,
     "end_time": "2022-09-11T07:42:25.196195",
     "exception": false,
     "start_time": "2022-09-11T07:42:25.102697",
     "status": "completed"
    },
    "tags": []
   },
   "outputs": [
    {
     "data": {
      "image/png": "[encoded data removed]",
      "text/latex": [
       "$\\displaystyle \\sin{\\left(x \\right)}$"
      ],
      "text/plain": [
       "sin(x)"
      ]
     },
     "execution_count": 6,
     "metadata": {},
     "output_type": "execute_result"
    }
   ],
   "source": [
    "sympy.integrate(sympy.cos(x), x)"
   ]
  },
  {
   "cell_type": "markdown",
   "id": "e290916a",
   "metadata": {
    "papermill": {
     "duration": 0.003808,
     "end_time": "2022-09-11T07:42:25.204267",
     "exception": false,
     "start_time": "2022-09-11T07:42:25.200459",
     "status": "completed"
    },
    "tags": []
   },
   "source": [
    "$y=10^x$"
   ]
  },
  {
   "cell_type": "code",
   "execution_count": 7,
   "id": "b1a9e2ac",
   "metadata": {
    "execution": {
     "iopub.execute_input": "2022-09-11T07:42:25.214413Z",
     "iopub.status.busy": "2022-09-11T07:42:25.214009Z",
     "iopub.status.idle": "2022-09-11T07:42:25.343771Z",
     "shell.execute_reply": "2022-09-11T07:42:25.342437Z"
    },
    "papermill": {
     "duration": 0.138086,
     "end_time": "2022-09-11T07:42:25.346355",
     "exception": false,
     "start_time": "2022-09-11T07:42:25.208269",
     "status": "completed"
    },
    "tags": []
   },
   "outputs": [
    {
     "data": {
      "image/png": "[encoded data removed]",
      "text/latex": [
       "$\\displaystyle \\frac{10^{x}}{\\log{\\left(10 \\right)}}$"
      ],
      "text/plain": [
       "    x  \n",
       "  10   \n",
       "───────\n",
       "log(10)"
      ]
     },
     "execution_count": 7,
     "metadata": {},
     "output_type": "execute_result"
    }
   ],
   "source": [
    "sympy.integrate(10**x, x)"
   ]
  }
 ],
 "metadata": {
  "kernelspec": {
   "display_name": "Python 3",
   "language": "python",
   "name": "python3"
  },
  "language_info": {
   "codemirror_mode": {
    "name": "ipython",
    "version": 3
   },
   "file_extension": ".py",
   "mimetype": "text/x-python",
   "name": "python",
   "nbconvert_exporter": "python",
   "pygments_lexer": "ipython3",
   "version": "3.7.12"
  },
  "papermill": {
   "default_parameters": {},
   "duration": 12.081182,
   "end_time": "2022-09-11T07:42:26.172639",
   "environment_variables": {},
   "exception": null,
   "input_path": "__notebook__.ipynb",
   "output_path": "__notebook__.ipynb",
   "parameters": {},
   "start_time": "2022-09-11T07:42:14.091457",
   "version": "2.3.4"
  }
 },
 "nbformat": 4,
 "nbformat_minor": 5
}
