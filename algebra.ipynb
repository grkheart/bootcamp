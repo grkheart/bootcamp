{
 "cells": [
  {
   "cell_type": "code",
   "execution_count": 1,
   "id": "b6900426",
   "metadata": {
    "_cell_guid": "b1076dfc-b9ad-4769-8c92-a6c4dae69d19",
    "_uuid": "8f2839f25d086af736a60e9eeb907d3b93b6e0e5",
    "execution": {
     "iopub.execute_input": "2022-09-11T07:00:34.245697Z",
     "iopub.status.busy": "2022-09-11T07:00:34.245270Z",
     "iopub.status.idle": "2022-09-11T07:00:34.258391Z",
     "shell.execute_reply": "2022-09-11T07:00:34.257500Z"
    },
    "papermill": {
     "duration": 0.023973,
     "end_time": "2022-09-11T07:00:34.260768",
     "exception": false,
     "start_time": "2022-09-11T07:00:34.236795",
     "status": "completed"
    },
    "tags": []
   },
   "outputs": [],
   "source": [
    "# This Python 3 environment comes with many helpful analytics libraries installed\n",
    "# It is defined by the kaggle/python Docker image: https://github.com/kaggle/docker-python\n",
    "# For example, here's several helpful packages to load\n",
    "\n",
    "import numpy as np # linear algebra\n",
    "import pandas as pd # data processing, CSV file I/O (e.g. pd.read_csv)\n",
    "\n",
    "# Input data files are available in the read-only \"../input/\" directory\n",
    "# For example, running this (by clicking run or pressing Shift+Enter) will list all files under the input directory\n",
    "\n",
    "import os\n",
    "for dirname, _, filenames in os.walk('/kaggle/input'):\n",
    "    for filename in filenames:\n",
    "        print(os.path.join(dirname, filename))\n",
    "\n",
    "# You can write up to 20GB to the current directory (/kaggle/working/) that gets preserved as output when you create a version using \"Save & Run All\" \n",
    "# You can also write temporary files to /kaggle/temp/, but they won't be saved outside of the current session"
   ]
  },
  {
   "cell_type": "markdown",
   "id": "f54bbadd",
   "metadata": {
    "papermill": {
     "duration": 0.005173,
     "end_time": "2022-09-11T07:00:34.271649",
     "exception": false,
     "start_time": "2022-09-11T07:00:34.266476",
     "status": "completed"
    },
    "tags": []
   },
   "source": [
    "## ДЗ: Основы высшей математики"
   ]
  },
  {
   "cell_type": "code",
   "execution_count": 2,
   "id": "f24423f0",
   "metadata": {
    "execution": {
     "iopub.execute_input": "2022-09-11T07:00:34.284784Z",
     "iopub.status.busy": "2022-09-11T07:00:34.283993Z",
     "iopub.status.idle": "2022-09-11T07:00:35.215934Z",
     "shell.execute_reply": "2022-09-11T07:00:35.214519Z"
    },
    "papermill": {
     "duration": 0.941653,
     "end_time": "2022-09-11T07:00:35.218695",
     "exception": false,
     "start_time": "2022-09-11T07:00:34.277042",
     "status": "completed"
    },
    "tags": []
   },
   "outputs": [],
   "source": [
    "import sympy\n",
    "sympy.init_printing(use_unicode=True)"
   ]
  },
  {
   "cell_type": "markdown",
   "id": "4af1d2c6",
   "metadata": {
    "papermill": {
     "duration": 0.005175,
     "end_time": "2022-09-11T07:00:35.229584",
     "exception": false,
     "start_time": "2022-09-11T07:00:35.224409",
     "status": "completed"
    },
    "tags": []
   },
   "source": [
    "### 1. Выделите полный квадрат:"
   ]
  },
  {
   "cell_type": "markdown",
   "id": "5de3182e",
   "metadata": {
    "execution": {
     "iopub.execute_input": "2022-09-11T06:49:17.839476Z",
     "iopub.status.busy": "2022-09-11T06:49:17.838032Z",
     "iopub.status.idle": "2022-09-11T06:49:17.846939Z",
     "shell.execute_reply": "2022-09-11T06:49:17.845489Z",
     "shell.execute_reply.started": "2022-09-11T06:49:17.839420Z"
    },
    "papermill": {
     "duration": 0.005162,
     "end_time": "2022-09-11T07:00:35.240113",
     "exception": false,
     "start_time": "2022-09-11T07:00:35.234951",
     "status": "completed"
    },
    "tags": []
   },
   "source": [
    "$x^2+4x+6$\n",
    "\n",
    "$x^2+9$"
   ]
  },
  {
   "cell_type": "code",
   "execution_count": 3,
   "id": "c74b9425",
   "metadata": {
    "execution": {
     "iopub.execute_input": "2022-09-11T07:00:35.253162Z",
     "iopub.status.busy": "2022-09-11T07:00:35.252183Z",
     "iopub.status.idle": "2022-09-11T07:00:35.257232Z",
     "shell.execute_reply": "2022-09-11T07:00:35.256484Z"
    },
    "papermill": {
     "duration": 0.013686,
     "end_time": "2022-09-11T07:00:35.259146",
     "exception": false,
     "start_time": "2022-09-11T07:00:35.245460",
     "status": "completed"
    },
    "tags": []
   },
   "outputs": [],
   "source": [
    "x = sympy.symbols('x')"
   ]
  },
  {
   "cell_type": "code",
   "execution_count": 4,
   "id": "d7b88e2f",
   "metadata": {
    "execution": {
     "iopub.execute_input": "2022-09-11T07:00:35.272179Z",
     "iopub.status.busy": "2022-09-11T07:00:35.271379Z",
     "iopub.status.idle": "2022-09-11T07:00:35.278975Z",
     "shell.execute_reply": "2022-09-11T07:00:35.277831Z"
    },
    "papermill": {
     "duration": 0.01664,
     "end_time": "2022-09-11T07:00:35.281198",
     "exception": false,
     "start_time": "2022-09-11T07:00:35.264558",
     "status": "completed"
    },
    "tags": []
   },
   "outputs": [],
   "source": [
    "def full_square(expr):\n",
    "    \"\"\"выделить полный квадрат\"\"\"\n",
    "    B = expr.coeff(x, 1) / (2*expr.coeff(x, 2))\n",
    "    if B != 0:\n",
    "        fs = sympy.Eq(sympy.factor(x**2 + 2*x*B + B**2), B**2 - expr.coeff(x,0))\n",
    "    else:\n",
    "        C = sympy.sqrt(expr.coeff(x, 0) / expr.coeff(x, 2))\n",
    "        fs = sympy.Eq(sympy.factor(x**2 + 2*x*C + C**2), 2*x*C)\n",
    "    return fs"
   ]
  },
  {
   "cell_type": "code",
   "execution_count": 5,
   "id": "c704e19e",
   "metadata": {
    "execution": {
     "iopub.execute_input": "2022-09-11T07:00:35.293890Z",
     "iopub.status.busy": "2022-09-11T07:00:35.293487Z",
     "iopub.status.idle": "2022-09-11T07:00:36.005061Z",
     "shell.execute_reply": "2022-09-11T07:00:36.003877Z"
    },
    "papermill": {
     "duration": 0.720982,
     "end_time": "2022-09-11T07:00:36.007710",
     "exception": false,
     "start_time": "2022-09-11T07:00:35.286728",
     "status": "completed"
    },
    "tags": []
   },
   "outputs": [
    {
     "data": {
      "image/png": "[encoded data removed]",
      "text/latex": [
       "$\\displaystyle x^{2} + 4 x + 6$"
      ],
      "text/plain": [
       " 2          \n",
       "x  + 4⋅x + 6"
      ]
     },
     "execution_count": 5,
     "metadata": {},
     "output_type": "execute_result"
    }
   ],
   "source": [
    "expr1 = x**2+4*x+6\n",
    "expr1"
   ]
  },
  {
   "cell_type": "code",
   "execution_count": 6,
   "id": "09458aac",
   "metadata": {
    "execution": {
     "iopub.execute_input": "2022-09-11T07:00:36.021269Z",
     "iopub.status.busy": "2022-09-11T07:00:36.020819Z",
     "iopub.status.idle": "2022-09-11T07:00:36.139283Z",
     "shell.execute_reply": "2022-09-11T07:00:36.137299Z"
    },
    "papermill": {
     "duration": 0.128137,
     "end_time": "2022-09-11T07:00:36.141614",
     "exception": false,
     "start_time": "2022-09-11T07:00:36.013477",
     "status": "completed"
    },
    "tags": []
   },
   "outputs": [
    {
     "data": {
      "image/png": "[encoded data removed]",
      "text/latex": [
       "$\\displaystyle \\left(x + 2\\right)^{2} = -2$"
      ],
      "text/plain": [
       "       2     \n",
       "(x + 2)  = -2"
      ]
     },
     "execution_count": 6,
     "metadata": {},
     "output_type": "execute_result"
    }
   ],
   "source": [
    "fs1 = full_square(expr1)\n",
    "fs1"
   ]
  },
  {
   "cell_type": "code",
   "execution_count": 7,
   "id": "43c6440d",
   "metadata": {
    "execution": {
     "iopub.execute_input": "2022-09-11T07:00:36.155104Z",
     "iopub.status.busy": "2022-09-11T07:00:36.154686Z",
     "iopub.status.idle": "2022-09-11T07:00:36.291502Z",
     "shell.execute_reply": "2022-09-11T07:00:36.290134Z"
    },
    "papermill": {
     "duration": 0.146402,
     "end_time": "2022-09-11T07:00:36.293906",
     "exception": false,
     "start_time": "2022-09-11T07:00:36.147504",
     "status": "completed"
    },
    "tags": []
   },
   "outputs": [
    {
     "data": {
      "image/png": "[encoded data removed]",
      "text/latex": [
       "$\\displaystyle \\left\\{-2 - \\sqrt{2} i, -2 + \\sqrt{2} i\\right\\}$"
      ],
      "text/plain": [
       "{-2 - √2⋅ⅈ, -2 + √2⋅ⅈ}"
      ]
     },
     "execution_count": 7,
     "metadata": {},
     "output_type": "execute_result"
    }
   ],
   "source": [
    "sympy.solveset(fs1)"
   ]
  },
  {
   "cell_type": "code",
   "execution_count": 8,
   "id": "3b649e4d",
   "metadata": {
    "execution": {
     "iopub.execute_input": "2022-09-11T07:00:36.307625Z",
     "iopub.status.busy": "2022-09-11T07:00:36.307207Z",
     "iopub.status.idle": "2022-09-11T07:00:36.370127Z",
     "shell.execute_reply": "2022-09-11T07:00:36.369149Z"
    },
    "papermill": {
     "duration": 0.072468,
     "end_time": "2022-09-11T07:00:36.372403",
     "exception": false,
     "start_time": "2022-09-11T07:00:36.299935",
     "status": "completed"
    },
    "tags": []
   },
   "outputs": [
    {
     "data": {
      "image/png": "[encoded data removed]",
      "text/latex": [
       "$\\displaystyle x^{2} + 9$"
      ],
      "text/plain": [
       " 2    \n",
       "x  + 9"
      ]
     },
     "execution_count": 8,
     "metadata": {},
     "output_type": "execute_result"
    }
   ],
   "source": [
    "expr2 = x**2+9\n",
    "expr2"
   ]
  },
  {
   "cell_type": "code",
   "execution_count": 9,
   "id": "c94f81f8",
   "metadata": {
    "execution": {
     "iopub.execute_input": "2022-09-11T07:00:36.386281Z",
     "iopub.status.busy": "2022-09-11T07:00:36.385866Z",
     "iopub.status.idle": "2022-09-11T07:00:36.465424Z",
     "shell.execute_reply": "2022-09-11T07:00:36.464175Z"
    },
    "papermill": {
     "duration": 0.089529,
     "end_time": "2022-09-11T07:00:36.467984",
     "exception": false,
     "start_time": "2022-09-11T07:00:36.378455",
     "status": "completed"
    },
    "tags": []
   },
   "outputs": [
    {
     "data": {
      "image/png": "[encoded data removed]",
      "text/latex": [
       "$\\displaystyle \\left(x + 3\\right)^{2} = 6 x$"
      ],
      "text/plain": [
       "       2      \n",
       "(x + 3)  = 6⋅x"
      ]
     },
     "execution_count": 9,
     "metadata": {},
     "output_type": "execute_result"
    }
   ],
   "source": [
    "fs2 = full_square(expr2)\n",
    "fs2"
   ]
  },
  {
   "cell_type": "code",
   "execution_count": 10,
   "id": "5ce50686",
   "metadata": {
    "execution": {
     "iopub.execute_input": "2022-09-11T07:00:36.482312Z",
     "iopub.status.busy": "2022-09-11T07:00:36.481844Z",
     "iopub.status.idle": "2022-09-11T07:00:36.602401Z",
     "shell.execute_reply": "2022-09-11T07:00:36.601002Z"
    },
    "papermill": {
     "duration": 0.130642,
     "end_time": "2022-09-11T07:00:36.604935",
     "exception": false,
     "start_time": "2022-09-11T07:00:36.474293",
     "status": "completed"
    },
    "tags": []
   },
   "outputs": [
    {
     "data": {
      "image/png": "[encoded data removed]",
      "text/latex": [
       "$\\displaystyle \\left\\{- 3 i, 3 i\\right\\}$"
      ],
      "text/plain": [
       "{-3⋅ⅈ, 3⋅ⅈ}"
      ]
     },
     "execution_count": 10,
     "metadata": {},
     "output_type": "execute_result"
    }
   ],
   "source": [
    "sympy.solveset(fs2)"
   ]
  },
  {
   "cell_type": "markdown",
   "id": "add79c3b",
   "metadata": {
    "papermill": {
     "duration": 0.006048,
     "end_time": "2022-09-11T07:00:36.618263",
     "exception": false,
     "start_time": "2022-09-11T07:00:36.612215",
     "status": "completed"
    },
    "tags": []
   },
   "source": [
    "### 2. Упростите выражение, используя логарифмирование\n",
    "\n",
    "$y = x^{sin(x)}, x>0$"
   ]
  },
  {
   "cell_type": "code",
   "execution_count": 11,
   "id": "983e9e8a",
   "metadata": {
    "execution": {
     "iopub.execute_input": "2022-09-11T07:00:36.633003Z",
     "iopub.status.busy": "2022-09-11T07:00:36.632607Z",
     "iopub.status.idle": "2022-09-11T07:00:36.710810Z",
     "shell.execute_reply": "2022-09-11T07:00:36.709585Z"
    },
    "papermill": {
     "duration": 0.089016,
     "end_time": "2022-09-11T07:00:36.713449",
     "exception": false,
     "start_time": "2022-09-11T07:00:36.624433",
     "status": "completed"
    },
    "tags": []
   },
   "outputs": [
    {
     "data": {
      "image/png": "[encoded data removed]",
      "text/latex": [
       "$\\displaystyle y = x^{\\sin{\\left(x \\right)}}$"
      ],
      "text/plain": [
       "     sin(x)\n",
       "y = x      "
      ]
     },
     "execution_count": 11,
     "metadata": {},
     "output_type": "execute_result"
    }
   ],
   "source": [
    "x = sympy.symbols('x', positive=True)\n",
    "y = sympy.symbols('y')\n",
    "expr = sympy.Eq(y, x**sympy.sin(x))\n",
    "expr"
   ]
  },
  {
   "cell_type": "code",
   "execution_count": 12,
   "id": "a663242a",
   "metadata": {
    "execution": {
     "iopub.execute_input": "2022-09-11T07:00:36.728968Z",
     "iopub.status.busy": "2022-09-11T07:00:36.727976Z",
     "iopub.status.idle": "2022-09-11T07:00:36.818551Z",
     "shell.execute_reply": "2022-09-11T07:00:36.817373Z"
    },
    "papermill": {
     "duration": 0.100855,
     "end_time": "2022-09-11T07:00:36.820812",
     "exception": false,
     "start_time": "2022-09-11T07:00:36.719957",
     "status": "completed"
    },
    "tags": []
   },
   "outputs": [
    {
     "data": {
      "image/png": "[encoded data removed]",
      "text/latex": [
       "$\\displaystyle \\log{\\left(y \\right)} = \\log{\\left(x \\right)} \\sin{\\left(x \\right)}$"
      ],
      "text/plain": [
       "log(y) = log(x)⋅sin(x)"
      ]
     },
     "execution_count": 12,
     "metadata": {},
     "output_type": "execute_result"
    }
   ],
   "source": [
    "log_expr = sympy.Eq(sympy.log(expr.lhs), sympy.expand_log(sympy.log(expr.rhs)))\n",
    "log_expr"
   ]
  },
  {
   "cell_type": "markdown",
   "id": "f38aad74",
   "metadata": {
    "papermill": {
     "duration": 0.00627,
     "end_time": "2022-09-11T07:00:36.833768",
     "exception": false,
     "start_time": "2022-09-11T07:00:36.827498",
     "status": "completed"
    },
    "tags": []
   },
   "source": [
    "### 3. Определите вид функции (чётная/нечётная/общего вида):\n",
    "\n",
    "$y=3x+x^3$\n",
    "\n",
    "$y=4^{x}+4^{-x}$\n",
    "\n",
    "$y=(x-1)^3$"
   ]
  },
  {
   "cell_type": "code",
   "execution_count": 13,
   "id": "d8c5a11f",
   "metadata": {
    "execution": {
     "iopub.execute_input": "2022-09-11T07:00:36.848991Z",
     "iopub.status.busy": "2022-09-11T07:00:36.847900Z",
     "iopub.status.idle": "2022-09-11T07:00:36.852955Z",
     "shell.execute_reply": "2022-09-11T07:00:36.852204Z"
    },
    "papermill": {
     "duration": 0.014962,
     "end_time": "2022-09-11T07:00:36.855111",
     "exception": false,
     "start_time": "2022-09-11T07:00:36.840149",
     "status": "completed"
    },
    "tags": []
   },
   "outputs": [],
   "source": [
    "x = sympy.symbols('x')"
   ]
  },
  {
   "cell_type": "code",
   "execution_count": 14,
   "id": "eb8192bd",
   "metadata": {
    "execution": {
     "iopub.execute_input": "2022-09-11T07:00:36.870627Z",
     "iopub.status.busy": "2022-09-11T07:00:36.869944Z",
     "iopub.status.idle": "2022-09-11T07:00:36.875163Z",
     "shell.execute_reply": "2022-09-11T07:00:36.874398Z"
    },
    "papermill": {
     "duration": 0.015378,
     "end_time": "2022-09-11T07:00:36.877238",
     "exception": false,
     "start_time": "2022-09-11T07:00:36.861860",
     "status": "completed"
    },
    "tags": []
   },
   "outputs": [],
   "source": [
    "def func_type(func):\n",
    "    \"\"\"определить вид функции\"\"\"\n",
    "    func_mod = func.subs(x, -x)\n",
    "    # sympy.pprint(func_mod)\n",
    "    if func == func_mod:\n",
    "        return \"чётная функция\"\n",
    "    elif -func == func_mod:\n",
    "        return \"нечётная функция\"\n",
    "    else:\n",
    "        return \"функция общего вида\""
   ]
  },
  {
   "cell_type": "code",
   "execution_count": 15,
   "id": "634166b0",
   "metadata": {
    "execution": {
     "iopub.execute_input": "2022-09-11T07:00:36.892233Z",
     "iopub.status.busy": "2022-09-11T07:00:36.891553Z",
     "iopub.status.idle": "2022-09-11T07:00:36.904329Z",
     "shell.execute_reply": "2022-09-11T07:00:36.902810Z"
    },
    "papermill": {
     "duration": 0.0231,
     "end_time": "2022-09-11T07:00:36.906799",
     "exception": false,
     "start_time": "2022-09-11T07:00:36.883699",
     "status": "completed"
    },
    "tags": []
   },
   "outputs": [
    {
     "name": "stdout",
     "output_type": "stream",
     "text": [
      " 3      \n",
      "x  + 3⋅x\n"
     ]
    },
    {
     "data": {
      "text/plain": [
       "'нечётная функция'"
      ]
     },
     "execution_count": 15,
     "metadata": {},
     "output_type": "execute_result"
    }
   ],
   "source": [
    "ex1 = 3*x+x**3\n",
    "sympy.pprint(ex1)\n",
    "func_type(ex1)"
   ]
  },
  {
   "cell_type": "code",
   "execution_count": 16,
   "id": "06acef73",
   "metadata": {
    "execution": {
     "iopub.execute_input": "2022-09-11T07:00:36.922334Z",
     "iopub.status.busy": "2022-09-11T07:00:36.921722Z",
     "iopub.status.idle": "2022-09-11T07:00:36.933157Z",
     "shell.execute_reply": "2022-09-11T07:00:36.931193Z"
    },
    "papermill": {
     "duration": 0.022329,
     "end_time": "2022-09-11T07:00:36.935882",
     "exception": false,
     "start_time": "2022-09-11T07:00:36.913553",
     "status": "completed"
    },
    "tags": []
   },
   "outputs": [
    {
     "name": "stdout",
     "output_type": "stream",
     "text": [
      " x    -x\n",
      "4  + 4  \n"
     ]
    },
    {
     "data": {
      "text/plain": [
       "'чётная функция'"
      ]
     },
     "execution_count": 16,
     "metadata": {},
     "output_type": "execute_result"
    }
   ],
   "source": [
    "ex2 = 4**x + 4**(-x)\n",
    "sympy.pprint(ex2)\n",
    "func_type(ex2)"
   ]
  },
  {
   "cell_type": "code",
   "execution_count": 17,
   "id": "4ee90dbe",
   "metadata": {
    "execution": {
     "iopub.execute_input": "2022-09-11T07:00:36.951104Z",
     "iopub.status.busy": "2022-09-11T07:00:36.950670Z",
     "iopub.status.idle": "2022-09-11T07:00:36.961543Z",
     "shell.execute_reply": "2022-09-11T07:00:36.959793Z"
    },
    "papermill": {
     "duration": 0.021514,
     "end_time": "2022-09-11T07:00:36.964087",
     "exception": false,
     "start_time": "2022-09-11T07:00:36.942573",
     "status": "completed"
    },
    "tags": []
   },
   "outputs": [
    {
     "name": "stdout",
     "output_type": "stream",
     "text": [
      "       3\n",
      "(x - 1) \n"
     ]
    },
    {
     "data": {
      "text/plain": [
       "'функция общего вида'"
      ]
     },
     "execution_count": 17,
     "metadata": {},
     "output_type": "execute_result"
    }
   ],
   "source": [
    "ex3 = (x-1)**3\n",
    "sympy.pprint(ex3)\n",
    "func_type(ex3)"
   ]
  }
 ],
 "metadata": {
  "kernelspec": {
   "display_name": "Python 3",
   "language": "python",
   "name": "python3"
  },
  "language_info": {
   "codemirror_mode": {
    "name": "ipython",
    "version": 3
   },
   "file_extension": ".py",
   "mimetype": "text/x-python",
   "name": "python",
   "nbconvert_exporter": "python",
   "pygments_lexer": "ipython3",
   "version": "3.7.12"
  },
  "papermill": {
   "default_parameters": {},
   "duration": 13.55071,
   "end_time": "2022-09-11T07:00:37.791665",
   "environment_variables": {},
   "exception": null,
   "input_path": "__notebook__.ipynb",
   "output_path": "__notebook__.ipynb",
   "parameters": {},
   "start_time": "2022-09-11T07:00:24.240955",
   "version": "2.3.4"
  }
 },
 "nbformat": 4,
 "nbformat_minor": 5
}
