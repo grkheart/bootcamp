{
 "cells": [
  {
   "cell_type": "markdown",
   "id": "e31305ff",
   "metadata": {
    "id": "T5LIrOBopZg8",
    "papermill": {
     "duration": 0.008371,
     "end_time": "2022-09-21T09:54:55.569544",
     "exception": false,
     "start_time": "2022-09-21T09:54:55.561173",
     "status": "completed"
    },
    "tags": []
   },
   "source": [
    "# Практическое задание"
   ]
  },
  {
   "cell_type": "markdown",
   "id": "24966a17",
   "metadata": {
    "id": "Qpx9XB80pxE-",
    "papermill": {
     "duration": 0.006972,
     "end_time": "2022-09-21T09:54:55.583875",
     "exception": false,
     "start_time": "2022-09-21T09:54:55.576903",
     "status": "completed"
    },
    "tags": []
   },
   "source": [
    "#### Fashion MNIST"
   ]
  },
  {
   "cell_type": "code",
   "execution_count": 1,
   "id": "8926292e",
   "metadata": {
    "execution": {
     "iopub.execute_input": "2022-09-21T09:54:55.601093Z",
     "iopub.status.busy": "2022-09-21T09:54:55.600032Z",
     "iopub.status.idle": "2022-09-21T09:54:55.613425Z",
     "shell.execute_reply": "2022-09-21T09:54:55.612159Z"
    },
    "id": "ycTyuO1Ot3Rc",
    "papermill": {
     "duration": 0.025198,
     "end_time": "2022-09-21T09:54:55.616179",
     "exception": false,
     "start_time": "2022-09-21T09:54:55.590981",
     "status": "completed"
    },
    "tags": []
   },
   "outputs": [],
   "source": [
    "import pandas as pd\n",
    "import numpy as np\n",
    "import matplotlib.pyplot as plt"
   ]
  },
  {
   "cell_type": "code",
   "execution_count": 2,
   "id": "d616afad",
   "metadata": {
    "execution": {
     "iopub.execute_input": "2022-09-21T09:54:55.632688Z",
     "iopub.status.busy": "2022-09-21T09:54:55.632287Z",
     "iopub.status.idle": "2022-09-21T09:55:03.846693Z",
     "shell.execute_reply": "2022-09-21T09:55:03.845386Z"
    },
    "id": "my81ELEyqxEH",
    "outputId": "3ad40fcd-d1a9-4ff5-b644-81b10ba7608e",
    "papermill": {
     "duration": 8.226584,
     "end_time": "2022-09-21T09:55:03.850044",
     "exception": false,
     "start_time": "2022-09-21T09:54:55.623460",
     "status": "completed"
    },
    "tags": []
   },
   "outputs": [
    {
     "name": "stdout",
     "output_type": "stream",
     "text": [
      "Downloading data from https://storage.googleapis.com/tensorflow/tf-keras-datasets/train-labels-idx1-ubyte.gz\n",
      "32768/29515 [=================================] - 0s 0us/step\n",
      "40960/29515 [=========================================] - 0s 0us/step\n",
      "Downloading data from https://storage.googleapis.com/tensorflow/tf-keras-datasets/train-images-idx3-ubyte.gz\n",
      "26427392/26421880 [==============================] - 0s 0us/step\n",
      "26435584/26421880 [==============================] - 0s 0us/step\n",
      "Downloading data from https://storage.googleapis.com/tensorflow/tf-keras-datasets/t10k-labels-idx1-ubyte.gz\n",
      "16384/5148 [===============================================================================================] - 0s 0us/step\n",
      "Downloading data from https://storage.googleapis.com/tensorflow/tf-keras-datasets/t10k-images-idx3-ubyte.gz\n",
      "4423680/4422102 [==============================] - 0s 0us/step\n",
      "4431872/4422102 [==============================] - 0s 0us/step\n"
     ]
    }
   ],
   "source": [
    "import tensorflow as tf\n",
    "\n",
    "(X_train, y_train), (X_test, y_test) = tf.keras.datasets.fashion_mnist.load_data()"
   ]
  },
  {
   "cell_type": "markdown",
   "id": "f2eaaac4",
   "metadata": {
    "papermill": {
     "duration": 0.007779,
     "end_time": "2022-09-21T09:55:03.866665",
     "exception": false,
     "start_time": "2022-09-21T09:55:03.858886",
     "status": "completed"
    },
    "tags": []
   },
   "source": [
    "Масштабируем изображение так как исходное 28 на 28 неудобно"
   ]
  },
  {
   "cell_type": "code",
   "execution_count": 3,
   "id": "0b197e0c",
   "metadata": {
    "execution": {
     "iopub.execute_input": "2022-09-21T09:55:03.885651Z",
     "iopub.status.busy": "2022-09-21T09:55:03.884616Z",
     "iopub.status.idle": "2022-09-21T09:55:04.040555Z",
     "shell.execute_reply": "2022-09-21T09:55:04.039152Z"
    },
    "id": "U6GZHEz3J--X",
    "papermill": {
     "duration": 0.168602,
     "end_time": "2022-09-21T09:55:04.043288",
     "exception": false,
     "start_time": "2022-09-21T09:55:03.874686",
     "status": "completed"
    },
    "tags": []
   },
   "outputs": [
    {
     "name": "stderr",
     "output_type": "stream",
     "text": [
      "2022-09-21 09:55:03.906570: I tensorflow/core/common_runtime/process_util.cc:146] Creating new thread pool with default inter op setting: 2. Tune using inter_op_parallelism_threads for best performance.\n"
     ]
    }
   ],
   "source": [
    "X_train = tf.image.resize(X_train[..., np.newaxis], (14, 14))[..., 0]\n",
    "X_test = tf.image.resize(X_test[..., np.newaxis], (14, 14))[..., 0]"
   ]
  },
  {
   "cell_type": "code",
   "execution_count": 4,
   "id": "45783a1b",
   "metadata": {
    "execution": {
     "iopub.execute_input": "2022-09-21T09:55:04.061869Z",
     "iopub.status.busy": "2022-09-21T09:55:04.061426Z",
     "iopub.status.idle": "2022-09-21T09:55:04.071467Z",
     "shell.execute_reply": "2022-09-21T09:55:04.070181Z"
    },
    "id": "YmvL8rjqIg4U",
    "outputId": "ad07d7fe-686a-4e33-dabc-d0ea3e3044ef",
    "papermill": {
     "duration": 0.022344,
     "end_time": "2022-09-21T09:55:04.074030",
     "exception": false,
     "start_time": "2022-09-21T09:55:04.051686",
     "status": "completed"
    },
    "tags": []
   },
   "outputs": [
    {
     "data": {
      "text/plain": [
       "TensorShape([60000, 14, 14])"
      ]
     },
     "execution_count": 4,
     "metadata": {},
     "output_type": "execute_result"
    }
   ],
   "source": [
    "X_train.shape"
   ]
  },
  {
   "cell_type": "code",
   "execution_count": 5,
   "id": "0c3e0c08",
   "metadata": {
    "execution": {
     "iopub.execute_input": "2022-09-21T09:55:04.093518Z",
     "iopub.status.busy": "2022-09-21T09:55:04.092965Z",
     "iopub.status.idle": "2022-09-21T09:55:04.100972Z",
     "shell.execute_reply": "2022-09-21T09:55:04.099746Z"
    },
    "id": "1Ma8FwH8M3jY",
    "outputId": "28a2189e-792a-418d-ddec-adea85af263d",
    "papermill": {
     "duration": 0.02135,
     "end_time": "2022-09-21T09:55:04.103580",
     "exception": false,
     "start_time": "2022-09-21T09:55:04.082230",
     "status": "completed"
    },
    "tags": []
   },
   "outputs": [
    {
     "data": {
      "text/plain": [
       "TensorShape([10000, 14, 14])"
      ]
     },
     "execution_count": 5,
     "metadata": {},
     "output_type": "execute_result"
    }
   ],
   "source": [
    "X_test.shape"
   ]
  },
  {
   "cell_type": "code",
   "execution_count": 6,
   "id": "17231b29",
   "metadata": {
    "execution": {
     "iopub.execute_input": "2022-09-21T09:55:04.123129Z",
     "iopub.status.busy": "2022-09-21T09:55:04.122004Z",
     "iopub.status.idle": "2022-09-21T09:55:04.139053Z",
     "shell.execute_reply": "2022-09-21T09:55:04.137668Z"
    },
    "id": "ChEHBdHQtaEZ",
    "papermill": {
     "duration": 0.029752,
     "end_time": "2022-09-21T09:55:04.141933",
     "exception": false,
     "start_time": "2022-09-21T09:55:04.112181",
     "status": "completed"
    },
    "tags": []
   },
   "outputs": [],
   "source": [
    "X_train = X_train[:1000]\n",
    "y_train = y_train[:1000]\n",
    "\n",
    "X_test = X_test[:100]\n",
    "y_test = y_test[:100]"
   ]
  },
  {
   "cell_type": "code",
   "execution_count": 7,
   "id": "83ebe6f4",
   "metadata": {
    "execution": {
     "iopub.execute_input": "2022-09-21T09:55:04.160437Z",
     "iopub.status.busy": "2022-09-21T09:55:04.160043Z",
     "iopub.status.idle": "2022-09-21T09:55:05.590385Z",
     "shell.execute_reply": "2022-09-21T09:55:05.588844Z"
    },
    "id": "-BxOj4MRs3R7",
    "outputId": "1988bd82-4304-429e-914e-a678ad25abf9",
    "papermill": {
     "duration": 1.444807,
     "end_time": "2022-09-21T09:55:05.595113",
     "exception": false,
     "start_time": "2022-09-21T09:55:04.150306",
     "status": "completed"
    },
    "tags": []
   },
   "outputs": [
    {
     "data": {
      "image/png": "[encoded data removed]",
      "text/plain": [
       "<Figure size 1152x432 with 10 Axes>"
      ]
     },
     "metadata": {
      "needs_background": "light"
     },
     "output_type": "display_data"
    }
   ],
   "source": [
    "import matplotlib.pyplot as plt\n",
    "\n",
    "plt.figure(figsize=(16, 6))\n",
    "for i in range(10):\n",
    "    plt.subplot(2, 5, i + 1)\n",
    "    plt.imshow(X_train[i,:], cmap='gray')"
   ]
  },
  {
   "cell_type": "code",
   "execution_count": 8,
   "id": "5de317b7",
   "metadata": {
    "execution": {
     "iopub.execute_input": "2022-09-21T09:55:05.624599Z",
     "iopub.status.busy": "2022-09-21T09:55:05.624120Z",
     "iopub.status.idle": "2022-09-21T09:55:05.629545Z",
     "shell.execute_reply": "2022-09-21T09:55:05.628344Z"
    },
    "id": "BdPlkVQkKyyO",
    "papermill": {
     "duration": 0.018601,
     "end_time": "2022-09-21T09:55:05.632028",
     "exception": false,
     "start_time": "2022-09-21T09:55:05.613427",
     "status": "completed"
    },
    "tags": []
   },
   "outputs": [],
   "source": [
    "X_train = X_train.numpy()\n",
    "X_test = X_test.numpy()"
   ]
  },
  {
   "cell_type": "code",
   "execution_count": 9,
   "id": "47ef2ce0",
   "metadata": {
    "execution": {
     "iopub.execute_input": "2022-09-21T09:55:05.651553Z",
     "iopub.status.busy": "2022-09-21T09:55:05.650906Z",
     "iopub.status.idle": "2022-09-21T09:55:05.658838Z",
     "shell.execute_reply": "2022-09-21T09:55:05.657579Z"
    },
    "id": "cWb9A6iLsxUq",
    "outputId": "14adf33c-0c1a-446b-9626-5d108808d1b6",
    "papermill": {
     "duration": 0.020659,
     "end_time": "2022-09-21T09:55:05.661315",
     "exception": false,
     "start_time": "2022-09-21T09:55:05.640656",
     "status": "completed"
    },
    "tags": []
   },
   "outputs": [
    {
     "data": {
      "text/plain": [
       "(1000, 196)"
      ]
     },
     "execution_count": 9,
     "metadata": {},
     "output_type": "execute_result"
    }
   ],
   "source": [
    "X_train = X_train.reshape(X_train.shape[0], -1)\n",
    "X_test = X_test.reshape(X_test.shape[0], -1)\n",
    "\n",
    "X_train.shape"
   ]
  },
  {
   "cell_type": "markdown",
   "id": "e0b61854",
   "metadata": {
    "id": "OZrmdBJCp6QZ",
    "papermill": {
     "duration": 0.00826,
     "end_time": "2022-09-21T09:55:05.678438",
     "exception": false,
     "start_time": "2022-09-21T09:55:05.670178",
     "status": "completed"
    },
    "tags": []
   },
   "source": [
    "## Обучение модели"
   ]
  },
  {
   "cell_type": "code",
   "execution_count": 10,
   "id": "0d36c522",
   "metadata": {
    "execution": {
     "iopub.execute_input": "2022-09-21T09:55:05.698205Z",
     "iopub.status.busy": "2022-09-21T09:55:05.697410Z",
     "iopub.status.idle": "2022-09-21T09:55:06.976171Z",
     "shell.execute_reply": "2022-09-21T09:55:06.972513Z"
    },
    "id": "wybB0kWapuGy",
    "outputId": "71231a0d-55f7-480a-a2b6-518f1f77ff1f",
    "papermill": {
     "duration": 1.293132,
     "end_time": "2022-09-21T09:55:06.980515",
     "exception": false,
     "start_time": "2022-09-21T09:55:05.687383",
     "status": "completed"
    },
    "tags": []
   },
   "outputs": [
    {
     "name": "stdout",
     "output_type": "stream",
     "text": [
      "CPU times: user 1.23 s, sys: 632 ms, total: 1.87 s\n",
      "Wall time: 1.25 s\n"
     ]
    },
    {
     "name": "stderr",
     "output_type": "stream",
     "text": [
      "/opt/conda/lib/python3.7/site-packages/sklearn/linear_model/_logistic.py:818: ConvergenceWarning: lbfgs failed to converge (status=1):\n",
      "STOP: TOTAL NO. of ITERATIONS REACHED LIMIT.\n",
      "\n",
      "Increase the number of iterations (max_iter) or scale the data as shown in:\n",
      "    https://scikit-learn.org/stable/modules/preprocessing.html\n",
      "Please also refer to the documentation for alternative solver options:\n",
      "    https://scikit-learn.org/stable/modules/linear_model.html#logistic-regression\n",
      "  extra_warning_msg=_LOGISTIC_SOLVER_CONVERGENCE_MSG,\n"
     ]
    },
    {
     "data": {
      "text/plain": [
       "LogisticRegression()"
      ]
     },
     "execution_count": 10,
     "metadata": {},
     "output_type": "execute_result"
    }
   ],
   "source": [
    "%%time\n",
    "from sklearn.linear_model import LogisticRegression\n",
    "\n",
    "model = LogisticRegression()\n",
    "model.fit(X_train, y_train)"
   ]
  },
  {
   "cell_type": "code",
   "execution_count": 11,
   "id": "17cf6a6a",
   "metadata": {
    "execution": {
     "iopub.execute_input": "2022-09-21T09:55:07.030784Z",
     "iopub.status.busy": "2022-09-21T09:55:07.029774Z",
     "iopub.status.idle": "2022-09-21T09:55:07.057498Z",
     "shell.execute_reply": "2022-09-21T09:55:07.055801Z"
    },
    "id": "SUMXpFyiMikb",
    "outputId": "5688ff71-ed13-4ee7-a379-7bc793613120",
    "papermill": {
     "duration": 0.057343,
     "end_time": "2022-09-21T09:55:07.061816",
     "exception": false,
     "start_time": "2022-09-21T09:55:07.004473",
     "status": "completed"
    },
    "tags": []
   },
   "outputs": [
    {
     "data": {
      "text/plain": [
       "array([9, 0, 0, 3, 0, 2, 7, 2, 5, 5, 0, 9, 5, 5, 7, 9, 1, 0, 6, 4, 3, 1,\n",
       "       4, 8, 4, 3, 0, 2, 4, 4, 5, 3, 6, 6, 0, 8, 5, 2, 1, 6, 6, 7, 9, 5,\n",
       "       9, 2, 7, 3, 0, 3, 3, 3, 7, 6, 2, 6, 6, 8, 3, 3, 5, 0, 5, 5, 0, 2,\n",
       "       0, 0, 4, 1, 3, 1, 6, 3, 1, 4, 4, 6, 1, 9, 1, 3, 5, 7, 9, 7, 1, 7,\n",
       "       9, 9, 9, 3, 2, 9, 3, 6, 4, 1, 1, 8, 8, 0, 1, 1, 4, 8, 1, 9, 7, 8,\n",
       "       8, 9, 6, 6, 3, 1, 5, 4, 6, 7, 5, 5, 9, 2, 2, 2, 7, 6, 4, 1, 8, 7,\n",
       "       7, 5, 4, 2, 9, 1, 7, 4, 6, 9, 7, 1, 8, 7, 1, 2, 8, 0, 9, 1, 8, 7,\n",
       "       0, 5, 8, 6, 7, 2, 0, 8, 7, 1, 6, 2, 1, 9, 6, 0, 1, 0, 5, 5, 1, 7,\n",
       "       0, 5, 8, 4, 0, 4, 0, 6, 6, 4, 0, 0, 4, 7, 3, 0, 5, 8, 4, 1, 1, 2,\n",
       "       9, 2, 8, 5, 0, 6, 3, 4, 6, 0, 9, 1, 7, 3, 8, 5, 8, 3, 8, 5, 2, 0,\n",
       "       8, 7, 0, 3, 5, 0, 6, 5, 2, 7, 5, 2, 6, 8, 2, 6, 8, 0, 4, 4, 4, 4,\n",
       "       4, 1, 5, 6, 5, 3, 3, 7, 3, 3, 6, 2, 8, 4, 6, 5, 9, 3, 2, 3, 2, 4,\n",
       "       4, 8, 2, 5, 3, 0, 7, 2, 0, 2, 5, 7, 2, 3, 1, 7, 6, 2, 9, 1, 9, 1,\n",
       "       1, 8, 7, 8, 4, 2, 6, 6, 7, 9, 4, 6, 1, 9, 5, 6, 0, 5, 0, 1, 6, 1,\n",
       "       1, 6, 7, 4, 4, 8, 6, 4, 6, 9, 3, 7, 5, 0, 8, 3, 4, 0, 3, 3, 2, 0,\n",
       "       1, 0, 3, 8, 3, 9, 1, 9, 0, 4, 7, 7, 8, 5, 6, 5, 6, 8, 2, 5, 3, 3,\n",
       "       1, 6, 0, 7, 8, 7, 8, 1, 9, 6, 4, 5, 7, 1, 7, 6, 6, 7, 3, 5, 8, 7,\n",
       "       3, 3, 9, 0, 3, 1, 6, 4, 7, 0, 5, 1, 5, 4, 4, 5, 9, 1, 0, 5, 8, 3,\n",
       "       4, 4, 2, 4, 2, 5, 6, 7, 2, 2, 5, 3, 8, 8, 6, 8, 4, 4, 1, 0, 2, 7,\n",
       "       1, 1, 8, 8, 2, 7, 9, 7, 4, 1, 6, 0, 8, 9, 1, 4, 9, 5, 6, 7, 0, 3,\n",
       "       2, 0, 4, 1, 0, 0, 8, 7, 0, 2, 9, 9, 1, 3, 8, 3, 1, 4, 8, 5, 1, 8,\n",
       "       2, 4, 4, 9, 5, 5, 4, 5, 6, 3, 7, 4, 9, 5, 8, 9, 3, 9, 6, 4, 7, 2,\n",
       "       6, 6, 4, 8, 3, 0, 2, 8, 9, 0, 8, 6, 3, 9, 1, 6, 3, 6, 4, 1, 0, 2,\n",
       "       6, 2, 3, 3, 9, 1, 7, 9, 1, 1, 0, 1, 7, 0, 8, 5, 0, 6, 0, 1, 6, 6,\n",
       "       8, 7, 0, 9, 9, 9, 7, 4, 3, 9, 5, 9, 1, 4, 1, 6, 2, 4, 2, 7, 7, 6,\n",
       "       3, 7, 5, 8, 6, 4, 8, 4, 7, 8, 6, 5, 9, 9, 0, 0, 2, 2, 3, 7, 9, 3,\n",
       "       1, 9, 2, 7, 5, 5, 4, 8, 2, 7, 8, 1, 2, 6, 6, 8, 1, 9, 6, 0, 0, 5,\n",
       "       9, 3, 3, 7, 6, 1, 0, 0, 6, 4, 7, 5, 9, 7, 9, 3, 8, 8, 4, 8, 5, 4,\n",
       "       2, 2, 7, 7, 5, 8, 4, 2, 9, 4, 3, 7, 8, 7, 8, 3, 7, 8, 4, 7, 7, 2,\n",
       "       2, 0, 0, 0, 3, 9, 1, 0, 9, 8, 4, 3, 9, 9, 9, 8, 8, 5, 4, 5, 4, 9,\n",
       "       8, 8, 0, 9, 6, 0, 7, 3, 7, 9, 3, 8, 4, 3, 7, 8, 1, 4, 0, 7, 9, 8,\n",
       "       5, 5, 2, 1, 3, 3, 6, 7, 7, 5, 9, 9, 7, 8, 2, 7, 4, 7, 0, 3, 5, 1,\n",
       "       1, 5, 5, 2, 8, 3, 5, 9, 0, 7, 3, 0, 0, 7, 1, 9, 4, 8, 9, 1, 8, 3,\n",
       "       4, 7, 7, 7, 1, 4, 0, 4, 5, 8, 8, 6, 5, 7, 1, 0, 2, 4, 9, 0, 9, 8,\n",
       "       6, 2, 8, 1, 4, 1, 1, 2, 3, 3, 8, 9, 5, 1, 6, 4, 5, 9, 0, 2, 8, 8,\n",
       "       7, 0, 1, 6, 5, 5, 2, 5, 4, 6, 0, 6, 1, 1, 5, 7, 6, 5, 4, 0, 6, 0,\n",
       "       7, 2, 8, 9, 1, 6, 7, 1, 9, 8, 3, 5, 7, 1, 1, 9, 0, 6, 4, 8, 0, 9,\n",
       "       5, 0, 0, 1, 8, 7, 6, 7, 9, 0, 3, 0, 1, 3, 8, 0, 0, 1, 7, 4, 7, 3,\n",
       "       7, 0, 6, 0, 4, 3, 4, 5, 9, 5, 2, 8, 7, 0, 1, 4, 1, 8, 3, 2, 7, 5,\n",
       "       0, 9, 6, 6, 9, 3, 1, 1, 9, 9, 3, 9, 7, 3, 1, 9, 1, 6, 3, 0, 4, 8,\n",
       "       0, 6, 6, 2, 9, 1, 9, 8, 3, 4, 7, 2, 0, 0, 8, 6, 9, 1, 6, 5, 2, 8,\n",
       "       5, 4, 7, 0, 6, 8, 7, 1, 0, 3, 4, 7, 5, 2, 5, 1, 1, 5, 7, 5, 1, 4,\n",
       "       9, 6, 7, 5, 7, 3, 8, 2, 9, 4, 2, 5, 5, 7, 4, 2, 6, 9, 0, 5, 3, 6,\n",
       "       9, 5, 3, 6, 0, 3, 5, 7, 1, 2, 5, 7, 8, 1, 6, 3, 9, 7, 7, 0, 4, 0,\n",
       "       8, 7, 6, 9, 0, 2, 7, 6, 0, 4, 7, 4, 1, 2, 6, 7, 8, 2, 5, 6, 0, 2,\n",
       "       9, 8, 5, 4, 5, 7, 3, 3, 9, 8], dtype=uint8)"
      ]
     },
     "execution_count": 11,
     "metadata": {},
     "output_type": "execute_result"
    }
   ],
   "source": [
    "pred_train = model.predict(X_train)\n",
    "pred_train"
   ]
  },
  {
   "cell_type": "code",
   "execution_count": 12,
   "id": "a2f583c3",
   "metadata": {
    "execution": {
     "iopub.execute_input": "2022-09-21T09:55:07.110702Z",
     "iopub.status.busy": "2022-09-21T09:55:07.109975Z",
     "iopub.status.idle": "2022-09-21T09:55:07.157879Z",
     "shell.execute_reply": "2022-09-21T09:55:07.156246Z"
    },
    "id": "_VAdDN_lMjwP",
    "outputId": "52717e80-a632-45c7-f1a7-d4826c990837",
    "papermill": {
     "duration": 0.076149,
     "end_time": "2022-09-21T09:55:07.160956",
     "exception": false,
     "start_time": "2022-09-21T09:55:07.084807",
     "status": "completed"
    },
    "tags": []
   },
   "outputs": [
    {
     "data": {
      "text/html": [
       "<div>\n",
       "<style scoped>\n",
       "    .dataframe tbody tr th:only-of-type {\n",
       "        vertical-align: middle;\n",
       "    }\n",
       "\n",
       "    .dataframe tbody tr th {\n",
       "        vertical-align: top;\n",
       "    }\n",
       "\n",
       "    .dataframe thead th {\n",
       "        text-align: right;\n",
       "    }\n",
       "</style>\n",
       "<table border=\"1\" class=\"dataframe\">\n",
       "  <thead>\n",
       "    <tr style=\"text-align: right;\">\n",
       "      <th></th>\n",
       "      <th>pred</th>\n",
       "      <th>true</th>\n",
       "    </tr>\n",
       "  </thead>\n",
       "  <tbody>\n",
       "    <tr>\n",
       "      <th>0</th>\n",
       "      <td>9</td>\n",
       "      <td>9</td>\n",
       "    </tr>\n",
       "    <tr>\n",
       "      <th>1</th>\n",
       "      <td>0</td>\n",
       "      <td>0</td>\n",
       "    </tr>\n",
       "    <tr>\n",
       "      <th>2</th>\n",
       "      <td>0</td>\n",
       "      <td>0</td>\n",
       "    </tr>\n",
       "    <tr>\n",
       "      <th>3</th>\n",
       "      <td>3</td>\n",
       "      <td>3</td>\n",
       "    </tr>\n",
       "    <tr>\n",
       "      <th>4</th>\n",
       "      <td>0</td>\n",
       "      <td>0</td>\n",
       "    </tr>\n",
       "    <tr>\n",
       "      <th>...</th>\n",
       "      <td>...</td>\n",
       "      <td>...</td>\n",
       "    </tr>\n",
       "    <tr>\n",
       "      <th>995</th>\n",
       "      <td>7</td>\n",
       "      <td>7</td>\n",
       "    </tr>\n",
       "    <tr>\n",
       "      <th>996</th>\n",
       "      <td>3</td>\n",
       "      <td>3</td>\n",
       "    </tr>\n",
       "    <tr>\n",
       "      <th>997</th>\n",
       "      <td>3</td>\n",
       "      <td>3</td>\n",
       "    </tr>\n",
       "    <tr>\n",
       "      <th>998</th>\n",
       "      <td>9</td>\n",
       "      <td>9</td>\n",
       "    </tr>\n",
       "    <tr>\n",
       "      <th>999</th>\n",
       "      <td>8</td>\n",
       "      <td>8</td>\n",
       "    </tr>\n",
       "  </tbody>\n",
       "</table>\n",
       "<p>1000 rows × 2 columns</p>\n",
       "</div>"
      ],
      "text/plain": [
       "     pred  true\n",
       "0       9     9\n",
       "1       0     0\n",
       "2       0     0\n",
       "3       3     3\n",
       "4       0     0\n",
       "..    ...   ...\n",
       "995     7     7\n",
       "996     3     3\n",
       "997     3     3\n",
       "998     9     9\n",
       "999     8     8\n",
       "\n",
       "[1000 rows x 2 columns]"
      ]
     },
     "execution_count": 12,
     "metadata": {},
     "output_type": "execute_result"
    }
   ],
   "source": [
    "train_preds = pd.DataFrame(pred_train, columns=['pred'])\n",
    "train_preds['true'] = y_train\n",
    "\n",
    "train_preds"
   ]
  },
  {
   "cell_type": "markdown",
   "id": "21ef4bdf",
   "metadata": {
    "id": "gIEs8yLFMo1f",
    "papermill": {
     "duration": 0.009196,
     "end_time": "2022-09-21T09:55:07.180126",
     "exception": false,
     "start_time": "2022-09-21T09:55:07.170930",
     "status": "completed"
    },
    "tags": []
   },
   "source": [
    "## Валидация"
   ]
  },
  {
   "cell_type": "code",
   "execution_count": 13,
   "id": "b9e9fb67",
   "metadata": {
    "execution": {
     "iopub.execute_input": "2022-09-21T09:55:07.201128Z",
     "iopub.status.busy": "2022-09-21T09:55:07.200679Z",
     "iopub.status.idle": "2022-09-21T09:55:07.205831Z",
     "shell.execute_reply": "2022-09-21T09:55:07.204974Z"
    },
    "id": "d_0BJNVgMqK1",
    "papermill": {
     "duration": 0.018667,
     "end_time": "2022-09-21T09:55:07.208137",
     "exception": false,
     "start_time": "2022-09-21T09:55:07.189470",
     "status": "completed"
    },
    "tags": []
   },
   "outputs": [],
   "source": [
    "pred_test = model.predict(\n",
    "    X_test\n",
    ")"
   ]
  },
  {
   "cell_type": "code",
   "execution_count": 14,
   "id": "5b0565aa",
   "metadata": {
    "execution": {
     "iopub.execute_input": "2022-09-21T09:55:07.229686Z",
     "iopub.status.busy": "2022-09-21T09:55:07.228924Z",
     "iopub.status.idle": "2022-09-21T09:55:07.242674Z",
     "shell.execute_reply": "2022-09-21T09:55:07.241313Z"
    },
    "id": "ycRn4hhDMr_R",
    "outputId": "6d2d47a5-153c-4002-cde2-2858ea5e3e56",
    "papermill": {
     "duration": 0.027184,
     "end_time": "2022-09-21T09:55:07.245131",
     "exception": false,
     "start_time": "2022-09-21T09:55:07.217947",
     "status": "completed"
    },
    "tags": []
   },
   "outputs": [
    {
     "data": {
      "text/html": [
       "<div>\n",
       "<style scoped>\n",
       "    .dataframe tbody tr th:only-of-type {\n",
       "        vertical-align: middle;\n",
       "    }\n",
       "\n",
       "    .dataframe tbody tr th {\n",
       "        vertical-align: top;\n",
       "    }\n",
       "\n",
       "    .dataframe thead th {\n",
       "        text-align: right;\n",
       "    }\n",
       "</style>\n",
       "<table border=\"1\" class=\"dataframe\">\n",
       "  <thead>\n",
       "    <tr style=\"text-align: right;\">\n",
       "      <th></th>\n",
       "      <th>pred</th>\n",
       "      <th>true</th>\n",
       "    </tr>\n",
       "  </thead>\n",
       "  <tbody>\n",
       "    <tr>\n",
       "      <th>0</th>\n",
       "      <td>9</td>\n",
       "      <td>9</td>\n",
       "    </tr>\n",
       "    <tr>\n",
       "      <th>1</th>\n",
       "      <td>2</td>\n",
       "      <td>2</td>\n",
       "    </tr>\n",
       "    <tr>\n",
       "      <th>2</th>\n",
       "      <td>1</td>\n",
       "      <td>1</td>\n",
       "    </tr>\n",
       "    <tr>\n",
       "      <th>3</th>\n",
       "      <td>1</td>\n",
       "      <td>1</td>\n",
       "    </tr>\n",
       "    <tr>\n",
       "      <th>4</th>\n",
       "      <td>6</td>\n",
       "      <td>6</td>\n",
       "    </tr>\n",
       "    <tr>\n",
       "      <th>...</th>\n",
       "      <td>...</td>\n",
       "      <td>...</td>\n",
       "    </tr>\n",
       "    <tr>\n",
       "      <th>95</th>\n",
       "      <td>8</td>\n",
       "      <td>8</td>\n",
       "    </tr>\n",
       "    <tr>\n",
       "      <th>96</th>\n",
       "      <td>0</td>\n",
       "      <td>0</td>\n",
       "    </tr>\n",
       "    <tr>\n",
       "      <th>97</th>\n",
       "      <td>1</td>\n",
       "      <td>1</td>\n",
       "    </tr>\n",
       "    <tr>\n",
       "      <th>98</th>\n",
       "      <td>4</td>\n",
       "      <td>4</td>\n",
       "    </tr>\n",
       "    <tr>\n",
       "      <th>99</th>\n",
       "      <td>2</td>\n",
       "      <td>2</td>\n",
       "    </tr>\n",
       "  </tbody>\n",
       "</table>\n",
       "<p>100 rows × 2 columns</p>\n",
       "</div>"
      ],
      "text/plain": [
       "    pred  true\n",
       "0      9     9\n",
       "1      2     2\n",
       "2      1     1\n",
       "3      1     1\n",
       "4      6     6\n",
       "..   ...   ...\n",
       "95     8     8\n",
       "96     0     0\n",
       "97     1     1\n",
       "98     4     4\n",
       "99     2     2\n",
       "\n",
       "[100 rows x 2 columns]"
      ]
     },
     "execution_count": 14,
     "metadata": {},
     "output_type": "execute_result"
    }
   ],
   "source": [
    "test_preds = pd.DataFrame(pred_test, columns=['pred'])\n",
    "test_preds['true'] = y_test\n",
    "\n",
    "test_preds"
   ]
  },
  {
   "cell_type": "code",
   "execution_count": 15,
   "id": "1041af0e",
   "metadata": {
    "execution": {
     "iopub.execute_input": "2022-09-21T09:55:07.266839Z",
     "iopub.status.busy": "2022-09-21T09:55:07.266109Z",
     "iopub.status.idle": "2022-09-21T09:55:07.273844Z",
     "shell.execute_reply": "2022-09-21T09:55:07.271861Z"
    },
    "id": "vCoQjvXyMuyh",
    "outputId": "38ca075f-b119-4f95-a790-00462a4ff7c4",
    "papermill": {
     "duration": 0.021126,
     "end_time": "2022-09-21T09:55:07.276149",
     "exception": false,
     "start_time": "2022-09-21T09:55:07.255023",
     "status": "completed"
    },
    "tags": []
   },
   "outputs": [
    {
     "name": "stdout",
     "output_type": "stream",
     "text": [
      "Accuracy модели на обучающей выборке 0.983\n",
      "Accuracy модели на тестовой выборке 0.75\n"
     ]
    }
   ],
   "source": [
    "from sklearn.metrics import accuracy_score\n",
    "\n",
    "print(f\"Accuracy модели на обучающей выборке {accuracy_score(y_train, pred_train)}\")\n",
    "print(f\"Accuracy модели на тестовой выборке {accuracy_score(y_test, pred_test)}\")"
   ]
  },
  {
   "cell_type": "markdown",
   "id": "8eef944d",
   "metadata": {
    "id": "DTfFICLZNPhZ",
    "papermill": {
     "duration": 0.010179,
     "end_time": "2022-09-21T09:55:07.296211",
     "exception": false,
     "start_time": "2022-09-21T09:55:07.286032",
     "status": "completed"
    },
    "tags": []
   },
   "source": [
    "## Улучшение качества с помощью полиномиальной модели"
   ]
  },
  {
   "cell_type": "code",
   "execution_count": 16,
   "id": "a073d0e2",
   "metadata": {
    "execution": {
     "iopub.execute_input": "2022-09-21T09:55:07.318812Z",
     "iopub.status.busy": "2022-09-21T09:55:07.318063Z",
     "iopub.status.idle": "2022-09-21T09:55:07.325243Z",
     "shell.execute_reply": "2022-09-21T09:55:07.324317Z"
    },
    "id": "ooCVm6utJx-K",
    "papermill": {
     "duration": 0.021184,
     "end_time": "2022-09-21T09:55:07.327798",
     "exception": false,
     "start_time": "2022-09-21T09:55:07.306614",
     "status": "completed"
    },
    "tags": []
   },
   "outputs": [],
   "source": [
    "from sklearn.pipeline import make_pipeline\n",
    "from sklearn.preprocessing import PolynomialFeatures"
   ]
  },
  {
   "cell_type": "code",
   "execution_count": 17,
   "id": "6255a29b",
   "metadata": {
    "execution": {
     "iopub.execute_input": "2022-09-21T09:55:07.349788Z",
     "iopub.status.busy": "2022-09-21T09:55:07.349064Z",
     "iopub.status.idle": "2022-09-21T09:55:31.493113Z",
     "shell.execute_reply": "2022-09-21T09:55:31.489086Z"
    },
    "id": "YA4EYAfSI30e",
    "outputId": "81417e46-79b6-496d-890a-995416451134",
    "papermill": {
     "duration": 24.161037,
     "end_time": "2022-09-21T09:55:31.498841",
     "exception": false,
     "start_time": "2022-09-21T09:55:07.337804",
     "status": "completed"
    },
    "tags": []
   },
   "outputs": [
    {
     "name": "stdout",
     "output_type": "stream",
     "text": [
      "CPU times: user 1min 1s, sys: 30.2 s, total: 1min 31s\n",
      "Wall time: 24.1 s\n"
     ]
    },
    {
     "name": "stderr",
     "output_type": "stream",
     "text": [
      "/opt/conda/lib/python3.7/site-packages/sklearn/linear_model/_logistic.py:818: ConvergenceWarning: lbfgs failed to converge (status=1):\n",
      "STOP: TOTAL NO. of ITERATIONS REACHED LIMIT.\n",
      "\n",
      "Increase the number of iterations (max_iter) or scale the data as shown in:\n",
      "    https://scikit-learn.org/stable/modules/preprocessing.html\n",
      "Please also refer to the documentation for alternative solver options:\n",
      "    https://scikit-learn.org/stable/modules/linear_model.html#logistic-regression\n",
      "  extra_warning_msg=_LOGISTIC_SOLVER_CONVERGENCE_MSG,\n"
     ]
    },
    {
     "data": {
      "text/plain": [
       "Pipeline(steps=[('polynomialfeatures', PolynomialFeatures()),\n",
       "                ('logisticregression', LogisticRegression())])"
      ]
     },
     "execution_count": 17,
     "metadata": {},
     "output_type": "execute_result"
    }
   ],
   "source": [
    "%%time\n",
    "pipe = make_pipeline(PolynomialFeatures(degree=2), LogisticRegression())\n",
    "pipe.fit(X_train, y_train)"
   ]
  },
  {
   "cell_type": "code",
   "execution_count": 18,
   "id": "3ab055c6",
   "metadata": {
    "execution": {
     "iopub.execute_input": "2022-09-21T09:55:31.553397Z",
     "iopub.status.busy": "2022-09-21T09:55:31.552970Z",
     "iopub.status.idle": "2022-09-21T09:55:31.755459Z",
     "shell.execute_reply": "2022-09-21T09:55:31.754302Z"
    },
    "id": "V_6oGHgfI6hU",
    "outputId": "598e9a7a-8fbe-41fd-fd5f-4efb23388c77",
    "papermill": {
     "duration": 0.219776,
     "end_time": "2022-09-21T09:55:31.759324",
     "exception": false,
     "start_time": "2022-09-21T09:55:31.539548",
     "status": "completed"
    },
    "tags": []
   },
   "outputs": [
    {
     "data": {
      "text/plain": [
       "array([9, 0, 0, 3, 0, 2, 7, 2, 5, 5, 0, 9, 5, 5, 7, 9, 1, 0, 6, 4, 3, 1,\n",
       "       4, 8, 4, 3, 0, 2, 4, 4, 5, 3, 6, 6, 0, 8, 5, 2, 1, 6, 6, 7, 9, 5,\n",
       "       9, 2, 7, 3, 0, 3, 3, 3, 7, 2, 2, 6, 6, 8, 3, 3, 5, 0, 5, 5, 0, 2,\n",
       "       0, 0, 4, 1, 3, 1, 6, 3, 1, 4, 4, 6, 1, 9, 1, 3, 5, 7, 9, 7, 1, 7,\n",
       "       9, 9, 9, 3, 2, 9, 3, 6, 4, 1, 1, 8, 8, 0, 1, 1, 6, 8, 1, 9, 7, 8,\n",
       "       8, 9, 6, 6, 3, 1, 5, 4, 6, 7, 5, 5, 9, 2, 2, 2, 7, 6, 4, 1, 8, 7,\n",
       "       7, 5, 4, 2, 9, 1, 7, 4, 6, 9, 7, 1, 8, 7, 1, 2, 8, 0, 9, 1, 8, 7,\n",
       "       0, 5, 8, 6, 7, 2, 0, 8, 7, 1, 6, 2, 1, 9, 6, 0, 1, 0, 5, 5, 1, 7,\n",
       "       0, 5, 8, 4, 0, 4, 0, 6, 6, 4, 0, 0, 4, 7, 3, 0, 5, 8, 4, 1, 1, 2,\n",
       "       9, 2, 8, 5, 0, 6, 3, 4, 6, 0, 9, 1, 7, 3, 8, 5, 8, 3, 8, 5, 2, 0,\n",
       "       8, 7, 0, 3, 5, 0, 6, 5, 2, 7, 5, 2, 6, 8, 2, 6, 8, 0, 4, 4, 4, 4,\n",
       "       4, 1, 5, 6, 5, 3, 3, 7, 3, 3, 6, 2, 8, 4, 6, 5, 9, 3, 2, 3, 2, 4,\n",
       "       4, 8, 2, 5, 3, 0, 7, 2, 0, 2, 5, 7, 2, 3, 1, 7, 6, 2, 9, 1, 9, 1,\n",
       "       1, 8, 7, 8, 4, 2, 6, 6, 7, 9, 4, 6, 1, 9, 5, 6, 0, 5, 0, 1, 6, 1,\n",
       "       1, 6, 7, 4, 4, 8, 6, 4, 6, 9, 3, 7, 5, 0, 8, 3, 4, 0, 3, 3, 2, 0,\n",
       "       1, 0, 3, 8, 3, 9, 1, 9, 0, 4, 7, 7, 8, 5, 6, 5, 6, 8, 2, 5, 2, 3,\n",
       "       1, 6, 0, 7, 8, 7, 8, 1, 9, 6, 4, 5, 7, 1, 7, 6, 6, 7, 3, 5, 8, 7,\n",
       "       3, 3, 9, 0, 3, 1, 6, 4, 7, 0, 5, 1, 5, 4, 4, 5, 9, 1, 0, 5, 8, 3,\n",
       "       4, 4, 2, 4, 2, 5, 6, 7, 2, 2, 5, 3, 8, 8, 6, 8, 4, 4, 1, 0, 2, 7,\n",
       "       1, 1, 8, 8, 2, 7, 9, 7, 4, 1, 2, 0, 8, 9, 1, 4, 9, 5, 6, 7, 0, 3,\n",
       "       2, 0, 4, 1, 0, 0, 8, 7, 0, 2, 9, 9, 1, 3, 8, 3, 1, 4, 8, 5, 1, 8,\n",
       "       2, 4, 4, 9, 5, 5, 4, 5, 6, 3, 7, 4, 9, 5, 8, 9, 3, 9, 6, 4, 7, 2,\n",
       "       2, 6, 4, 8, 3, 0, 2, 8, 9, 0, 8, 6, 3, 9, 1, 6, 3, 2, 6, 1, 0, 2,\n",
       "       6, 2, 3, 3, 9, 1, 7, 9, 1, 1, 0, 1, 7, 0, 8, 5, 0, 6, 0, 1, 6, 6,\n",
       "       8, 7, 0, 9, 9, 9, 7, 4, 3, 9, 5, 9, 1, 4, 1, 6, 2, 2, 2, 7, 7, 6,\n",
       "       3, 7, 5, 8, 6, 4, 8, 4, 7, 8, 6, 5, 9, 9, 0, 0, 2, 4, 3, 7, 9, 3,\n",
       "       1, 9, 2, 7, 5, 5, 4, 8, 2, 7, 8, 1, 2, 6, 6, 8, 1, 9, 6, 0, 0, 5,\n",
       "       9, 3, 3, 7, 6, 1, 0, 0, 6, 4, 7, 5, 9, 7, 9, 3, 8, 8, 4, 8, 5, 4,\n",
       "       2, 2, 7, 7, 5, 8, 4, 6, 9, 4, 3, 7, 8, 7, 8, 3, 7, 8, 4, 7, 7, 2,\n",
       "       2, 0, 0, 0, 3, 9, 1, 0, 9, 8, 4, 3, 9, 9, 9, 8, 8, 5, 4, 5, 4, 9,\n",
       "       8, 8, 0, 9, 2, 0, 7, 3, 7, 9, 3, 8, 4, 3, 7, 8, 1, 4, 0, 7, 9, 8,\n",
       "       5, 5, 2, 1, 3, 4, 6, 7, 7, 5, 9, 9, 7, 8, 2, 7, 4, 7, 0, 3, 5, 1,\n",
       "       1, 5, 5, 2, 8, 3, 5, 9, 0, 7, 3, 0, 0, 7, 1, 9, 4, 8, 9, 1, 8, 3,\n",
       "       4, 7, 7, 7, 1, 4, 0, 4, 5, 8, 8, 6, 5, 7, 1, 0, 2, 4, 9, 0, 9, 8,\n",
       "       6, 2, 8, 1, 4, 1, 1, 2, 3, 3, 8, 9, 5, 1, 6, 4, 5, 9, 6, 2, 8, 8,\n",
       "       7, 0, 1, 6, 5, 5, 6, 5, 4, 6, 0, 6, 1, 1, 5, 7, 6, 5, 4, 0, 6, 0,\n",
       "       7, 2, 8, 9, 1, 6, 7, 1, 9, 8, 3, 5, 7, 1, 1, 9, 0, 6, 4, 8, 0, 9,\n",
       "       5, 0, 0, 1, 8, 7, 6, 7, 9, 0, 3, 0, 1, 3, 8, 0, 0, 1, 7, 4, 7, 3,\n",
       "       7, 0, 6, 0, 2, 3, 4, 5, 9, 5, 2, 8, 7, 0, 1, 4, 1, 8, 3, 2, 7, 5,\n",
       "       0, 9, 6, 6, 9, 3, 1, 1, 9, 9, 3, 9, 7, 3, 1, 9, 1, 6, 3, 0, 4, 8,\n",
       "       0, 6, 6, 2, 9, 1, 9, 8, 3, 4, 7, 2, 0, 0, 8, 6, 9, 1, 2, 5, 2, 8,\n",
       "       5, 6, 7, 0, 6, 8, 7, 1, 0, 3, 4, 7, 5, 2, 5, 1, 1, 5, 7, 5, 1, 4,\n",
       "       9, 6, 7, 5, 7, 3, 8, 2, 9, 4, 2, 5, 5, 7, 4, 2, 6, 9, 0, 5, 3, 6,\n",
       "       9, 5, 3, 6, 0, 3, 5, 7, 1, 2, 5, 7, 8, 1, 6, 3, 9, 7, 7, 0, 4, 0,\n",
       "       8, 7, 6, 9, 0, 2, 7, 6, 0, 4, 7, 4, 1, 2, 6, 7, 8, 2, 5, 6, 0, 2,\n",
       "       9, 8, 5, 4, 5, 7, 3, 3, 9, 8], dtype=uint8)"
      ]
     },
     "execution_count": 18,
     "metadata": {},
     "output_type": "execute_result"
    }
   ],
   "source": [
    "pred_train = pipe.predict(X_train)\n",
    "pred_train"
   ]
  },
  {
   "cell_type": "code",
   "execution_count": 19,
   "id": "90f9cb64",
   "metadata": {
    "execution": {
     "iopub.execute_input": "2022-09-21T09:55:31.814620Z",
     "iopub.status.busy": "2022-09-21T09:55:31.812754Z",
     "iopub.status.idle": "2022-09-21T09:55:31.838171Z",
     "shell.execute_reply": "2022-09-21T09:55:31.836836Z"
    },
    "id": "K9AeI9xkJAXR",
    "outputId": "ca43c30a-7cfd-4d80-97df-1018fb3fbd7c",
    "papermill": {
     "duration": 0.0562,
     "end_time": "2022-09-21T09:55:31.841065",
     "exception": false,
     "start_time": "2022-09-21T09:55:31.784865",
     "status": "completed"
    },
    "tags": []
   },
   "outputs": [
    {
     "data": {
      "text/html": [
       "<div>\n",
       "<style scoped>\n",
       "    .dataframe tbody tr th:only-of-type {\n",
       "        vertical-align: middle;\n",
       "    }\n",
       "\n",
       "    .dataframe tbody tr th {\n",
       "        vertical-align: top;\n",
       "    }\n",
       "\n",
       "    .dataframe thead th {\n",
       "        text-align: right;\n",
       "    }\n",
       "</style>\n",
       "<table border=\"1\" class=\"dataframe\">\n",
       "  <thead>\n",
       "    <tr style=\"text-align: right;\">\n",
       "      <th></th>\n",
       "      <th>pred</th>\n",
       "      <th>true</th>\n",
       "    </tr>\n",
       "  </thead>\n",
       "  <tbody>\n",
       "    <tr>\n",
       "      <th>0</th>\n",
       "      <td>9</td>\n",
       "      <td>9</td>\n",
       "    </tr>\n",
       "    <tr>\n",
       "      <th>1</th>\n",
       "      <td>0</td>\n",
       "      <td>0</td>\n",
       "    </tr>\n",
       "    <tr>\n",
       "      <th>2</th>\n",
       "      <td>0</td>\n",
       "      <td>0</td>\n",
       "    </tr>\n",
       "    <tr>\n",
       "      <th>3</th>\n",
       "      <td>3</td>\n",
       "      <td>3</td>\n",
       "    </tr>\n",
       "    <tr>\n",
       "      <th>4</th>\n",
       "      <td>0</td>\n",
       "      <td>0</td>\n",
       "    </tr>\n",
       "    <tr>\n",
       "      <th>...</th>\n",
       "      <td>...</td>\n",
       "      <td>...</td>\n",
       "    </tr>\n",
       "    <tr>\n",
       "      <th>995</th>\n",
       "      <td>7</td>\n",
       "      <td>7</td>\n",
       "    </tr>\n",
       "    <tr>\n",
       "      <th>996</th>\n",
       "      <td>3</td>\n",
       "      <td>3</td>\n",
       "    </tr>\n",
       "    <tr>\n",
       "      <th>997</th>\n",
       "      <td>3</td>\n",
       "      <td>3</td>\n",
       "    </tr>\n",
       "    <tr>\n",
       "      <th>998</th>\n",
       "      <td>9</td>\n",
       "      <td>9</td>\n",
       "    </tr>\n",
       "    <tr>\n",
       "      <th>999</th>\n",
       "      <td>8</td>\n",
       "      <td>8</td>\n",
       "    </tr>\n",
       "  </tbody>\n",
       "</table>\n",
       "<p>1000 rows × 2 columns</p>\n",
       "</div>"
      ],
      "text/plain": [
       "     pred  true\n",
       "0       9     9\n",
       "1       0     0\n",
       "2       0     0\n",
       "3       3     3\n",
       "4       0     0\n",
       "..    ...   ...\n",
       "995     7     7\n",
       "996     3     3\n",
       "997     3     3\n",
       "998     9     9\n",
       "999     8     8\n",
       "\n",
       "[1000 rows x 2 columns]"
      ]
     },
     "execution_count": 19,
     "metadata": {},
     "output_type": "execute_result"
    }
   ],
   "source": [
    "train_preds = pd.DataFrame(pred_train, columns=['pred'])\n",
    "train_preds['true'] = y_train\n",
    "\n",
    "train_preds"
   ]
  },
  {
   "cell_type": "markdown",
   "id": "67e7b19e",
   "metadata": {
    "id": "7B5OTS2bJAXV",
    "papermill": {
     "duration": 0.0102,
     "end_time": "2022-09-21T09:55:31.874236",
     "exception": false,
     "start_time": "2022-09-21T09:55:31.864036",
     "status": "completed"
    },
    "tags": []
   },
   "source": [
    "## Валидация"
   ]
  },
  {
   "cell_type": "code",
   "execution_count": 20,
   "id": "ccdb5a01",
   "metadata": {
    "execution": {
     "iopub.execute_input": "2022-09-21T09:55:31.896988Z",
     "iopub.status.busy": "2022-09-21T09:55:31.896552Z",
     "iopub.status.idle": "2022-09-21T09:55:31.902286Z",
     "shell.execute_reply": "2022-09-21T09:55:31.901172Z"
    },
    "id": "se-2Q1lfJAXX",
    "papermill": {
     "duration": 0.019978,
     "end_time": "2022-09-21T09:55:31.904644",
     "exception": false,
     "start_time": "2022-09-21T09:55:31.884666",
     "status": "completed"
    },
    "tags": []
   },
   "outputs": [],
   "source": [
    "pred_test = model.predict(\n",
    "    X_test\n",
    ")"
   ]
  },
  {
   "cell_type": "code",
   "execution_count": 21,
   "id": "26b7df69",
   "metadata": {
    "execution": {
     "iopub.execute_input": "2022-09-21T09:55:31.927407Z",
     "iopub.status.busy": "2022-09-21T09:55:31.927009Z",
     "iopub.status.idle": "2022-09-21T09:55:31.940905Z",
     "shell.execute_reply": "2022-09-21T09:55:31.940035Z"
    },
    "id": "KPqhvrsEJAXZ",
    "outputId": "220bd603-3f7b-4d81-a10e-07e1009b3f6e",
    "papermill": {
     "duration": 0.027767,
     "end_time": "2022-09-21T09:55:31.942932",
     "exception": false,
     "start_time": "2022-09-21T09:55:31.915165",
     "status": "completed"
    },
    "tags": []
   },
   "outputs": [
    {
     "data": {
      "text/html": [
       "<div>\n",
       "<style scoped>\n",
       "    .dataframe tbody tr th:only-of-type {\n",
       "        vertical-align: middle;\n",
       "    }\n",
       "\n",
       "    .dataframe tbody tr th {\n",
       "        vertical-align: top;\n",
       "    }\n",
       "\n",
       "    .dataframe thead th {\n",
       "        text-align: right;\n",
       "    }\n",
       "</style>\n",
       "<table border=\"1\" class=\"dataframe\">\n",
       "  <thead>\n",
       "    <tr style=\"text-align: right;\">\n",
       "      <th></th>\n",
       "      <th>pred</th>\n",
       "      <th>true</th>\n",
       "    </tr>\n",
       "  </thead>\n",
       "  <tbody>\n",
       "    <tr>\n",
       "      <th>0</th>\n",
       "      <td>9</td>\n",
       "      <td>9</td>\n",
       "    </tr>\n",
       "    <tr>\n",
       "      <th>1</th>\n",
       "      <td>2</td>\n",
       "      <td>2</td>\n",
       "    </tr>\n",
       "    <tr>\n",
       "      <th>2</th>\n",
       "      <td>1</td>\n",
       "      <td>1</td>\n",
       "    </tr>\n",
       "    <tr>\n",
       "      <th>3</th>\n",
       "      <td>1</td>\n",
       "      <td>1</td>\n",
       "    </tr>\n",
       "    <tr>\n",
       "      <th>4</th>\n",
       "      <td>6</td>\n",
       "      <td>6</td>\n",
       "    </tr>\n",
       "    <tr>\n",
       "      <th>...</th>\n",
       "      <td>...</td>\n",
       "      <td>...</td>\n",
       "    </tr>\n",
       "    <tr>\n",
       "      <th>95</th>\n",
       "      <td>8</td>\n",
       "      <td>8</td>\n",
       "    </tr>\n",
       "    <tr>\n",
       "      <th>96</th>\n",
       "      <td>0</td>\n",
       "      <td>0</td>\n",
       "    </tr>\n",
       "    <tr>\n",
       "      <th>97</th>\n",
       "      <td>1</td>\n",
       "      <td>1</td>\n",
       "    </tr>\n",
       "    <tr>\n",
       "      <th>98</th>\n",
       "      <td>4</td>\n",
       "      <td>4</td>\n",
       "    </tr>\n",
       "    <tr>\n",
       "      <th>99</th>\n",
       "      <td>2</td>\n",
       "      <td>2</td>\n",
       "    </tr>\n",
       "  </tbody>\n",
       "</table>\n",
       "<p>100 rows × 2 columns</p>\n",
       "</div>"
      ],
      "text/plain": [
       "    pred  true\n",
       "0      9     9\n",
       "1      2     2\n",
       "2      1     1\n",
       "3      1     1\n",
       "4      6     6\n",
       "..   ...   ...\n",
       "95     8     8\n",
       "96     0     0\n",
       "97     1     1\n",
       "98     4     4\n",
       "99     2     2\n",
       "\n",
       "[100 rows x 2 columns]"
      ]
     },
     "execution_count": 21,
     "metadata": {},
     "output_type": "execute_result"
    }
   ],
   "source": [
    "test_preds = pd.DataFrame(pred_test, columns=['pred'])\n",
    "test_preds['true'] = y_test\n",
    "\n",
    "test_preds"
   ]
  },
  {
   "cell_type": "code",
   "execution_count": 22,
   "id": "6750900c",
   "metadata": {
    "execution": {
     "iopub.execute_input": "2022-09-21T09:55:31.966028Z",
     "iopub.status.busy": "2022-09-21T09:55:31.965563Z",
     "iopub.status.idle": "2022-09-21T09:55:31.973355Z",
     "shell.execute_reply": "2022-09-21T09:55:31.971805Z"
    },
    "id": "seM06op-JAXa",
    "outputId": "9b50d9c8-5a5a-431c-dcd6-5a761a6ba927",
    "papermill": {
     "duration": 0.023497,
     "end_time": "2022-09-21T09:55:31.976965",
     "exception": false,
     "start_time": "2022-09-21T09:55:31.953468",
     "status": "completed"
    },
    "tags": []
   },
   "outputs": [
    {
     "name": "stdout",
     "output_type": "stream",
     "text": [
      "Accuracy модели на обучающей выборке 1.0\n",
      "Accuracy модели на тестовой выборке 0.75\n"
     ]
    }
   ],
   "source": [
    "from sklearn.metrics import accuracy_score\n",
    "\n",
    "print(f\"Accuracy модели на обучающей выборке {accuracy_score(y_train, pred_train)}\")\n",
    "print(f\"Accuracy модели на тестовой выборке {accuracy_score(y_test, pred_test)}\")"
   ]
  },
  {
   "cell_type": "markdown",
   "id": "8d78f44f",
   "metadata": {
    "id": "siVvI6BCM8e2",
    "papermill": {
     "duration": 0.010239,
     "end_time": "2022-09-21T09:55:31.998262",
     "exception": false,
     "start_time": "2022-09-21T09:55:31.988023",
     "status": "completed"
    },
    "tags": []
   },
   "source": [
    "## Сделайте выводы\n",
    "\n",
    "Модель переобучается"
   ]
  }
 ],
 "metadata": {
  "kernelspec": {
   "display_name": "Python 3",
   "language": "python",
   "name": "python3"
  },
  "language_info": {
   "codemirror_mode": {
    "name": "ipython",
    "version": 3
   },
   "file_extension": ".py",
   "mimetype": "text/x-python",
   "name": "python",
   "nbconvert_exporter": "python",
   "pygments_lexer": "ipython3",
   "version": "3.7.12"
  },
  "papermill": {
   "default_parameters": {},
   "duration": 49.199065,
   "end_time": "2022-09-21T09:55:35.289839",
   "environment_variables": {},
   "exception": null,
   "input_path": "__notebook__.ipynb",
   "output_path": "__notebook__.ipynb",
   "parameters": {},
   "start_time": "2022-09-21T09:54:46.090774",
   "version": "2.3.4"
  }
 },
 "nbformat": 4,
 "nbformat_minor": 5
}
