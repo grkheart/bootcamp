{
 "cells": [
  {
   "cell_type": "markdown",
   "id": "adf79e1f",
   "metadata": {
    "id": "T5LIrOBopZg8",
    "papermill": {
     "duration": 0.006979,
     "end_time": "2022-09-19T08:46:16.137926",
     "exception": false,
     "start_time": "2022-09-19T08:46:16.130947",
     "status": "completed"
    },
    "tags": []
   },
   "source": [
    "# Практическое задание"
   ]
  },
  {
   "cell_type": "markdown",
   "id": "878fd2e5",
   "metadata": {
    "id": "LImDg_25VlLn",
    "papermill": {
     "duration": 0.005222,
     "end_time": "2022-09-19T08:46:16.148895",
     "exception": false,
     "start_time": "2022-09-19T08:46:16.143673",
     "status": "completed"
    },
    "tags": []
   },
   "source": [
    "Визуализация набора данных MNIST"
   ]
  },
  {
   "cell_type": "code",
   "execution_count": 1,
   "id": "a883d4c0",
   "metadata": {
    "execution": {
     "iopub.execute_input": "2022-09-19T08:46:16.162569Z",
     "iopub.status.busy": "2022-09-19T08:46:16.161748Z",
     "iopub.status.idle": "2022-09-19T08:46:17.553852Z",
     "shell.execute_reply": "2022-09-19T08:46:17.552646Z"
    },
    "id": "hAERN4vDVlLn",
    "papermill": {
     "duration": 1.402426,
     "end_time": "2022-09-19T08:46:17.557010",
     "exception": false,
     "start_time": "2022-09-19T08:46:16.154584",
     "status": "completed"
    },
    "tags": []
   },
   "outputs": [],
   "source": [
    "from sklearn import datasets\n",
    "from sklearn.metrics import accuracy_score\n",
    "import pandas as pd\n",
    "import numpy as np\n",
    "\n",
    "digits = datasets.load_digits()\n",
    "X = digits.data\n",
    "y = digits.target"
   ]
  },
  {
   "cell_type": "code",
   "execution_count": 2,
   "id": "8efd165e",
   "metadata": {
    "execution": {
     "iopub.execute_input": "2022-09-19T08:46:17.571389Z",
     "iopub.status.busy": "2022-09-19T08:46:17.570104Z",
     "iopub.status.idle": "2022-09-19T08:46:17.583304Z",
     "shell.execute_reply": "2022-09-19T08:46:17.582088Z"
    },
    "executionInfo": {
     "elapsed": 8,
     "status": "ok",
     "timestamp": 1660629650562,
     "user": {
      "displayName": "Julia Ponomareva",
      "userId": "14904333240138417226"
     },
     "user_tz": -300
    },
    "id": "NQS1O4vyVlLo",
    "outputId": "f07620b0-71a7-426c-f97b-386728dcc6ab",
    "papermill": {
     "duration": 0.023394,
     "end_time": "2022-09-19T08:46:17.586200",
     "exception": false,
     "start_time": "2022-09-19T08:46:17.562806",
     "status": "completed"
    },
    "tags": []
   },
   "outputs": [
    {
     "data": {
      "text/plain": [
       "array([0, 1, 2, 3, 4, 5, 6, 7, 8, 9])"
      ]
     },
     "execution_count": 2,
     "metadata": {},
     "output_type": "execute_result"
    }
   ],
   "source": [
    "y[:10]"
   ]
  },
  {
   "cell_type": "code",
   "execution_count": 3,
   "id": "c92199f0",
   "metadata": {
    "execution": {
     "iopub.execute_input": "2022-09-19T08:46:17.600409Z",
     "iopub.status.busy": "2022-09-19T08:46:17.599307Z",
     "iopub.status.idle": "2022-09-19T08:46:17.606935Z",
     "shell.execute_reply": "2022-09-19T08:46:17.605554Z"
    },
    "executionInfo": {
     "elapsed": 7,
     "status": "ok",
     "timestamp": 1660629651284,
     "user": {
      "displayName": "Julia Ponomareva",
      "userId": "14904333240138417226"
     },
     "user_tz": -300
    },
    "id": "Z5dsg4gBVlLo",
    "outputId": "6c3261e7-4c30-4bc1-8560-cece8837dd85",
    "papermill": {
     "duration": 0.0174,
     "end_time": "2022-09-19T08:46:17.609497",
     "exception": false,
     "start_time": "2022-09-19T08:46:17.592097",
     "status": "completed"
    },
    "tags": []
   },
   "outputs": [
    {
     "data": {
      "text/plain": [
       "(1797, 64)"
      ]
     },
     "execution_count": 3,
     "metadata": {},
     "output_type": "execute_result"
    }
   ],
   "source": [
    "X.shape"
   ]
  },
  {
   "cell_type": "code",
   "execution_count": 4,
   "id": "7cefa301",
   "metadata": {
    "execution": {
     "iopub.execute_input": "2022-09-19T08:46:17.623454Z",
     "iopub.status.busy": "2022-09-19T08:46:17.622987Z",
     "iopub.status.idle": "2022-09-19T08:46:18.731116Z",
     "shell.execute_reply": "2022-09-19T08:46:18.729581Z"
    },
    "executionInfo": {
     "elapsed": 540,
     "status": "ok",
     "timestamp": 1660629652620,
     "user": {
      "displayName": "Julia Ponomareva",
      "userId": "14904333240138417226"
     },
     "user_tz": -300
    },
    "id": "laDrsBkcVlLo",
    "outputId": "255dcf7d-f5f1-4b97-aace-e19c8c22e343",
    "papermill": {
     "duration": 1.118186,
     "end_time": "2022-09-19T08:46:18.733766",
     "exception": false,
     "start_time": "2022-09-19T08:46:17.615580",
     "status": "completed"
    },
    "tags": []
   },
   "outputs": [
    {
     "data": {
      "image/png": "[encoded data removed]",
      "text/plain": [
       "<Figure size 1152x432 with 10 Axes>"
      ]
     },
     "metadata": {
      "needs_background": "light"
     },
     "output_type": "display_data"
    }
   ],
   "source": [
    "import matplotlib.pyplot as plt\n",
    "\n",
    "plt.figure(figsize=(16, 6))\n",
    "for i in range(10):\n",
    "    plt.subplot(2, 5, i + 1)\n",
    "    plt.imshow(X[i,:].reshape([8,8]))"
   ]
  },
  {
   "cell_type": "markdown",
   "id": "ca96a7fd",
   "metadata": {
    "id": "B7dA1qOANrev",
    "papermill": {
     "duration": 0.005989,
     "end_time": "2022-09-19T08:46:18.746075",
     "exception": false,
     "start_time": "2022-09-19T08:46:18.740086",
     "status": "completed"
    },
    "tags": []
   },
   "source": [
    "### train test split"
   ]
  },
  {
   "cell_type": "code",
   "execution_count": 5,
   "id": "8839ddc1",
   "metadata": {
    "execution": {
     "iopub.execute_input": "2022-09-19T08:46:18.760943Z",
     "iopub.status.busy": "2022-09-19T08:46:18.760448Z",
     "iopub.status.idle": "2022-09-19T08:46:18.785725Z",
     "shell.execute_reply": "2022-09-19T08:46:18.784069Z"
    },
    "id": "jRNAmisQNti1",
    "papermill": {
     "duration": 0.036148,
     "end_time": "2022-09-19T08:46:18.788810",
     "exception": false,
     "start_time": "2022-09-19T08:46:18.752662",
     "status": "completed"
    },
    "tags": []
   },
   "outputs": [
    {
     "data": {
      "text/plain": [
       "((1437, 64), (360, 64))"
      ]
     },
     "execution_count": 5,
     "metadata": {},
     "output_type": "execute_result"
    }
   ],
   "source": [
    "from sklearn.model_selection import train_test_split\n",
    "\n",
    "X_train, X_test, y_train, y_test = train_test_split(X, y, random_state=1, test_size=0.2)\n",
    "\n",
    "X_train.shape, X_test.shape"
   ]
  },
  {
   "cell_type": "markdown",
   "id": "609b13cc",
   "metadata": {
    "id": "Y--l2va_Noe_",
    "papermill": {
     "duration": 0.006246,
     "end_time": "2022-09-19T08:46:18.801961",
     "exception": false,
     "start_time": "2022-09-19T08:46:18.795715",
     "status": "completed"
    },
    "tags": []
   },
   "source": [
    "## Обучение модели"
   ]
  },
  {
   "cell_type": "code",
   "execution_count": 6,
   "id": "a80d33f6",
   "metadata": {
    "execution": {
     "iopub.execute_input": "2022-09-19T08:46:18.817394Z",
     "iopub.status.busy": "2022-09-19T08:46:18.816632Z",
     "iopub.status.idle": "2022-09-19T08:46:19.030412Z",
     "shell.execute_reply": "2022-09-19T08:46:19.028827Z"
    },
    "papermill": {
     "duration": 0.224823,
     "end_time": "2022-09-19T08:46:19.033330",
     "exception": false,
     "start_time": "2022-09-19T08:46:18.808507",
     "status": "completed"
    },
    "tags": []
   },
   "outputs": [
    {
     "name": "stdout",
     "output_type": "stream",
     "text": [
      "CPU times: user 69.6 ms, sys: 17.8 ms, total: 87.4 ms\n",
      "Wall time: 200 ms\n"
     ]
    },
    {
     "data": {
      "text/plain": [
       "DecisionTreeClassifier(random_state=1)"
      ]
     },
     "execution_count": 6,
     "metadata": {},
     "output_type": "execute_result"
    }
   ],
   "source": [
    "%%time\n",
    "from sklearn.tree import DecisionTreeClassifier\n",
    "\n",
    "model = DecisionTreeClassifier (random_state = 1)\n",
    "model.fit(X_train, y_train)"
   ]
  },
  {
   "cell_type": "code",
   "execution_count": 7,
   "id": "1b76d209",
   "metadata": {
    "execution": {
     "iopub.execute_input": "2022-09-19T08:46:19.048747Z",
     "iopub.status.busy": "2022-09-19T08:46:19.048325Z",
     "iopub.status.idle": "2022-09-19T08:46:19.056906Z",
     "shell.execute_reply": "2022-09-19T08:46:19.055767Z"
    },
    "papermill": {
     "duration": 0.019785,
     "end_time": "2022-09-19T08:46:19.060091",
     "exception": false,
     "start_time": "2022-09-19T08:46:19.040306",
     "status": "completed"
    },
    "tags": []
   },
   "outputs": [
    {
     "data": {
      "text/plain": [
       "array([4, 9, 6, ..., 9, 1, 5])"
      ]
     },
     "execution_count": 7,
     "metadata": {},
     "output_type": "execute_result"
    }
   ],
   "source": [
    "pred_train = model.predict(X_train)\n",
    "pred_train"
   ]
  },
  {
   "cell_type": "code",
   "execution_count": 8,
   "id": "0aaa6700",
   "metadata": {
    "execution": {
     "iopub.execute_input": "2022-09-19T08:46:19.077572Z",
     "iopub.status.busy": "2022-09-19T08:46:19.077119Z",
     "iopub.status.idle": "2022-09-19T08:46:19.109234Z",
     "shell.execute_reply": "2022-09-19T08:46:19.107967Z"
    },
    "papermill": {
     "duration": 0.044477,
     "end_time": "2022-09-19T08:46:19.111750",
     "exception": false,
     "start_time": "2022-09-19T08:46:19.067273",
     "status": "completed"
    },
    "tags": []
   },
   "outputs": [
    {
     "data": {
      "text/html": [
       "<div>\n",
       "<style scoped>\n",
       "    .dataframe tbody tr th:only-of-type {\n",
       "        vertical-align: middle;\n",
       "    }\n",
       "\n",
       "    .dataframe tbody tr th {\n",
       "        vertical-align: top;\n",
       "    }\n",
       "\n",
       "    .dataframe thead th {\n",
       "        text-align: right;\n",
       "    }\n",
       "</style>\n",
       "<table border=\"1\" class=\"dataframe\">\n",
       "  <thead>\n",
       "    <tr style=\"text-align: right;\">\n",
       "      <th></th>\n",
       "      <th>pred</th>\n",
       "      <th>true</th>\n",
       "    </tr>\n",
       "  </thead>\n",
       "  <tbody>\n",
       "    <tr>\n",
       "      <th>0</th>\n",
       "      <td>4</td>\n",
       "      <td>4</td>\n",
       "    </tr>\n",
       "    <tr>\n",
       "      <th>1</th>\n",
       "      <td>9</td>\n",
       "      <td>9</td>\n",
       "    </tr>\n",
       "    <tr>\n",
       "      <th>2</th>\n",
       "      <td>6</td>\n",
       "      <td>6</td>\n",
       "    </tr>\n",
       "    <tr>\n",
       "      <th>3</th>\n",
       "      <td>4</td>\n",
       "      <td>4</td>\n",
       "    </tr>\n",
       "    <tr>\n",
       "      <th>4</th>\n",
       "      <td>2</td>\n",
       "      <td>2</td>\n",
       "    </tr>\n",
       "    <tr>\n",
       "      <th>...</th>\n",
       "      <td>...</td>\n",
       "      <td>...</td>\n",
       "    </tr>\n",
       "    <tr>\n",
       "      <th>1432</th>\n",
       "      <td>8</td>\n",
       "      <td>8</td>\n",
       "    </tr>\n",
       "    <tr>\n",
       "      <th>1433</th>\n",
       "      <td>4</td>\n",
       "      <td>4</td>\n",
       "    </tr>\n",
       "    <tr>\n",
       "      <th>1434</th>\n",
       "      <td>9</td>\n",
       "      <td>9</td>\n",
       "    </tr>\n",
       "    <tr>\n",
       "      <th>1435</th>\n",
       "      <td>1</td>\n",
       "      <td>1</td>\n",
       "    </tr>\n",
       "    <tr>\n",
       "      <th>1436</th>\n",
       "      <td>5</td>\n",
       "      <td>5</td>\n",
       "    </tr>\n",
       "  </tbody>\n",
       "</table>\n",
       "<p>1437 rows × 2 columns</p>\n",
       "</div>"
      ],
      "text/plain": [
       "      pred  true\n",
       "0        4     4\n",
       "1        9     9\n",
       "2        6     6\n",
       "3        4     4\n",
       "4        2     2\n",
       "...    ...   ...\n",
       "1432     8     8\n",
       "1433     4     4\n",
       "1434     9     9\n",
       "1435     1     1\n",
       "1436     5     5\n",
       "\n",
       "[1437 rows x 2 columns]"
      ]
     },
     "execution_count": 8,
     "metadata": {},
     "output_type": "execute_result"
    }
   ],
   "source": [
    "train_preds = pd.DataFrame(pred_train, columns=['pred'])\n",
    "train_preds['true'] = y_train\n",
    "train_preds"
   ]
  },
  {
   "cell_type": "markdown",
   "id": "3f45c1d4",
   "metadata": {
    "id": "k9WGbeh9NofP",
    "papermill": {
     "duration": 0.00654,
     "end_time": "2022-09-19T08:46:19.125713",
     "exception": false,
     "start_time": "2022-09-19T08:46:19.119173",
     "status": "completed"
    },
    "tags": []
   },
   "source": [
    "## Валидация"
   ]
  },
  {
   "cell_type": "code",
   "execution_count": 9,
   "id": "76ed1870",
   "metadata": {
    "execution": {
     "iopub.execute_input": "2022-09-19T08:46:19.141533Z",
     "iopub.status.busy": "2022-09-19T08:46:19.141094Z",
     "iopub.status.idle": "2022-09-19T08:46:19.147978Z",
     "shell.execute_reply": "2022-09-19T08:46:19.146431Z"
    },
    "papermill": {
     "duration": 0.017632,
     "end_time": "2022-09-19T08:46:19.150507",
     "exception": false,
     "start_time": "2022-09-19T08:46:19.132875",
     "status": "completed"
    },
    "tags": []
   },
   "outputs": [],
   "source": [
    "pred_test = model.predict(\n",
    "    X_test\n",
    ")"
   ]
  },
  {
   "cell_type": "code",
   "execution_count": 10,
   "id": "e82f5d34",
   "metadata": {
    "execution": {
     "iopub.execute_input": "2022-09-19T08:46:19.167225Z",
     "iopub.status.busy": "2022-09-19T08:46:19.165969Z",
     "iopub.status.idle": "2022-09-19T08:46:19.184232Z",
     "shell.execute_reply": "2022-09-19T08:46:19.182867Z"
    },
    "papermill": {
     "duration": 0.029065,
     "end_time": "2022-09-19T08:46:19.186637",
     "exception": false,
     "start_time": "2022-09-19T08:46:19.157572",
     "status": "completed"
    },
    "tags": []
   },
   "outputs": [
    {
     "data": {
      "text/html": [
       "<div>\n",
       "<style scoped>\n",
       "    .dataframe tbody tr th:only-of-type {\n",
       "        vertical-align: middle;\n",
       "    }\n",
       "\n",
       "    .dataframe tbody tr th {\n",
       "        vertical-align: top;\n",
       "    }\n",
       "\n",
       "    .dataframe thead th {\n",
       "        text-align: right;\n",
       "    }\n",
       "</style>\n",
       "<table border=\"1\" class=\"dataframe\">\n",
       "  <thead>\n",
       "    <tr style=\"text-align: right;\">\n",
       "      <th></th>\n",
       "      <th>pred</th>\n",
       "      <th>true</th>\n",
       "    </tr>\n",
       "  </thead>\n",
       "  <tbody>\n",
       "    <tr>\n",
       "      <th>0</th>\n",
       "      <td>1</td>\n",
       "      <td>1</td>\n",
       "    </tr>\n",
       "    <tr>\n",
       "      <th>1</th>\n",
       "      <td>5</td>\n",
       "      <td>5</td>\n",
       "    </tr>\n",
       "    <tr>\n",
       "      <th>2</th>\n",
       "      <td>0</td>\n",
       "      <td>0</td>\n",
       "    </tr>\n",
       "    <tr>\n",
       "      <th>3</th>\n",
       "      <td>7</td>\n",
       "      <td>7</td>\n",
       "    </tr>\n",
       "    <tr>\n",
       "      <th>4</th>\n",
       "      <td>1</td>\n",
       "      <td>1</td>\n",
       "    </tr>\n",
       "    <tr>\n",
       "      <th>...</th>\n",
       "      <td>...</td>\n",
       "      <td>...</td>\n",
       "    </tr>\n",
       "    <tr>\n",
       "      <th>355</th>\n",
       "      <td>4</td>\n",
       "      <td>4</td>\n",
       "    </tr>\n",
       "    <tr>\n",
       "      <th>356</th>\n",
       "      <td>9</td>\n",
       "      <td>9</td>\n",
       "    </tr>\n",
       "    <tr>\n",
       "      <th>357</th>\n",
       "      <td>4</td>\n",
       "      <td>4</td>\n",
       "    </tr>\n",
       "    <tr>\n",
       "      <th>358</th>\n",
       "      <td>2</td>\n",
       "      <td>2</td>\n",
       "    </tr>\n",
       "    <tr>\n",
       "      <th>359</th>\n",
       "      <td>5</td>\n",
       "      <td>5</td>\n",
       "    </tr>\n",
       "  </tbody>\n",
       "</table>\n",
       "<p>360 rows × 2 columns</p>\n",
       "</div>"
      ],
      "text/plain": [
       "     pred  true\n",
       "0       1     1\n",
       "1       5     5\n",
       "2       0     0\n",
       "3       7     7\n",
       "4       1     1\n",
       "..    ...   ...\n",
       "355     4     4\n",
       "356     9     9\n",
       "357     4     4\n",
       "358     2     2\n",
       "359     5     5\n",
       "\n",
       "[360 rows x 2 columns]"
      ]
     },
     "execution_count": 10,
     "metadata": {},
     "output_type": "execute_result"
    }
   ],
   "source": [
    "test_preds = pd.DataFrame(pred_test, columns=['pred'])\n",
    "test_preds ['true'] = y_test\n",
    "test_preds"
   ]
  },
  {
   "cell_type": "markdown",
   "id": "96a696ac",
   "metadata": {
    "id": "gA9gDNIzNofW",
    "papermill": {
     "duration": 0.007137,
     "end_time": "2022-09-19T08:46:19.200791",
     "exception": false,
     "start_time": "2022-09-19T08:46:19.193654",
     "status": "completed"
    },
    "tags": []
   },
   "source": [
    "## Снижение переобучения"
   ]
  },
  {
   "cell_type": "code",
   "execution_count": 11,
   "id": "9580697d",
   "metadata": {
    "execution": {
     "iopub.execute_input": "2022-09-19T08:46:19.217204Z",
     "iopub.status.busy": "2022-09-19T08:46:19.216728Z",
     "iopub.status.idle": "2022-09-19T08:46:19.245971Z",
     "shell.execute_reply": "2022-09-19T08:46:19.244517Z"
    },
    "papermill": {
     "duration": 0.040844,
     "end_time": "2022-09-19T08:46:19.248804",
     "exception": false,
     "start_time": "2022-09-19T08:46:19.207960",
     "status": "completed"
    },
    "tags": []
   },
   "outputs": [
    {
     "name": "stdout",
     "output_type": "stream",
     "text": [
      "CPU times: user 20.4 ms, sys: 0 ns, total: 20.4 ms\n",
      "Wall time: 19.5 ms\n"
     ]
    },
    {
     "data": {
      "text/plain": [
       "DecisionTreeClassifier(max_depth=9, min_samples_leaf=5, random_state=1)"
      ]
     },
     "execution_count": 11,
     "metadata": {},
     "output_type": "execute_result"
    }
   ],
   "source": [
    "%%time\n",
    "\n",
    "model = DecisionTreeClassifier(random_state = 1, min_samples_leaf = 5, max_depth = 9)\n",
    "model.fit(X_train, y_train)"
   ]
  },
  {
   "cell_type": "code",
   "execution_count": 12,
   "id": "fe8ee790",
   "metadata": {
    "execution": {
     "iopub.execute_input": "2022-09-19T08:46:19.265411Z",
     "iopub.status.busy": "2022-09-19T08:46:19.264913Z",
     "iopub.status.idle": "2022-09-19T08:46:19.280236Z",
     "shell.execute_reply": "2022-09-19T08:46:19.279332Z"
    },
    "papermill": {
     "duration": 0.02656,
     "end_time": "2022-09-19T08:46:19.282610",
     "exception": false,
     "start_time": "2022-09-19T08:46:19.256050",
     "status": "completed"
    },
    "tags": []
   },
   "outputs": [
    {
     "data": {
      "text/html": [
       "<div>\n",
       "<style scoped>\n",
       "    .dataframe tbody tr th:only-of-type {\n",
       "        vertical-align: middle;\n",
       "    }\n",
       "\n",
       "    .dataframe tbody tr th {\n",
       "        vertical-align: top;\n",
       "    }\n",
       "\n",
       "    .dataframe thead th {\n",
       "        text-align: right;\n",
       "    }\n",
       "</style>\n",
       "<table border=\"1\" class=\"dataframe\">\n",
       "  <thead>\n",
       "    <tr style=\"text-align: right;\">\n",
       "      <th></th>\n",
       "      <th>pred</th>\n",
       "      <th>true</th>\n",
       "    </tr>\n",
       "  </thead>\n",
       "  <tbody>\n",
       "    <tr>\n",
       "      <th>0</th>\n",
       "      <td>4</td>\n",
       "      <td>4</td>\n",
       "    </tr>\n",
       "    <tr>\n",
       "      <th>1</th>\n",
       "      <td>9</td>\n",
       "      <td>9</td>\n",
       "    </tr>\n",
       "    <tr>\n",
       "      <th>2</th>\n",
       "      <td>6</td>\n",
       "      <td>6</td>\n",
       "    </tr>\n",
       "    <tr>\n",
       "      <th>3</th>\n",
       "      <td>4</td>\n",
       "      <td>4</td>\n",
       "    </tr>\n",
       "    <tr>\n",
       "      <th>4</th>\n",
       "      <td>2</td>\n",
       "      <td>2</td>\n",
       "    </tr>\n",
       "    <tr>\n",
       "      <th>...</th>\n",
       "      <td>...</td>\n",
       "      <td>...</td>\n",
       "    </tr>\n",
       "    <tr>\n",
       "      <th>1432</th>\n",
       "      <td>8</td>\n",
       "      <td>8</td>\n",
       "    </tr>\n",
       "    <tr>\n",
       "      <th>1433</th>\n",
       "      <td>4</td>\n",
       "      <td>4</td>\n",
       "    </tr>\n",
       "    <tr>\n",
       "      <th>1434</th>\n",
       "      <td>9</td>\n",
       "      <td>9</td>\n",
       "    </tr>\n",
       "    <tr>\n",
       "      <th>1435</th>\n",
       "      <td>1</td>\n",
       "      <td>1</td>\n",
       "    </tr>\n",
       "    <tr>\n",
       "      <th>1436</th>\n",
       "      <td>5</td>\n",
       "      <td>5</td>\n",
       "    </tr>\n",
       "  </tbody>\n",
       "</table>\n",
       "<p>1437 rows × 2 columns</p>\n",
       "</div>"
      ],
      "text/plain": [
       "      pred  true\n",
       "0        4     4\n",
       "1        9     9\n",
       "2        6     6\n",
       "3        4     4\n",
       "4        2     2\n",
       "...    ...   ...\n",
       "1432     8     8\n",
       "1433     4     4\n",
       "1434     9     9\n",
       "1435     1     1\n",
       "1436     5     5\n",
       "\n",
       "[1437 rows x 2 columns]"
      ]
     },
     "execution_count": 12,
     "metadata": {},
     "output_type": "execute_result"
    }
   ],
   "source": [
    "pred_train = model.predict(X_train)\n",
    "\n",
    "train_preds = pd.DataFrame(pred_train, columns=['pred'])\n",
    "train_preds ['true'] = y_train\n",
    "\n",
    "train_preds"
   ]
  },
  {
   "cell_type": "markdown",
   "id": "4641d20e",
   "metadata": {
    "id": "A1cUpq6bNofa",
    "papermill": {
     "duration": 0.007182,
     "end_time": "2022-09-19T08:46:19.297272",
     "exception": false,
     "start_time": "2022-09-19T08:46:19.290090",
     "status": "completed"
    },
    "tags": []
   },
   "source": [
    "## Валидация"
   ]
  },
  {
   "cell_type": "code",
   "execution_count": 13,
   "id": "cfbafdcf",
   "metadata": {
    "execution": {
     "iopub.execute_input": "2022-09-19T08:46:19.314615Z",
     "iopub.status.busy": "2022-09-19T08:46:19.313368Z",
     "iopub.status.idle": "2022-09-19T08:46:19.327684Z",
     "shell.execute_reply": "2022-09-19T08:46:19.326793Z"
    },
    "papermill": {
     "duration": 0.025251,
     "end_time": "2022-09-19T08:46:19.329809",
     "exception": false,
     "start_time": "2022-09-19T08:46:19.304558",
     "status": "completed"
    },
    "tags": []
   },
   "outputs": [
    {
     "data": {
      "text/html": [
       "<div>\n",
       "<style scoped>\n",
       "    .dataframe tbody tr th:only-of-type {\n",
       "        vertical-align: middle;\n",
       "    }\n",
       "\n",
       "    .dataframe tbody tr th {\n",
       "        vertical-align: top;\n",
       "    }\n",
       "\n",
       "    .dataframe thead th {\n",
       "        text-align: right;\n",
       "    }\n",
       "</style>\n",
       "<table border=\"1\" class=\"dataframe\">\n",
       "  <thead>\n",
       "    <tr style=\"text-align: right;\">\n",
       "      <th></th>\n",
       "      <th>pred</th>\n",
       "      <th>true</th>\n",
       "    </tr>\n",
       "  </thead>\n",
       "  <tbody>\n",
       "    <tr>\n",
       "      <th>0</th>\n",
       "      <td>1</td>\n",
       "      <td>1</td>\n",
       "    </tr>\n",
       "    <tr>\n",
       "      <th>1</th>\n",
       "      <td>5</td>\n",
       "      <td>5</td>\n",
       "    </tr>\n",
       "    <tr>\n",
       "      <th>2</th>\n",
       "      <td>0</td>\n",
       "      <td>0</td>\n",
       "    </tr>\n",
       "    <tr>\n",
       "      <th>3</th>\n",
       "      <td>7</td>\n",
       "      <td>7</td>\n",
       "    </tr>\n",
       "    <tr>\n",
       "      <th>4</th>\n",
       "      <td>1</td>\n",
       "      <td>1</td>\n",
       "    </tr>\n",
       "    <tr>\n",
       "      <th>...</th>\n",
       "      <td>...</td>\n",
       "      <td>...</td>\n",
       "    </tr>\n",
       "    <tr>\n",
       "      <th>355</th>\n",
       "      <td>4</td>\n",
       "      <td>4</td>\n",
       "    </tr>\n",
       "    <tr>\n",
       "      <th>356</th>\n",
       "      <td>9</td>\n",
       "      <td>9</td>\n",
       "    </tr>\n",
       "    <tr>\n",
       "      <th>357</th>\n",
       "      <td>4</td>\n",
       "      <td>4</td>\n",
       "    </tr>\n",
       "    <tr>\n",
       "      <th>358</th>\n",
       "      <td>2</td>\n",
       "      <td>2</td>\n",
       "    </tr>\n",
       "    <tr>\n",
       "      <th>359</th>\n",
       "      <td>5</td>\n",
       "      <td>5</td>\n",
       "    </tr>\n",
       "  </tbody>\n",
       "</table>\n",
       "<p>360 rows × 2 columns</p>\n",
       "</div>"
      ],
      "text/plain": [
       "     pred  true\n",
       "0       1     1\n",
       "1       5     5\n",
       "2       0     0\n",
       "3       7     7\n",
       "4       1     1\n",
       "..    ...   ...\n",
       "355     4     4\n",
       "356     9     9\n",
       "357     4     4\n",
       "358     2     2\n",
       "359     5     5\n",
       "\n",
       "[360 rows x 2 columns]"
      ]
     },
     "execution_count": 13,
     "metadata": {},
     "output_type": "execute_result"
    }
   ],
   "source": [
    "pred_test = model.predict(X_test)\n",
    "\n",
    "test_preds = pd.DataFrame(pred_test, columns=['pred'])\n",
    "test_preds ['true'] = y_test\n",
    "\n",
    "test_preds"
   ]
  },
  {
   "cell_type": "code",
   "execution_count": 14,
   "id": "3993f4f4",
   "metadata": {
    "execution": {
     "iopub.execute_input": "2022-09-19T08:46:19.347764Z",
     "iopub.status.busy": "2022-09-19T08:46:19.346750Z",
     "iopub.status.idle": "2022-09-19T08:46:19.355019Z",
     "shell.execute_reply": "2022-09-19T08:46:19.353151Z"
    },
    "papermill": {
     "duration": 0.020824,
     "end_time": "2022-09-19T08:46:19.358389",
     "exception": false,
     "start_time": "2022-09-19T08:46:19.337565",
     "status": "completed"
    },
    "tags": []
   },
   "outputs": [
    {
     "name": "stdout",
     "output_type": "stream",
     "text": [
      "Accuracy модели на обучающей выборке 0.9178844815588031\n",
      "Accuracy модели на тестовой выборке 0.8527777777777777\n"
     ]
    }
   ],
   "source": [
    "print(f\"Accuracy модели на обучающей выборке {accuracy_score(y_train, pred_train)}\"),\n",
    "print(f\"Accuracy модели на тестовой выборке {accuracy_score(y_test, pred_test)}\")"
   ]
  },
  {
   "cell_type": "markdown",
   "id": "68d5ad27",
   "metadata": {
    "id": "Qe-YPUoT2lmf",
    "papermill": {
     "duration": 0.007351,
     "end_time": "2022-09-19T08:46:19.373691",
     "exception": false,
     "start_time": "2022-09-19T08:46:19.366340",
     "status": "completed"
    },
    "tags": []
   },
   "source": [
    "# Дополнительные материалы:\n",
    "1. Дерево решений для задачи регрессии https://youtu.be/0mMeaC3gjNI\n",
    "2. Дерево решений для задачи классификации https://youtu.be/j8L07nuns2Y\n",
    "3. Критерии останова для дерева решений https://youtu.be/aWEdaXAZ01M\n",
    "4. Метрика accuracy https://youtu.be/CCH-1gJo_z0\n",
    "5. Переобучение/недообучение https://youtu.be/m7P7bnLxIc4"
   ]
  }
 ],
 "metadata": {
  "kernelspec": {
   "display_name": "Python 3",
   "language": "python",
   "name": "python3"
  },
  "language_info": {
   "codemirror_mode": {
    "name": "ipython",
    "version": 3
   },
   "file_extension": ".py",
   "mimetype": "text/x-python",
   "name": "python",
   "nbconvert_exporter": "python",
   "pygments_lexer": "ipython3",
   "version": "3.7.12"
  },
  "papermill": {
   "default_parameters": {},
   "duration": 13.591639,
   "end_time": "2022-09-19T08:46:20.406829",
   "environment_variables": {},
   "exception": null,
   "input_path": "__notebook__.ipynb",
   "output_path": "__notebook__.ipynb",
   "parameters": {},
   "start_time": "2022-09-19T08:46:06.815190",
   "version": "2.3.4"
  }
 },
 "nbformat": 4,
 "nbformat_minor": 5
}
