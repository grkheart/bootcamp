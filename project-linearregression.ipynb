{
 "cells": [
  {
   "cell_type": "markdown",
   "id": "5ac6f487",
   "metadata": {
    "papermill": {
     "duration": 0.00956,
     "end_time": "2022-09-25T06:36:52.099834",
     "exception": false,
     "start_time": "2022-09-25T06:36:52.090274",
     "status": "completed"
    },
    "tags": []
   },
   "source": [
    "## Проект\n",
    "\n",
    "### Использование модели линейной регрессии"
   ]
  },
  {
   "cell_type": "code",
   "execution_count": 1,
   "id": "6beda151",
   "metadata": {
    "execution": {
     "iopub.execute_input": "2022-09-25T06:36:52.115173Z",
     "iopub.status.busy": "2022-09-25T06:36:52.114685Z",
     "iopub.status.idle": "2022-09-25T06:36:53.196201Z",
     "shell.execute_reply": "2022-09-25T06:36:53.195054Z"
    },
    "papermill": {
     "duration": 1.093048,
     "end_time": "2022-09-25T06:36:53.199513",
     "exception": false,
     "start_time": "2022-09-25T06:36:52.106465",
     "status": "completed"
    },
    "tags": []
   },
   "outputs": [],
   "source": [
    "import pandas as pd\n",
    "import numpy as np\n",
    "import seaborn as sns\n",
    "import matplotlib.pyplot as plt"
   ]
  },
  {
   "cell_type": "markdown",
   "id": "eba821d2",
   "metadata": {
    "papermill": {
     "duration": 0.005908,
     "end_time": "2022-09-25T06:36:53.211729",
     "exception": false,
     "start_time": "2022-09-25T06:36:53.205821",
     "status": "completed"
    },
    "tags": []
   },
   "source": [
    "### 1. Чтение, анализ, чистка датасета (EDA)"
   ]
  },
  {
   "cell_type": "code",
   "execution_count": 2,
   "id": "ca172309",
   "metadata": {
    "execution": {
     "iopub.execute_input": "2022-09-25T06:36:53.225755Z",
     "iopub.status.busy": "2022-09-25T06:36:53.225354Z",
     "iopub.status.idle": "2022-09-25T06:36:56.388071Z",
     "shell.execute_reply": "2022-09-25T06:36:56.386927Z"
    },
    "papermill": {
     "duration": 3.173325,
     "end_time": "2022-09-25T06:36:56.391198",
     "exception": false,
     "start_time": "2022-09-25T06:36:53.217873",
     "status": "completed"
    },
    "tags": []
   },
   "outputs": [
    {
     "data": {
      "text/html": [
       "<div>\n",
       "<style scoped>\n",
       "    .dataframe tbody tr th:only-of-type {\n",
       "        vertical-align: middle;\n",
       "    }\n",
       "\n",
       "    .dataframe tbody tr th {\n",
       "        vertical-align: top;\n",
       "    }\n",
       "\n",
       "    .dataframe thead th {\n",
       "        text-align: right;\n",
       "    }\n",
       "</style>\n",
       "<table border=\"1\" class=\"dataframe\">\n",
       "  <thead>\n",
       "    <tr style=\"text-align: right;\">\n",
       "      <th></th>\n",
       "      <th>session_id</th>\n",
       "      <th>claim</th>\n",
       "      <th>60sec</th>\n",
       "      <th>scroll_90</th>\n",
       "      <th>hit_date</th>\n",
       "      <th>referer_url</th>\n",
       "      <th>url</th>\n",
       "      <th>utm_source</th>\n",
       "      <th>utm_medium</th>\n",
       "      <th>gender</th>\n",
       "      <th>age</th>\n",
       "      <th>touch_screen</th>\n",
       "      <th>has_vk_id</th>\n",
       "      <th>has_ok_id</th>\n",
       "    </tr>\n",
       "  </thead>\n",
       "  <tbody>\n",
       "    <tr>\n",
       "      <th>0</th>\n",
       "      <td>4358a11f0d16be6e</td>\n",
       "      <td>0</td>\n",
       "      <td>0</td>\n",
       "      <td>1</td>\n",
       "      <td>2021-12-01</td>\n",
       "      <td>https://gb.ru/education</td>\n",
       "      <td>https://gb.ru/comms/calendar</td>\n",
       "      <td>NaN</td>\n",
       "      <td>NaN</td>\n",
       "      <td>0</td>\n",
       "      <td>39</td>\n",
       "      <td>1</td>\n",
       "      <td>1</td>\n",
       "      <td>0</td>\n",
       "    </tr>\n",
       "    <tr>\n",
       "      <th>1</th>\n",
       "      <td>133509b7ff9a586c</td>\n",
       "      <td>0</td>\n",
       "      <td>0</td>\n",
       "      <td>0</td>\n",
       "      <td>2021-12-01</td>\n",
       "      <td>https://www.google.com/</td>\n",
       "      <td>https://gb.ru/courses/programming</td>\n",
       "      <td>google</td>\n",
       "      <td>cpc</td>\n",
       "      <td>-1</td>\n",
       "      <td>-1</td>\n",
       "      <td>2</td>\n",
       "      <td>0</td>\n",
       "      <td>0</td>\n",
       "    </tr>\n",
       "    <tr>\n",
       "      <th>2</th>\n",
       "      <td>8b23cd36f2b08dcd</td>\n",
       "      <td>0</td>\n",
       "      <td>0</td>\n",
       "      <td>0</td>\n",
       "      <td>2021-12-01</td>\n",
       "      <td>https://gb.ru/tests/352/trials/2238911/run</td>\n",
       "      <td>https://gb.ru/tests/352/trials/2238911</td>\n",
       "      <td>NaN</td>\n",
       "      <td>NaN</td>\n",
       "      <td>1</td>\n",
       "      <td>49</td>\n",
       "      <td>1</td>\n",
       "      <td>1</td>\n",
       "      <td>1</td>\n",
       "    </tr>\n",
       "    <tr>\n",
       "      <th>3</th>\n",
       "      <td>50de4c060fd128f3</td>\n",
       "      <td>0</td>\n",
       "      <td>1</td>\n",
       "      <td>1</td>\n",
       "      <td>2021-12-01</td>\n",
       "      <td>https://gb.ru/courses/1165</td>\n",
       "      <td>https://gb.ru/a/a1</td>\n",
       "      <td>NaN</td>\n",
       "      <td>NaN</td>\n",
       "      <td>-1</td>\n",
       "      <td>-1</td>\n",
       "      <td>1</td>\n",
       "      <td>1</td>\n",
       "      <td>0</td>\n",
       "    </tr>\n",
       "    <tr>\n",
       "      <th>4</th>\n",
       "      <td>c2ca3cc9a67c749b</td>\n",
       "      <td>0</td>\n",
       "      <td>0</td>\n",
       "      <td>0</td>\n",
       "      <td>2021-12-01</td>\n",
       "      <td>NaN</td>\n",
       "      <td>https://gb.ru/login</td>\n",
       "      <td>NaN</td>\n",
       "      <td>NaN</td>\n",
       "      <td>0</td>\n",
       "      <td>23</td>\n",
       "      <td>2</td>\n",
       "      <td>1</td>\n",
       "      <td>0</td>\n",
       "    </tr>\n",
       "    <tr>\n",
       "      <th>5</th>\n",
       "      <td>f8e5a48beec53c84</td>\n",
       "      <td>0</td>\n",
       "      <td>1</td>\n",
       "      <td>1</td>\n",
       "      <td>2021-12-01</td>\n",
       "      <td>https://gb.ru/courses</td>\n",
       "      <td>https://gb.ru/courses/1161</td>\n",
       "      <td>NaN</td>\n",
       "      <td>NaN</td>\n",
       "      <td>1</td>\n",
       "      <td>68</td>\n",
       "      <td>1</td>\n",
       "      <td>1</td>\n",
       "      <td>1</td>\n",
       "    </tr>\n",
       "    <tr>\n",
       "      <th>6</th>\n",
       "      <td>d78d41d8657ce6e9</td>\n",
       "      <td>0</td>\n",
       "      <td>1</td>\n",
       "      <td>1</td>\n",
       "      <td>2021-12-01</td>\n",
       "      <td>NaN</td>\n",
       "      <td>https://gb.ru/events/career-faq/long</td>\n",
       "      <td>sms</td>\n",
       "      <td>sms</td>\n",
       "      <td>-1</td>\n",
       "      <td>-1</td>\n",
       "      <td>2</td>\n",
       "      <td>1</td>\n",
       "      <td>0</td>\n",
       "    </tr>\n",
       "    <tr>\n",
       "      <th>7</th>\n",
       "      <td>7e8f116543ae2ac3</td>\n",
       "      <td>0</td>\n",
       "      <td>0</td>\n",
       "      <td>0</td>\n",
       "      <td>2021-12-01</td>\n",
       "      <td>https://gb.ru/tests/348/trials/2241344</td>\n",
       "      <td>https://gb.ru/tests</td>\n",
       "      <td>NaN</td>\n",
       "      <td>NaN</td>\n",
       "      <td>1</td>\n",
       "      <td>46</td>\n",
       "      <td>1</td>\n",
       "      <td>1</td>\n",
       "      <td>1</td>\n",
       "    </tr>\n",
       "    <tr>\n",
       "      <th>8</th>\n",
       "      <td>6802ca836188146a</td>\n",
       "      <td>0</td>\n",
       "      <td>0</td>\n",
       "      <td>0</td>\n",
       "      <td>2021-12-01</td>\n",
       "      <td>https://gb.ru/lessons/193691</td>\n",
       "      <td>https://gb.ru/tests/352</td>\n",
       "      <td>NaN</td>\n",
       "      <td>NaN</td>\n",
       "      <td>1</td>\n",
       "      <td>36</td>\n",
       "      <td>1</td>\n",
       "      <td>1</td>\n",
       "      <td>0</td>\n",
       "    </tr>\n",
       "    <tr>\n",
       "      <th>9</th>\n",
       "      <td>1ddc4439d8bbf8ed</td>\n",
       "      <td>0</td>\n",
       "      <td>0</td>\n",
       "      <td>0</td>\n",
       "      <td>2021-12-01</td>\n",
       "      <td>https://gb.ru/courses/geek-school/</td>\n",
       "      <td>https://gb.ru/courses/geek-school/web</td>\n",
       "      <td>NaN</td>\n",
       "      <td>NaN</td>\n",
       "      <td>1</td>\n",
       "      <td>26</td>\n",
       "      <td>1</td>\n",
       "      <td>1</td>\n",
       "      <td>0</td>\n",
       "    </tr>\n",
       "  </tbody>\n",
       "</table>\n",
       "</div>"
      ],
      "text/plain": [
       "         session_id  claim  60sec  scroll_90    hit_date  \\\n",
       "0  4358a11f0d16be6e      0      0          1  2021-12-01   \n",
       "1  133509b7ff9a586c      0      0          0  2021-12-01   \n",
       "2  8b23cd36f2b08dcd      0      0          0  2021-12-01   \n",
       "3  50de4c060fd128f3      0      1          1  2021-12-01   \n",
       "4  c2ca3cc9a67c749b      0      0          0  2021-12-01   \n",
       "5  f8e5a48beec53c84      0      1          1  2021-12-01   \n",
       "6  d78d41d8657ce6e9      0      1          1  2021-12-01   \n",
       "7  7e8f116543ae2ac3      0      0          0  2021-12-01   \n",
       "8  6802ca836188146a      0      0          0  2021-12-01   \n",
       "9  1ddc4439d8bbf8ed      0      0          0  2021-12-01   \n",
       "\n",
       "                                  referer_url  \\\n",
       "0                     https://gb.ru/education   \n",
       "1                     https://www.google.com/   \n",
       "2  https://gb.ru/tests/352/trials/2238911/run   \n",
       "3                  https://gb.ru/courses/1165   \n",
       "4                                         NaN   \n",
       "5                       https://gb.ru/courses   \n",
       "6                                         NaN   \n",
       "7      https://gb.ru/tests/348/trials/2241344   \n",
       "8                https://gb.ru/lessons/193691   \n",
       "9          https://gb.ru/courses/geek-school/   \n",
       "\n",
       "                                      url utm_source utm_medium  gender  age  \\\n",
       "0            https://gb.ru/comms/calendar        NaN        NaN       0   39   \n",
       "1       https://gb.ru/courses/programming     google        cpc      -1   -1   \n",
       "2  https://gb.ru/tests/352/trials/2238911        NaN        NaN       1   49   \n",
       "3                      https://gb.ru/a/a1        NaN        NaN      -1   -1   \n",
       "4                     https://gb.ru/login        NaN        NaN       0   23   \n",
       "5              https://gb.ru/courses/1161        NaN        NaN       1   68   \n",
       "6    https://gb.ru/events/career-faq/long        sms        sms      -1   -1   \n",
       "7                     https://gb.ru/tests        NaN        NaN       1   46   \n",
       "8                 https://gb.ru/tests/352        NaN        NaN       1   36   \n",
       "9   https://gb.ru/courses/geek-school/web        NaN        NaN       1   26   \n",
       "\n",
       "   touch_screen  has_vk_id  has_ok_id  \n",
       "0             1          1          0  \n",
       "1             2          0          0  \n",
       "2             1          1          1  \n",
       "3             1          1          0  \n",
       "4             2          1          0  \n",
       "5             1          1          1  \n",
       "6             2          1          0  \n",
       "7             1          1          1  \n",
       "8             1          1          0  \n",
       "9             1          1          0  "
      ]
     },
     "execution_count": 2,
     "metadata": {},
     "output_type": "execute_result"
    }
   ],
   "source": [
    "# читаем датасет\n",
    "df = pd.read_csv('../input/gb-data/GB.csv', encoding = 'UTF-8')\n",
    "df.head(10)"
   ]
  },
  {
   "cell_type": "code",
   "execution_count": 3,
   "id": "edca0e87",
   "metadata": {
    "execution": {
     "iopub.execute_input": "2022-09-25T06:36:56.406182Z",
     "iopub.status.busy": "2022-09-25T06:36:56.405716Z",
     "iopub.status.idle": "2022-09-25T06:36:56.772186Z",
     "shell.execute_reply": "2022-09-25T06:36:56.770967Z"
    },
    "papermill": {
     "duration": 0.377002,
     "end_time": "2022-09-25T06:36:56.774999",
     "exception": false,
     "start_time": "2022-09-25T06:36:56.397997",
     "status": "completed"
    },
    "tags": []
   },
   "outputs": [
    {
     "data": {
      "text/html": [
       "<div>\n",
       "<style scoped>\n",
       "    .dataframe tbody tr th:only-of-type {\n",
       "        vertical-align: middle;\n",
       "    }\n",
       "\n",
       "    .dataframe tbody tr th {\n",
       "        vertical-align: top;\n",
       "    }\n",
       "\n",
       "    .dataframe thead th {\n",
       "        text-align: right;\n",
       "    }\n",
       "</style>\n",
       "<table border=\"1\" class=\"dataframe\">\n",
       "  <thead>\n",
       "    <tr style=\"text-align: right;\">\n",
       "      <th></th>\n",
       "      <th>Поле</th>\n",
       "      <th>Описание</th>\n",
       "    </tr>\n",
       "  </thead>\n",
       "  <tbody>\n",
       "    <tr>\n",
       "      <th>0</th>\n",
       "      <td>session_id</td>\n",
       "      <td>идентификатор сессии</td>\n",
       "    </tr>\n",
       "    <tr>\n",
       "      <th>1</th>\n",
       "      <td>claim</td>\n",
       "      <td>признак наличия отправки формы заявки во вемя текущей сессии (0 – нет заявки, 1 – заявка отправлена)</td>\n",
       "    </tr>\n",
       "    <tr>\n",
       "      <th>2</th>\n",
       "      <td>60sec</td>\n",
       "      <td>признак длительности сессии 60 секунд и более (0 – сессия менее 60 сек, 1 – сессия 60 сек и более)</td>\n",
       "    </tr>\n",
       "    <tr>\n",
       "      <th>3</th>\n",
       "      <td>scroll_90</td>\n",
       "      <td>признак вертикальной прокрутки страницы глубиной 90% (0 – прокрутка менее 90%, 1 – прокрутка 90% и более)</td>\n",
       "    </tr>\n",
       "    <tr>\n",
       "      <th>4</th>\n",
       "      <td>hit_date</td>\n",
       "      <td>дата сессии</td>\n",
       "    </tr>\n",
       "    <tr>\n",
       "      <th>5</th>\n",
       "      <td>referer_url</td>\n",
       "      <td>адрес реферера страницы просмотра</td>\n",
       "    </tr>\n",
       "    <tr>\n",
       "      <th>6</th>\n",
       "      <td>url</td>\n",
       "      <td>адрес страницы просмотра</td>\n",
       "    </tr>\n",
       "    <tr>\n",
       "      <th>7</th>\n",
       "      <td>utm_source</td>\n",
       "      <td>utm-метка источника</td>\n",
       "    </tr>\n",
       "    <tr>\n",
       "      <th>8</th>\n",
       "      <td>utm_medium</td>\n",
       "      <td>utm-метка канала</td>\n",
       "    </tr>\n",
       "    <tr>\n",
       "      <th>9</th>\n",
       "      <td>gender</td>\n",
       "      <td>пол посетителя из куки (-1 – не определен, 0 – мужской, 1 – женский)</td>\n",
       "    </tr>\n",
       "    <tr>\n",
       "      <th>10</th>\n",
       "      <td>age</td>\n",
       "      <td>возраст посетителя из куки (-1 – не определен)</td>\n",
       "    </tr>\n",
       "    <tr>\n",
       "      <th>11</th>\n",
       "      <td>touch_screen</td>\n",
       "      <td>touch экран (0 – не определен, 1 – нет, 2 – есть)</td>\n",
       "    </tr>\n",
       "    <tr>\n",
       "      <th>12</th>\n",
       "      <td>has_vk_id</td>\n",
       "      <td>наличие идентификатора профиля пользователя Вконтакте (0 – нет, 1 – есть)</td>\n",
       "    </tr>\n",
       "    <tr>\n",
       "      <th>13</th>\n",
       "      <td>has_ok_id</td>\n",
       "      <td>наличие идентификатора профиля пользователя Одноклассников (0 – нет, 1 – есть)</td>\n",
       "    </tr>\n",
       "  </tbody>\n",
       "</table>\n",
       "</div>"
      ],
      "text/plain": [
       "            Поле  \\\n",
       "0     session_id   \n",
       "1          claim   \n",
       "2          60sec   \n",
       "3      scroll_90   \n",
       "4       hit_date   \n",
       "5    referer_url   \n",
       "6            url   \n",
       "7     utm_source   \n",
       "8     utm_medium   \n",
       "9         gender   \n",
       "10           age   \n",
       "11  touch_screen   \n",
       "12     has_vk_id   \n",
       "13     has_ok_id   \n",
       "\n",
       "                                                                                                     Описание  \n",
       "0                                                                                        идентификатор сессии  \n",
       "1        признак наличия отправки формы заявки во вемя текущей сессии (0 – нет заявки, 1 – заявка отправлена)  \n",
       "2          признак длительности сессии 60 секунд и более (0 – сессия менее 60 сек, 1 – сессия 60 сек и более)  \n",
       "3   признак вертикальной прокрутки страницы глубиной 90% (0 – прокрутка менее 90%, 1 – прокрутка 90% и более)  \n",
       "4                                                                                                 дата сессии  \n",
       "5                                                                           адрес реферера страницы просмотра  \n",
       "6                                                                                    адрес страницы просмотра  \n",
       "7                                                                                         utm-метка источника  \n",
       "8                                                                                            utm-метка канала  \n",
       "9                                        пол посетителя из куки (-1 – не определен, 0 – мужской, 1 – женский)  \n",
       "10                                                             возраст посетителя из куки (-1 – не определен)  \n",
       "11                                                          touch экран (0 – не определен, 1 – нет, 2 – есть)  \n",
       "12                                  наличие идентификатора профиля пользователя Вконтакте (0 – нет, 1 – есть)  \n",
       "13                             наличие идентификатора профиля пользователя Одноклассников (0 – нет, 1 – есть)  "
      ]
     },
     "execution_count": 3,
     "metadata": {},
     "output_type": "execute_result"
    }
   ],
   "source": [
    "# читаем описание датасета\n",
    "pd.set_option('display.max_colwidth', None)\n",
    "descr = pd.read_excel('../input/columns-describe/.xlsx')\n",
    "descr"
   ]
  },
  {
   "cell_type": "code",
   "execution_count": 4,
   "id": "7d6ae510",
   "metadata": {
    "execution": {
     "iopub.execute_input": "2022-09-25T06:36:56.791664Z",
     "iopub.status.busy": "2022-09-25T06:36:56.790372Z",
     "iopub.status.idle": "2022-09-25T06:36:57.046816Z",
     "shell.execute_reply": "2022-09-25T06:36:57.045641Z"
    },
    "papermill": {
     "duration": 0.267853,
     "end_time": "2022-09-25T06:36:57.049867",
     "exception": false,
     "start_time": "2022-09-25T06:36:56.782014",
     "status": "completed"
    },
    "tags": []
   },
   "outputs": [
    {
     "name": "stdout",
     "output_type": "stream",
     "text": [
      "<class 'pandas.core.frame.DataFrame'>\n",
      "RangeIndex: 884407 entries, 0 to 884406\n",
      "Data columns (total 14 columns):\n",
      " #   Column        Non-Null Count   Dtype \n",
      "---  ------        --------------   ----- \n",
      " 0   session_id    884407 non-null  object\n",
      " 1   claim         884407 non-null  int64 \n",
      " 2   60sec         884407 non-null  int64 \n",
      " 3   scroll_90     884407 non-null  int64 \n",
      " 4   hit_date      884407 non-null  object\n",
      " 5   referer_url   687598 non-null  object\n",
      " 6   url           884407 non-null  object\n",
      " 7   utm_source    245184 non-null  object\n",
      " 8   utm_medium    244863 non-null  object\n",
      " 9   gender        884407 non-null  int64 \n",
      " 10  age           884407 non-null  int64 \n",
      " 11  touch_screen  884407 non-null  int64 \n",
      " 12  has_vk_id     884407 non-null  int64 \n",
      " 13  has_ok_id     884407 non-null  int64 \n",
      "dtypes: int64(8), object(6)\n",
      "memory usage: 94.5+ MB\n"
     ]
    }
   ],
   "source": [
    "# характеристики датасета\n",
    "df.info()"
   ]
  },
  {
   "cell_type": "code",
   "execution_count": 5,
   "id": "72ed72cd",
   "metadata": {
    "execution": {
     "iopub.execute_input": "2022-09-25T06:36:57.065721Z",
     "iopub.status.busy": "2022-09-25T06:36:57.065010Z",
     "iopub.status.idle": "2022-09-25T06:36:57.285352Z",
     "shell.execute_reply": "2022-09-25T06:36:57.283863Z"
    },
    "papermill": {
     "duration": 0.231644,
     "end_time": "2022-09-25T06:36:57.288485",
     "exception": false,
     "start_time": "2022-09-25T06:36:57.056841",
     "status": "completed"
    },
    "tags": []
   },
   "outputs": [
    {
     "data": {
      "text/html": [
       "<div>\n",
       "<style scoped>\n",
       "    .dataframe tbody tr th:only-of-type {\n",
       "        vertical-align: middle;\n",
       "    }\n",
       "\n",
       "    .dataframe tbody tr th {\n",
       "        vertical-align: top;\n",
       "    }\n",
       "\n",
       "    .dataframe thead th {\n",
       "        text-align: right;\n",
       "    }\n",
       "</style>\n",
       "<table border=\"1\" class=\"dataframe\">\n",
       "  <thead>\n",
       "    <tr style=\"text-align: right;\">\n",
       "      <th></th>\n",
       "      <th>claim</th>\n",
       "      <th>60sec</th>\n",
       "      <th>scroll_90</th>\n",
       "      <th>gender</th>\n",
       "      <th>age</th>\n",
       "      <th>touch_screen</th>\n",
       "      <th>has_vk_id</th>\n",
       "      <th>has_ok_id</th>\n",
       "    </tr>\n",
       "  </thead>\n",
       "  <tbody>\n",
       "    <tr>\n",
       "      <th>count</th>\n",
       "      <td>884407.000000</td>\n",
       "      <td>884407.000000</td>\n",
       "      <td>884407.000000</td>\n",
       "      <td>884407.000000</td>\n",
       "      <td>884407.000000</td>\n",
       "      <td>884407.000000</td>\n",
       "      <td>884407.000000</td>\n",
       "      <td>884407.000000</td>\n",
       "    </tr>\n",
       "    <tr>\n",
       "      <th>mean</th>\n",
       "      <td>0.002071</td>\n",
       "      <td>0.313425</td>\n",
       "      <td>0.144197</td>\n",
       "      <td>-0.359456</td>\n",
       "      <td>14.844552</td>\n",
       "      <td>1.436307</td>\n",
       "      <td>0.449500</td>\n",
       "      <td>0.124044</td>\n",
       "    </tr>\n",
       "    <tr>\n",
       "      <th>std</th>\n",
       "      <td>0.045466</td>\n",
       "      <td>0.463886</td>\n",
       "      <td>0.351290</td>\n",
       "      <td>0.808853</td>\n",
       "      <td>21.505421</td>\n",
       "      <td>0.495927</td>\n",
       "      <td>0.497444</td>\n",
       "      <td>0.329631</td>\n",
       "    </tr>\n",
       "    <tr>\n",
       "      <th>min</th>\n",
       "      <td>0.000000</td>\n",
       "      <td>0.000000</td>\n",
       "      <td>0.000000</td>\n",
       "      <td>-1.000000</td>\n",
       "      <td>-1.000000</td>\n",
       "      <td>1.000000</td>\n",
       "      <td>0.000000</td>\n",
       "      <td>0.000000</td>\n",
       "    </tr>\n",
       "    <tr>\n",
       "      <th>25%</th>\n",
       "      <td>0.000000</td>\n",
       "      <td>0.000000</td>\n",
       "      <td>0.000000</td>\n",
       "      <td>-1.000000</td>\n",
       "      <td>-1.000000</td>\n",
       "      <td>1.000000</td>\n",
       "      <td>0.000000</td>\n",
       "      <td>0.000000</td>\n",
       "    </tr>\n",
       "    <tr>\n",
       "      <th>50%</th>\n",
       "      <td>0.000000</td>\n",
       "      <td>0.000000</td>\n",
       "      <td>0.000000</td>\n",
       "      <td>-1.000000</td>\n",
       "      <td>-1.000000</td>\n",
       "      <td>1.000000</td>\n",
       "      <td>0.000000</td>\n",
       "      <td>0.000000</td>\n",
       "    </tr>\n",
       "    <tr>\n",
       "      <th>75%</th>\n",
       "      <td>0.000000</td>\n",
       "      <td>1.000000</td>\n",
       "      <td>0.000000</td>\n",
       "      <td>0.000000</td>\n",
       "      <td>29.000000</td>\n",
       "      <td>2.000000</td>\n",
       "      <td>1.000000</td>\n",
       "      <td>0.000000</td>\n",
       "    </tr>\n",
       "    <tr>\n",
       "      <th>max</th>\n",
       "      <td>1.000000</td>\n",
       "      <td>1.000000</td>\n",
       "      <td>1.000000</td>\n",
       "      <td>1.000000</td>\n",
       "      <td>120.000000</td>\n",
       "      <td>2.000000</td>\n",
       "      <td>1.000000</td>\n",
       "      <td>1.000000</td>\n",
       "    </tr>\n",
       "  </tbody>\n",
       "</table>\n",
       "</div>"
      ],
      "text/plain": [
       "               claim          60sec      scroll_90         gender  \\\n",
       "count  884407.000000  884407.000000  884407.000000  884407.000000   \n",
       "mean        0.002071       0.313425       0.144197      -0.359456   \n",
       "std         0.045466       0.463886       0.351290       0.808853   \n",
       "min         0.000000       0.000000       0.000000      -1.000000   \n",
       "25%         0.000000       0.000000       0.000000      -1.000000   \n",
       "50%         0.000000       0.000000       0.000000      -1.000000   \n",
       "75%         0.000000       1.000000       0.000000       0.000000   \n",
       "max         1.000000       1.000000       1.000000       1.000000   \n",
       "\n",
       "                 age   touch_screen      has_vk_id      has_ok_id  \n",
       "count  884407.000000  884407.000000  884407.000000  884407.000000  \n",
       "mean       14.844552       1.436307       0.449500       0.124044  \n",
       "std        21.505421       0.495927       0.497444       0.329631  \n",
       "min        -1.000000       1.000000       0.000000       0.000000  \n",
       "25%        -1.000000       1.000000       0.000000       0.000000  \n",
       "50%        -1.000000       1.000000       0.000000       0.000000  \n",
       "75%        29.000000       2.000000       1.000000       0.000000  \n",
       "max       120.000000       2.000000       1.000000       1.000000  "
      ]
     },
     "execution_count": 5,
     "metadata": {},
     "output_type": "execute_result"
    }
   ],
   "source": [
    "# статистики числовых признаков\n",
    "df.describe()"
   ]
  },
  {
   "cell_type": "code",
   "execution_count": 6,
   "id": "0dbdd9f0",
   "metadata": {
    "execution": {
     "iopub.execute_input": "2022-09-25T06:36:57.304756Z",
     "iopub.status.busy": "2022-09-25T06:36:57.304294Z",
     "iopub.status.idle": "2022-09-25T06:36:57.373971Z",
     "shell.execute_reply": "2022-09-25T06:36:57.372790Z"
    },
    "papermill": {
     "duration": 0.081,
     "end_time": "2022-09-25T06:36:57.376869",
     "exception": false,
     "start_time": "2022-09-25T06:36:57.295869",
     "status": "completed"
    },
    "tags": []
   },
   "outputs": [
    {
     "data": {
      "text/plain": [
       "['2021-12-01', '2021-12-02', '2021-12-03', '2021-12-04']"
      ]
     },
     "execution_count": 6,
     "metadata": {},
     "output_type": "execute_result"
    }
   ],
   "source": [
    "# временной ряд собранных данных\n",
    "df['hit_date'].unique().tolist()"
   ]
  },
  {
   "cell_type": "code",
   "execution_count": 7,
   "id": "e85755db",
   "metadata": {
    "execution": {
     "iopub.execute_input": "2022-09-25T06:36:57.393741Z",
     "iopub.status.busy": "2022-09-25T06:36:57.393335Z",
     "iopub.status.idle": "2022-09-25T06:36:57.475899Z",
     "shell.execute_reply": "2022-09-25T06:36:57.474759Z"
    },
    "papermill": {
     "duration": 0.093984,
     "end_time": "2022-09-25T06:36:57.478411",
     "exception": false,
     "start_time": "2022-09-25T06:36:57.384427",
     "status": "completed"
    },
    "tags": []
   },
   "outputs": [
    {
     "data": {
      "text/plain": [
       "[-1, 1, 2, 3, 4, 5, 6, 7, 8, 9, 10, 11, 12, 13, 14, 15, 16, 17, 18, 19]"
      ]
     },
     "execution_count": 7,
     "metadata": {},
     "output_type": "execute_result"
    }
   ],
   "source": [
    "# возрастной состав \n",
    "df['age'].sort_values().unique().tolist()[0:20]"
   ]
  },
  {
   "cell_type": "code",
   "execution_count": 8,
   "id": "6a99ba5b",
   "metadata": {
    "execution": {
     "iopub.execute_input": "2022-09-25T06:36:57.494977Z",
     "iopub.status.busy": "2022-09-25T06:36:57.494535Z",
     "iopub.status.idle": "2022-09-25T06:37:01.295742Z",
     "shell.execute_reply": "2022-09-25T06:37:01.294499Z"
    },
    "papermill": {
     "duration": 3.81279,
     "end_time": "2022-09-25T06:37:01.298594",
     "exception": false,
     "start_time": "2022-09-25T06:36:57.485804",
     "status": "completed"
    },
    "tags": []
   },
   "outputs": [
    {
     "data": {
      "text/plain": [
       "<AxesSubplot:xlabel='age', ylabel='Density'>"
      ]
     },
     "execution_count": 8,
     "metadata": {},
     "output_type": "execute_result"
    },
    {
     "data": {
      "image/png": "[encoded data removed]",
      "text/plain": [
       "<Figure size 1080x720 with 1 Axes>"
      ]
     },
     "metadata": {
      "needs_background": "light"
     },
     "output_type": "display_data"
    }
   ],
   "source": [
    "# посмотрим распределение посетилетей сайта по возратному составу и полу\n",
    "plt.figure(figsize=(15, 10))\n",
    "sns.kdeplot(df['age'], shade=True)"
   ]
  },
  {
   "cell_type": "code",
   "execution_count": 9,
   "id": "ca3b28ee",
   "metadata": {
    "execution": {
     "iopub.execute_input": "2022-09-25T06:37:01.317263Z",
     "iopub.status.busy": "2022-09-25T06:37:01.316852Z",
     "iopub.status.idle": "2022-09-25T06:37:01.620189Z",
     "shell.execute_reply": "2022-09-25T06:37:01.618960Z"
    },
    "papermill": {
     "duration": 0.316007,
     "end_time": "2022-09-25T06:37:01.622842",
     "exception": false,
     "start_time": "2022-09-25T06:37:01.306835",
     "status": "completed"
    },
    "tags": []
   },
   "outputs": [
    {
     "data": {
      "text/html": [
       "<div>\n",
       "<style scoped>\n",
       "    .dataframe tbody tr th:only-of-type {\n",
       "        vertical-align: middle;\n",
       "    }\n",
       "\n",
       "    .dataframe tbody tr th {\n",
       "        vertical-align: top;\n",
       "    }\n",
       "\n",
       "    .dataframe thead th {\n",
       "        text-align: right;\n",
       "    }\n",
       "</style>\n",
       "<table border=\"1\" class=\"dataframe\">\n",
       "  <thead>\n",
       "    <tr style=\"text-align: right;\">\n",
       "      <th></th>\n",
       "      <th>session_id</th>\n",
       "      <th>claim</th>\n",
       "      <th>60sec</th>\n",
       "      <th>scroll_90</th>\n",
       "      <th>hit_date</th>\n",
       "      <th>referer_url</th>\n",
       "      <th>url</th>\n",
       "      <th>utm_source</th>\n",
       "      <th>utm_medium</th>\n",
       "      <th>gender</th>\n",
       "      <th>age</th>\n",
       "      <th>touch_screen</th>\n",
       "      <th>has_vk_id</th>\n",
       "      <th>has_ok_id</th>\n",
       "    </tr>\n",
       "  </thead>\n",
       "  <tbody>\n",
       "    <tr>\n",
       "      <th>0</th>\n",
       "      <td>4358a11f0d16be6e</td>\n",
       "      <td>0</td>\n",
       "      <td>0</td>\n",
       "      <td>1</td>\n",
       "      <td>2021-12-01</td>\n",
       "      <td>https://gb.ru/education</td>\n",
       "      <td>https://gb.ru/comms/calendar</td>\n",
       "      <td>NaN</td>\n",
       "      <td>NaN</td>\n",
       "      <td>0</td>\n",
       "      <td>39</td>\n",
       "      <td>1</td>\n",
       "      <td>1</td>\n",
       "      <td>0</td>\n",
       "    </tr>\n",
       "    <tr>\n",
       "      <th>2</th>\n",
       "      <td>8b23cd36f2b08dcd</td>\n",
       "      <td>0</td>\n",
       "      <td>0</td>\n",
       "      <td>0</td>\n",
       "      <td>2021-12-01</td>\n",
       "      <td>https://gb.ru/tests/352/trials/2238911/run</td>\n",
       "      <td>https://gb.ru/tests/352/trials/2238911</td>\n",
       "      <td>NaN</td>\n",
       "      <td>NaN</td>\n",
       "      <td>1</td>\n",
       "      <td>49</td>\n",
       "      <td>1</td>\n",
       "      <td>1</td>\n",
       "      <td>1</td>\n",
       "    </tr>\n",
       "    <tr>\n",
       "      <th>4</th>\n",
       "      <td>c2ca3cc9a67c749b</td>\n",
       "      <td>0</td>\n",
       "      <td>0</td>\n",
       "      <td>0</td>\n",
       "      <td>2021-12-01</td>\n",
       "      <td>NaN</td>\n",
       "      <td>https://gb.ru/login</td>\n",
       "      <td>NaN</td>\n",
       "      <td>NaN</td>\n",
       "      <td>0</td>\n",
       "      <td>23</td>\n",
       "      <td>2</td>\n",
       "      <td>1</td>\n",
       "      <td>0</td>\n",
       "    </tr>\n",
       "    <tr>\n",
       "      <th>5</th>\n",
       "      <td>f8e5a48beec53c84</td>\n",
       "      <td>0</td>\n",
       "      <td>1</td>\n",
       "      <td>1</td>\n",
       "      <td>2021-12-01</td>\n",
       "      <td>https://gb.ru/courses</td>\n",
       "      <td>https://gb.ru/courses/1161</td>\n",
       "      <td>NaN</td>\n",
       "      <td>NaN</td>\n",
       "      <td>1</td>\n",
       "      <td>68</td>\n",
       "      <td>1</td>\n",
       "      <td>1</td>\n",
       "      <td>1</td>\n",
       "    </tr>\n",
       "    <tr>\n",
       "      <th>7</th>\n",
       "      <td>7e8f116543ae2ac3</td>\n",
       "      <td>0</td>\n",
       "      <td>0</td>\n",
       "      <td>0</td>\n",
       "      <td>2021-12-01</td>\n",
       "      <td>https://gb.ru/tests/348/trials/2241344</td>\n",
       "      <td>https://gb.ru/tests</td>\n",
       "      <td>NaN</td>\n",
       "      <td>NaN</td>\n",
       "      <td>1</td>\n",
       "      <td>46</td>\n",
       "      <td>1</td>\n",
       "      <td>1</td>\n",
       "      <td>1</td>\n",
       "    </tr>\n",
       "  </tbody>\n",
       "</table>\n",
       "</div>"
      ],
      "text/plain": [
       "         session_id  claim  60sec  scroll_90    hit_date  \\\n",
       "0  4358a11f0d16be6e      0      0          1  2021-12-01   \n",
       "2  8b23cd36f2b08dcd      0      0          0  2021-12-01   \n",
       "4  c2ca3cc9a67c749b      0      0          0  2021-12-01   \n",
       "5  f8e5a48beec53c84      0      1          1  2021-12-01   \n",
       "7  7e8f116543ae2ac3      0      0          0  2021-12-01   \n",
       "\n",
       "                                  referer_url  \\\n",
       "0                     https://gb.ru/education   \n",
       "2  https://gb.ru/tests/352/trials/2238911/run   \n",
       "4                                         NaN   \n",
       "5                       https://gb.ru/courses   \n",
       "7      https://gb.ru/tests/348/trials/2241344   \n",
       "\n",
       "                                      url utm_source utm_medium  gender  age  \\\n",
       "0            https://gb.ru/comms/calendar        NaN        NaN       0   39   \n",
       "2  https://gb.ru/tests/352/trials/2238911        NaN        NaN       1   49   \n",
       "4                     https://gb.ru/login        NaN        NaN       0   23   \n",
       "5              https://gb.ru/courses/1161        NaN        NaN       1   68   \n",
       "7                     https://gb.ru/tests        NaN        NaN       1   46   \n",
       "\n",
       "   touch_screen  has_vk_id  has_ok_id  \n",
       "0             1          1          0  \n",
       "2             1          1          1  \n",
       "4             2          1          0  \n",
       "5             1          1          1  \n",
       "7             1          1          1  "
      ]
     },
     "execution_count": 9,
     "metadata": {},
     "output_type": "execute_result"
    }
   ],
   "source": [
    "# удаляем выбросы по признаку возрастного состава\n",
    "df = df.loc[df['age']<80]\n",
    "df = df.loc[df['age']>10]\n",
    "# удаляем строки, в которых не идентифицирован пол\n",
    "df = df.loc[df['gender']!=-1]\n",
    "df.head()"
   ]
  },
  {
   "cell_type": "code",
   "execution_count": 10,
   "id": "83df21c2",
   "metadata": {
    "execution": {
     "iopub.execute_input": "2022-09-25T06:37:01.642722Z",
     "iopub.status.busy": "2022-09-25T06:37:01.642310Z",
     "iopub.status.idle": "2022-09-25T06:37:01.664454Z",
     "shell.execute_reply": "2022-09-25T06:37:01.663265Z"
    },
    "papermill": {
     "duration": 0.035458,
     "end_time": "2022-09-25T06:37:01.666771",
     "exception": false,
     "start_time": "2022-09-25T06:37:01.631313",
     "status": "completed"
    },
    "tags": []
   },
   "outputs": [
    {
     "data": {
      "text/html": [
       "<div>\n",
       "<style scoped>\n",
       "    .dataframe tbody tr th:only-of-type {\n",
       "        vertical-align: middle;\n",
       "    }\n",
       "\n",
       "    .dataframe tbody tr th {\n",
       "        vertical-align: top;\n",
       "    }\n",
       "\n",
       "    .dataframe thead th {\n",
       "        text-align: right;\n",
       "    }\n",
       "</style>\n",
       "<table border=\"1\" class=\"dataframe\">\n",
       "  <thead>\n",
       "    <tr style=\"text-align: right;\">\n",
       "      <th></th>\n",
       "      <th>claim</th>\n",
       "      <th>60sec</th>\n",
       "      <th>scroll_90</th>\n",
       "      <th>gender</th>\n",
       "      <th>age</th>\n",
       "      <th>touch_screen</th>\n",
       "      <th>has_vk_id</th>\n",
       "      <th>has_ok_id</th>\n",
       "    </tr>\n",
       "  </thead>\n",
       "  <tbody>\n",
       "    <tr>\n",
       "      <th>0</th>\n",
       "      <td>0</td>\n",
       "      <td>0</td>\n",
       "      <td>1</td>\n",
       "      <td>0</td>\n",
       "      <td>39</td>\n",
       "      <td>1</td>\n",
       "      <td>1</td>\n",
       "      <td>0</td>\n",
       "    </tr>\n",
       "    <tr>\n",
       "      <th>2</th>\n",
       "      <td>0</td>\n",
       "      <td>0</td>\n",
       "      <td>0</td>\n",
       "      <td>1</td>\n",
       "      <td>49</td>\n",
       "      <td>1</td>\n",
       "      <td>1</td>\n",
       "      <td>1</td>\n",
       "    </tr>\n",
       "    <tr>\n",
       "      <th>4</th>\n",
       "      <td>0</td>\n",
       "      <td>0</td>\n",
       "      <td>0</td>\n",
       "      <td>0</td>\n",
       "      <td>23</td>\n",
       "      <td>2</td>\n",
       "      <td>1</td>\n",
       "      <td>0</td>\n",
       "    </tr>\n",
       "    <tr>\n",
       "      <th>5</th>\n",
       "      <td>0</td>\n",
       "      <td>1</td>\n",
       "      <td>1</td>\n",
       "      <td>1</td>\n",
       "      <td>68</td>\n",
       "      <td>1</td>\n",
       "      <td>1</td>\n",
       "      <td>1</td>\n",
       "    </tr>\n",
       "    <tr>\n",
       "      <th>7</th>\n",
       "      <td>0</td>\n",
       "      <td>0</td>\n",
       "      <td>0</td>\n",
       "      <td>1</td>\n",
       "      <td>46</td>\n",
       "      <td>1</td>\n",
       "      <td>1</td>\n",
       "      <td>1</td>\n",
       "    </tr>\n",
       "  </tbody>\n",
       "</table>\n",
       "</div>"
      ],
      "text/plain": [
       "   claim  60sec  scroll_90  gender  age  touch_screen  has_vk_id  has_ok_id\n",
       "0      0      0          1       0   39             1          1          0\n",
       "2      0      0          0       1   49             1          1          1\n",
       "4      0      0          0       0   23             2          1          0\n",
       "5      0      1          1       1   68             1          1          1\n",
       "7      0      0          0       1   46             1          1          1"
      ]
     },
     "execution_count": 10,
     "metadata": {},
     "output_type": "execute_result"
    }
   ],
   "source": [
    "# удаляем столбцы с типом данных \"object\"\n",
    "df = df.drop(['session_id', 'hit_date', 'referer_url', 'url', 'utm_source', 'utm_medium'], axis=1)\n",
    "df.head()"
   ]
  },
  {
   "cell_type": "code",
   "execution_count": 11,
   "id": "e41b1791",
   "metadata": {
    "execution": {
     "iopub.execute_input": "2022-09-25T06:37:01.686464Z",
     "iopub.status.busy": "2022-09-25T06:37:01.685443Z",
     "iopub.status.idle": "2022-09-25T06:37:01.725354Z",
     "shell.execute_reply": "2022-09-25T06:37:01.724285Z"
    },
    "papermill": {
     "duration": 0.052113,
     "end_time": "2022-09-25T06:37:01.727754",
     "exception": false,
     "start_time": "2022-09-25T06:37:01.675641",
     "status": "completed"
    },
    "tags": []
   },
   "outputs": [
    {
     "data": {
      "text/html": [
       "<div>\n",
       "<style scoped>\n",
       "    .dataframe tbody tr th:only-of-type {\n",
       "        vertical-align: middle;\n",
       "    }\n",
       "\n",
       "    .dataframe tbody tr th {\n",
       "        vertical-align: top;\n",
       "    }\n",
       "\n",
       "    .dataframe thead th {\n",
       "        text-align: right;\n",
       "    }\n",
       "</style>\n",
       "<table border=\"1\" class=\"dataframe\">\n",
       "  <thead>\n",
       "    <tr style=\"text-align: right;\">\n",
       "      <th></th>\n",
       "      <th>claim</th>\n",
       "      <th>60sec</th>\n",
       "      <th>scroll_90</th>\n",
       "      <th>age</th>\n",
       "      <th>touch_screen</th>\n",
       "      <th>has_vk_id</th>\n",
       "      <th>has_ok_id</th>\n",
       "    </tr>\n",
       "    <tr>\n",
       "      <th>gender</th>\n",
       "      <th></th>\n",
       "      <th></th>\n",
       "      <th></th>\n",
       "      <th></th>\n",
       "      <th></th>\n",
       "      <th></th>\n",
       "      <th></th>\n",
       "    </tr>\n",
       "  </thead>\n",
       "  <tbody>\n",
       "    <tr>\n",
       "      <th>0</th>\n",
       "      <td>185864</td>\n",
       "      <td>185864</td>\n",
       "      <td>185864</td>\n",
       "      <td>185864</td>\n",
       "      <td>185864</td>\n",
       "      <td>185864</td>\n",
       "      <td>185864</td>\n",
       "    </tr>\n",
       "    <tr>\n",
       "      <th>1</th>\n",
       "      <td>183389</td>\n",
       "      <td>183389</td>\n",
       "      <td>183389</td>\n",
       "      <td>183389</td>\n",
       "      <td>183389</td>\n",
       "      <td>183389</td>\n",
       "      <td>183389</td>\n",
       "    </tr>\n",
       "  </tbody>\n",
       "</table>\n",
       "</div>"
      ],
      "text/plain": [
       "         claim   60sec  scroll_90     age  touch_screen  has_vk_id  has_ok_id\n",
       "gender                                                                       \n",
       "0       185864  185864     185864  185864        185864     185864     185864\n",
       "1       183389  183389     183389  183389        183389     183389     183389"
      ]
     },
     "execution_count": 11,
     "metadata": {},
     "output_type": "execute_result"
    }
   ],
   "source": [
    "df.groupby('gender').count()"
   ]
  },
  {
   "cell_type": "code",
   "execution_count": 12,
   "id": "8e7d3e24",
   "metadata": {
    "execution": {
     "iopub.execute_input": "2022-09-25T06:37:01.747853Z",
     "iopub.status.busy": "2022-09-25T06:37:01.747466Z",
     "iopub.status.idle": "2022-09-25T06:37:02.439826Z",
     "shell.execute_reply": "2022-09-25T06:37:02.438514Z"
    },
    "papermill": {
     "duration": 0.70547,
     "end_time": "2022-09-25T06:37:02.442665",
     "exception": false,
     "start_time": "2022-09-25T06:37:01.737195",
     "status": "completed"
    },
    "tags": []
   },
   "outputs": [
    {
     "name": "stderr",
     "output_type": "stream",
     "text": [
      "/opt/conda/lib/python3.7/site-packages/ipykernel_launcher.py:2: DeprecationWarning: `np.bool` is a deprecated alias for the builtin `bool`. To silence this warning, use `bool` by itself. Doing this will not modify any behavior and is safe. If you specifically wanted the numpy scalar type, use `np.bool_` here.\n",
      "Deprecated in NumPy 1.20; for more details and guidance: https://numpy.org/devdocs/release/1.20.0-notes.html#deprecations\n",
      "  \n"
     ]
    },
    {
     "data": {
      "text/plain": [
       "<AxesSubplot:>"
      ]
     },
     "execution_count": 12,
     "metadata": {},
     "output_type": "execute_result"
    },
    {
     "data": {
      "image/png": "[encoded data removed]",
      "text/plain": [
       "<Figure size 720x360 with 2 Axes>"
      ]
     },
     "metadata": {
      "needs_background": "light"
     },
     "output_type": "display_data"
    }
   ],
   "source": [
    "# матрица корреляций\n",
    "cor_matrix_mask = np.triu(np.ones_like(df.corr(), dtype=np.bool))\n",
    "plt.figure(figsize=(10, 5))\n",
    "sns.heatmap(df.corr(), vmin=-1, vmax=1, mask=cor_matrix_mask, annot=True)"
   ]
  },
  {
   "cell_type": "markdown",
   "id": "2716b44d",
   "metadata": {
    "papermill": {
     "duration": 0.009967,
     "end_time": "2022-09-25T06:37:02.462818",
     "exception": false,
     "start_time": "2022-09-25T06:37:02.452851",
     "status": "completed"
    },
    "tags": []
   },
   "source": [
    "## Выводы:\n",
    "\n",
    "* часть признаков выражены числом, но по смыслу являются категориальными данными\n",
    "* в датасете есть пропущенные значения. Они выражены как \"неидентифицирован\" со значением категориального признака -1\n",
    "* признак возраста - непрерывная величина , но при этом неидентифицированные значения выражены как категория с признаком \"минуc единица\"\n",
    "* нужно почистить датасет: удалены столбцы типа 'object' и строки с неидентифицированными значениями\n",
    "* в итоге получаем сбалансированный по возрасту и полу датасет.\n",
    "* возрастной состав теперь похож на нормальное распределение\n",
    "* линейную регрессию можно применить для прогноза непрерывной величины. В данном дата сете таких две: дата сессии и возраст пользователя. В качестве таргета модели выберем возраст, потому что во-первых, признак сбалансирован и представлен широким диапазоном, во-вторых, в датасете данные собраны за 4 дня, а это слижком малый интервал для прогноза\n",
    "* признаки не нужно масштабировать, так как все фичи выражены либо единицей, либо двойкой\n",
    "* матрица корреляций показала слабые линейные зависимости от признаков друг от друга и от таргета. Значит, трудно выделить значимые фичи. Значит, нужно пробовать модели регуляризации регрессии\n"
   ]
  },
  {
   "cell_type": "markdown",
   "id": "35f46631",
   "metadata": {
    "papermill": {
     "duration": 0.00943,
     "end_time": "2022-09-25T06:37:02.481967",
     "exception": false,
     "start_time": "2022-09-25T06:37:02.472537",
     "status": "completed"
    },
    "tags": []
   },
   "source": [
    "## 2. Предобработка данных"
   ]
  },
  {
   "cell_type": "code",
   "execution_count": 13,
   "id": "1281f11b",
   "metadata": {
    "execution": {
     "iopub.execute_input": "2022-09-25T06:37:02.503575Z",
     "iopub.status.busy": "2022-09-25T06:37:02.502897Z",
     "iopub.status.idle": "2022-09-25T06:37:02.517089Z",
     "shell.execute_reply": "2022-09-25T06:37:02.516055Z"
    },
    "papermill": {
     "duration": 0.028003,
     "end_time": "2022-09-25T06:37:02.519612",
     "exception": false,
     "start_time": "2022-09-25T06:37:02.491609",
     "status": "completed"
    },
    "tags": []
   },
   "outputs": [],
   "source": [
    "#разделение на фичи и таргет\n",
    "df_target = df['age']\n",
    "df_features = df.drop(['age'], axis=1)"
   ]
  },
  {
   "cell_type": "code",
   "execution_count": 14,
   "id": "00a9225a",
   "metadata": {
    "execution": {
     "iopub.execute_input": "2022-09-25T06:37:02.541378Z",
     "iopub.status.busy": "2022-09-25T06:37:02.540692Z",
     "iopub.status.idle": "2022-09-25T06:37:02.799164Z",
     "shell.execute_reply": "2022-09-25T06:37:02.797861Z"
    },
    "papermill": {
     "duration": 0.272656,
     "end_time": "2022-09-25T06:37:02.801967",
     "exception": false,
     "start_time": "2022-09-25T06:37:02.529311",
     "status": "completed"
    },
    "tags": []
   },
   "outputs": [],
   "source": [
    "# разделение на трейн и тест\n",
    "from sklearn.model_selection import train_test_split\n",
    "X_train, X_test, y_train, y_test = train_test_split(df_features, df_target, test_size=0.2, random_state=42)"
   ]
  },
  {
   "cell_type": "markdown",
   "id": "bdd82271",
   "metadata": {
    "papermill": {
     "duration": 0.009207,
     "end_time": "2022-09-25T06:37:02.820778",
     "exception": false,
     "start_time": "2022-09-25T06:37:02.811571",
     "status": "completed"
    },
    "tags": []
   },
   "source": [
    "## 3. Обучение моделей"
   ]
  },
  {
   "cell_type": "code",
   "execution_count": 15,
   "id": "7b876e75",
   "metadata": {
    "execution": {
     "iopub.execute_input": "2022-09-25T06:37:02.841559Z",
     "iopub.status.busy": "2022-09-25T06:37:02.841161Z",
     "iopub.status.idle": "2022-09-25T06:37:02.993222Z",
     "shell.execute_reply": "2022-09-25T06:37:02.991987Z"
    },
    "papermill": {
     "duration": 0.166878,
     "end_time": "2022-09-25T06:37:02.997130",
     "exception": false,
     "start_time": "2022-09-25T06:37:02.830252",
     "status": "completed"
    },
    "tags": []
   },
   "outputs": [
    {
     "data": {
      "text/html": [
       "<div>\n",
       "<style scoped>\n",
       "    .dataframe tbody tr th:only-of-type {\n",
       "        vertical-align: middle;\n",
       "    }\n",
       "\n",
       "    .dataframe tbody tr th {\n",
       "        vertical-align: top;\n",
       "    }\n",
       "\n",
       "    .dataframe thead th {\n",
       "        text-align: right;\n",
       "    }\n",
       "</style>\n",
       "<table border=\"1\" class=\"dataframe\">\n",
       "  <thead>\n",
       "    <tr style=\"text-align: right;\">\n",
       "      <th></th>\n",
       "      <th>признак</th>\n",
       "      <th>вес</th>\n",
       "    </tr>\n",
       "  </thead>\n",
       "  <tbody>\n",
       "    <tr>\n",
       "      <th>0</th>\n",
       "      <td>claim</td>\n",
       "      <td>-2.343053</td>\n",
       "    </tr>\n",
       "    <tr>\n",
       "      <th>1</th>\n",
       "      <td>60sec</td>\n",
       "      <td>-0.330168</td>\n",
       "    </tr>\n",
       "    <tr>\n",
       "      <th>2</th>\n",
       "      <td>scroll_90</td>\n",
       "      <td>1.983206</td>\n",
       "    </tr>\n",
       "    <tr>\n",
       "      <th>3</th>\n",
       "      <td>gender</td>\n",
       "      <td>2.104712</td>\n",
       "    </tr>\n",
       "    <tr>\n",
       "      <th>4</th>\n",
       "      <td>touch_screen</td>\n",
       "      <td>1.731688</td>\n",
       "    </tr>\n",
       "    <tr>\n",
       "      <th>5</th>\n",
       "      <td>has_vk_id</td>\n",
       "      <td>-7.478413</td>\n",
       "    </tr>\n",
       "    <tr>\n",
       "      <th>6</th>\n",
       "      <td>has_ok_id</td>\n",
       "      <td>11.987852</td>\n",
       "    </tr>\n",
       "  </tbody>\n",
       "</table>\n",
       "</div>"
      ],
      "text/plain": [
       "        признак        вес\n",
       "0         claim  -2.343053\n",
       "1         60sec  -0.330168\n",
       "2     scroll_90   1.983206\n",
       "3        gender   2.104712\n",
       "4  touch_screen   1.731688\n",
       "5     has_vk_id  -7.478413\n",
       "6     has_ok_id  11.987852"
      ]
     },
     "execution_count": 15,
     "metadata": {},
     "output_type": "execute_result"
    }
   ],
   "source": [
    "# Линейная регрессия\n",
    "from sklearn.linear_model import LinearRegression\n",
    "lin_reg = LinearRegression()\n",
    "lin_reg.fit(X_train, y_train)\n",
    "y_pred_lr = lin_reg.predict(X_test)\n",
    "pd.DataFrame(zip(df_features.columns, lin_reg.coef_), columns=['признак', 'вес'])"
   ]
  },
  {
   "cell_type": "code",
   "execution_count": 16,
   "id": "55444caa",
   "metadata": {
    "execution": {
     "iopub.execute_input": "2022-09-25T06:37:03.053658Z",
     "iopub.status.busy": "2022-09-25T06:37:03.053089Z",
     "iopub.status.idle": "2022-09-25T06:37:03.157070Z",
     "shell.execute_reply": "2022-09-25T06:37:03.155651Z"
    },
    "papermill": {
     "duration": 0.13704,
     "end_time": "2022-09-25T06:37:03.160725",
     "exception": false,
     "start_time": "2022-09-25T06:37:03.023685",
     "status": "completed"
    },
    "tags": []
   },
   "outputs": [
    {
     "data": {
      "text/html": [
       "<div>\n",
       "<style scoped>\n",
       "    .dataframe tbody tr th:only-of-type {\n",
       "        vertical-align: middle;\n",
       "    }\n",
       "\n",
       "    .dataframe tbody tr th {\n",
       "        vertical-align: top;\n",
       "    }\n",
       "\n",
       "    .dataframe thead th {\n",
       "        text-align: right;\n",
       "    }\n",
       "</style>\n",
       "<table border=\"1\" class=\"dataframe\">\n",
       "  <thead>\n",
       "    <tr style=\"text-align: right;\">\n",
       "      <th></th>\n",
       "      <th>признак</th>\n",
       "      <th>вес</th>\n",
       "    </tr>\n",
       "  </thead>\n",
       "  <tbody>\n",
       "    <tr>\n",
       "      <th>0</th>\n",
       "      <td>claim</td>\n",
       "      <td>-0.000000</td>\n",
       "    </tr>\n",
       "    <tr>\n",
       "      <th>1</th>\n",
       "      <td>60sec</td>\n",
       "      <td>-0.000000</td>\n",
       "    </tr>\n",
       "    <tr>\n",
       "      <th>2</th>\n",
       "      <td>scroll_90</td>\n",
       "      <td>1.182545</td>\n",
       "    </tr>\n",
       "    <tr>\n",
       "      <th>3</th>\n",
       "      <td>gender</td>\n",
       "      <td>1.827138</td>\n",
       "    </tr>\n",
       "    <tr>\n",
       "      <th>4</th>\n",
       "      <td>touch_screen</td>\n",
       "      <td>1.572513</td>\n",
       "    </tr>\n",
       "    <tr>\n",
       "      <th>5</th>\n",
       "      <td>has_vk_id</td>\n",
       "      <td>-6.622217</td>\n",
       "    </tr>\n",
       "    <tr>\n",
       "      <th>6</th>\n",
       "      <td>has_ok_id</td>\n",
       "      <td>11.697759</td>\n",
       "    </tr>\n",
       "  </tbody>\n",
       "</table>\n",
       "</div>"
      ],
      "text/plain": [
       "        признак        вес\n",
       "0         claim  -0.000000\n",
       "1         60sec  -0.000000\n",
       "2     scroll_90   1.182545\n",
       "3        gender   1.827138\n",
       "4  touch_screen   1.572513\n",
       "5     has_vk_id  -6.622217\n",
       "6     has_ok_id  11.697759"
      ]
     },
     "execution_count": 16,
     "metadata": {},
     "output_type": "execute_result"
    }
   ],
   "source": [
    "# LASSO-регрессия\n",
    "from sklearn.linear_model import Lasso\n",
    "lasso_reg = Lasso(alpha=0.1)\n",
    "lasso_reg.fit(X_train, y_train)\n",
    "y_pred_ls = lasso_reg.predict(X_test)\n",
    "pd.DataFrame(zip(df_features.columns, lasso_reg.coef_), columns=['признак', 'вес'])"
   ]
  },
  {
   "cell_type": "code",
   "execution_count": 17,
   "id": "3f69fb2b",
   "metadata": {
    "execution": {
     "iopub.execute_input": "2022-09-25T06:37:03.224012Z",
     "iopub.status.busy": "2022-09-25T06:37:03.223292Z",
     "iopub.status.idle": "2022-09-25T06:37:03.283367Z",
     "shell.execute_reply": "2022-09-25T06:37:03.282127Z"
    },
    "papermill": {
     "duration": 0.105346,
     "end_time": "2022-09-25T06:37:03.286760",
     "exception": false,
     "start_time": "2022-09-25T06:37:03.181414",
     "status": "completed"
    },
    "tags": []
   },
   "outputs": [
    {
     "data": {
      "text/html": [
       "<div>\n",
       "<style scoped>\n",
       "    .dataframe tbody tr th:only-of-type {\n",
       "        vertical-align: middle;\n",
       "    }\n",
       "\n",
       "    .dataframe tbody tr th {\n",
       "        vertical-align: top;\n",
       "    }\n",
       "\n",
       "    .dataframe thead th {\n",
       "        text-align: right;\n",
       "    }\n",
       "</style>\n",
       "<table border=\"1\" class=\"dataframe\">\n",
       "  <thead>\n",
       "    <tr style=\"text-align: right;\">\n",
       "      <th></th>\n",
       "      <th>признак</th>\n",
       "      <th>вес</th>\n",
       "    </tr>\n",
       "  </thead>\n",
       "  <tbody>\n",
       "    <tr>\n",
       "      <th>0</th>\n",
       "      <td>claim</td>\n",
       "      <td>-2.337864</td>\n",
       "    </tr>\n",
       "    <tr>\n",
       "      <th>1</th>\n",
       "      <td>60sec</td>\n",
       "      <td>-0.330163</td>\n",
       "    </tr>\n",
       "    <tr>\n",
       "      <th>2</th>\n",
       "      <td>scroll_90</td>\n",
       "      <td>1.983182</td>\n",
       "    </tr>\n",
       "    <tr>\n",
       "      <th>3</th>\n",
       "      <td>gender</td>\n",
       "      <td>2.104717</td>\n",
       "    </tr>\n",
       "    <tr>\n",
       "      <th>4</th>\n",
       "      <td>touch_screen</td>\n",
       "      <td>1.731711</td>\n",
       "    </tr>\n",
       "    <tr>\n",
       "      <th>5</th>\n",
       "      <td>has_vk_id</td>\n",
       "      <td>-7.478292</td>\n",
       "    </tr>\n",
       "    <tr>\n",
       "      <th>6</th>\n",
       "      <td>has_ok_id</td>\n",
       "      <td>11.987764</td>\n",
       "    </tr>\n",
       "  </tbody>\n",
       "</table>\n",
       "</div>"
      ],
      "text/plain": [
       "        признак        вес\n",
       "0         claim  -2.337864\n",
       "1         60sec  -0.330163\n",
       "2     scroll_90   1.983182\n",
       "3        gender   2.104717\n",
       "4  touch_screen   1.731711\n",
       "5     has_vk_id  -7.478292\n",
       "6     has_ok_id  11.987764"
      ]
     },
     "execution_count": 17,
     "metadata": {},
     "output_type": "execute_result"
    }
   ],
   "source": [
    "# RIDGE-регрессия\n",
    "from sklearn.linear_model import Ridge\n",
    "ridge_reg = Ridge(0.5)\n",
    "ridge_reg.fit(X_train, y_train)\n",
    "y_pred_rr = ridge_reg.predict(X_test)\n",
    "pd.DataFrame(zip(df_features.columns, ridge_reg.coef_), columns=['признак', 'вес'])"
   ]
  },
  {
   "cell_type": "markdown",
   "id": "0abb2d71",
   "metadata": {
    "papermill": {
     "duration": 0.016108,
     "end_time": "2022-09-25T06:37:03.319438",
     "exception": false,
     "start_time": "2022-09-25T06:37:03.303330",
     "status": "completed"
    },
    "tags": []
   },
   "source": [
    "## 4. Оценка моделей"
   ]
  },
  {
   "cell_type": "code",
   "execution_count": 18,
   "id": "92ef9ba8",
   "metadata": {
    "execution": {
     "iopub.execute_input": "2022-09-25T06:37:03.356020Z",
     "iopub.status.busy": "2022-09-25T06:37:03.354538Z",
     "iopub.status.idle": "2022-09-25T06:37:03.369860Z",
     "shell.execute_reply": "2022-09-25T06:37:03.368517Z"
    },
    "papermill": {
     "duration": 0.036996,
     "end_time": "2022-09-25T06:37:03.373186",
     "exception": false,
     "start_time": "2022-09-25T06:37:03.336190",
     "status": "completed"
    },
    "tags": []
   },
   "outputs": [
    {
     "name": "stdout",
     "output_type": "stream",
     "text": [
      "R2 для линейной регрессии: 0.268258819418868\n",
      "R2 для LASSO-регрессии: 0.26627811058192974\n",
      "R2 для RIDGE-регрессии: 0.26825879304057076\n"
     ]
    }
   ],
   "source": [
    "from sklearn.metrics import r2_score\n",
    "print(f'R2 для линейной регрессии: {r2_score(y_test, y_pred_lr)}')\n",
    "print(f'R2 для LASSO-регрессии: {r2_score(y_test, y_pred_ls)}')\n",
    "print(f'R2 для RIDGE-регрессии: {r2_score(y_test, y_pred_rr)}')"
   ]
  },
  {
   "cell_type": "markdown",
   "id": "3d3b678a",
   "metadata": {
    "papermill": {
     "duration": 0.009938,
     "end_time": "2022-09-25T06:37:03.399407",
     "exception": false,
     "start_time": "2022-09-25T06:37:03.389469",
     "status": "completed"
    },
    "tags": []
   },
   "source": [
    "## Вывод: \n",
    "Наилучшее значение метрики получилось у модели обычной линейной регресии. В целом, все три модели линейной регрессии не подходят для предсказания таргета, так как у всех трех моделей получились низкие значения метрики"
   ]
  }
 ],
 "metadata": {
  "kernelspec": {
   "display_name": "Python 3",
   "language": "python",
   "name": "python3"
  },
  "language_info": {
   "codemirror_mode": {
    "name": "ipython",
    "version": 3
   },
   "file_extension": ".py",
   "mimetype": "text/x-python",
   "name": "python",
   "nbconvert_exporter": "python",
   "pygments_lexer": "ipython3",
   "version": "3.7.12"
  },
  "papermill": {
   "default_parameters": {},
   "duration": 21.408215,
   "end_time": "2022-09-25T06:37:04.232176",
   "environment_variables": {},
   "exception": null,
   "input_path": "__notebook__.ipynb",
   "output_path": "__notebook__.ipynb",
   "parameters": {},
   "start_time": "2022-09-25T06:36:42.823961",
   "version": "2.3.4"
  }
 },
 "nbformat": 4,
 "nbformat_minor": 5
}
